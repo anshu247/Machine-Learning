{
  "nbformat": 4,
  "nbformat_minor": 0,
  "metadata": {
    "colab": {
      "name": "Reinforcement learning | Q learning",
      "provenance": [],
      "collapsed_sections": []
    },
    "kernelspec": {
      "name": "python3",
      "display_name": "Python 3"
    }
  },
  "cells": [
    {
      "cell_type": "code",
      "metadata": {
        "id": "8uEgb5Dy5dHT",
        "colab": {
          "base_uri": "https://localhost:8080/",
          "height": 173
        },
        "outputId": "718b567f-0ce7-46d4-8bc3-e53301efd628"
      },
      "source": [
        "import numpy as np\n",
        "#R matrix\n",
        "R=np.matrix([[0,0,-1,-1,-1,-1,-1,-1],\n",
        "             [0,0,0,-1,-1,0,-1,-1],\n",
        "             [-1,0,0,0,-1,-1,-1,100],\n",
        "             [-1,-1,0,0,-1,-1,-1,-1],\n",
        "             [-1,-1,-1,-1,0,0,-1,-1],\n",
        "             [-1,0,-1,-1,-1,0,0,-1],\n",
        "             [-1,-1,-1,-1,-1,0,0,-1],\n",
        "             [-1,-1,0,-1,-1,-1,-1,100]])\n",
        "\n",
        "#Q matrix\n",
        "Q=np.matrix(np.zeros([8,8]))\n",
        "\n",
        "gamma=0.8\n",
        "initial_state=1\n",
        "\n",
        "#this function returns all available actions in the state given as an argument\n",
        "def available_actions(state):\n",
        "  current_state_row=R[state,]\n",
        "  av_act=np.where(current_state_row>=0)[1]\n",
        "  return av_act\n",
        "\n",
        "#get available actions in the current state\n",
        "available_act=available_actions(initial_state)\n",
        "\n",
        "\n",
        "#this function chooses at random which action to be performed within the range of all available actions\n",
        "def sample_next_action(available_actions_range):\n",
        "  next_action=int(np.random.choice(available_act,1))\n",
        "  return next_action\n",
        "\n",
        "\n",
        "#sample next action to be performed\n",
        "action=sample_next_action(available_act)\n",
        "\n",
        "#this function updates the Qmatrix according to the path selected and the Q learning algorithm\n",
        "def update(current_state,action,gamma):\n",
        "  max_index=np.where(Q[action,]==np.max(Q[action,]))[1]\n",
        "\n",
        "  if max_index.shape[0]>1:\n",
        "    max_index=int(np.random.choice(max_index,size=1))\n",
        "  else:\n",
        "    max_index=int(max_index)\n",
        "  max_value=Q[action, max_index]\n",
        "\n",
        "  #Q-learning formula\n",
        "  Q[current_state,action]=R[current_state,action]+gamma*max_value\n",
        "\n",
        "#update Q matrix\n",
        "update(initial_state,action,gamma)\n",
        "\n",
        "#Training\n",
        "#Train over 10,000 iterations\n",
        "for i in range(10000):\n",
        "  current_state=np.random.randint(0,int(Q.shape[0]))\n",
        "  available_act=available_actions(current_state)\n",
        "  action=sample_next_action(available_act)\n",
        "  update(current_state,action,gamma)\n",
        "\n",
        "\n",
        "#normalize the trained Q-matrix\n",
        "print(\"Trained Q matrix:\")\n",
        "print(Q/np.max(Q)*100)\n",
        "\n"
      ],
      "execution_count": null,
      "outputs": [
        {
          "output_type": "stream",
          "text": [
            "Trained Q matrix:\n",
            "[[ 51.2   64.     0.     0.     0.     0.     0.     0.  ]\n",
            " [ 51.2   64.    80.     0.     0.    51.2    0.     0.  ]\n",
            " [  0.    64.    80.    64.     0.     0.     0.   100.  ]\n",
            " [  0.     0.    80.    64.     0.     0.     0.     0.  ]\n",
            " [  0.     0.     0.     0.    40.96  51.2    0.     0.  ]\n",
            " [  0.    64.     0.     0.     0.    51.2   40.96   0.  ]\n",
            " [  0.     0.     0.     0.     0.    51.2   40.96   0.  ]\n",
            " [  0.     0.    80.     0.     0.     0.     0.   100.  ]]\n"
          ],
          "name": "stdout"
        }
      ]
    },
    {
      "cell_type": "code",
      "metadata": {
        "id": "sYiYBj6P6XeC",
        "colab": {
          "base_uri": "https://localhost:8080/",
          "height": 52
        },
        "outputId": "b45f3f60-168d-402a-f244-4e604b677d00"
      },
      "source": [
        "#Testing\n",
        "#goal state=5\n",
        "\n",
        "current_state=0\n",
        "steps=[current_state]\n",
        "# steps=[4]\n",
        "\n",
        "while current_state != 7:\n",
        "\n",
        "  next_step_index=np.where(Q[current_state,]==np.max(Q[current_state,]))[1]\n",
        "\n",
        "  if next_step_index.shape[0]>1:\n",
        "    next_step_index=int(np.random.choice(next_step_index,size=1))\n",
        "  else:\n",
        "    next_step_index=int(next_step_index)\n",
        "\n",
        "  steps.append(next_step_index)\n",
        "  current_state=next_step_index\n",
        "\n",
        "\n",
        "\n",
        "#print selected step sequence\n",
        "print (\"selected path:\")\n",
        "print (steps)\n",
        "\n"
      ],
      "execution_count": null,
      "outputs": [
        {
          "output_type": "stream",
          "text": [
            "selected path:\n",
            "[0, 1, 2, 7]\n"
          ],
          "name": "stdout"
        }
      ]
    },
    {
      "cell_type": "code",
      "metadata": {
        "id": "60wjM6QUAmLU",
        "colab": {
          "base_uri": "https://localhost:8080/",
          "height": 35
        },
        "outputId": "f88cc549-e3fa-4ff7-fa81-b033cac475e6"
      },
      "source": [
        "np.random.choice(5,size=1)"
      ],
      "execution_count": null,
      "outputs": [
        {
          "output_type": "execute_result",
          "data": {
            "text/plain": [
              "array([2])"
            ]
          },
          "metadata": {
            "tags": []
          },
          "execution_count": 24
        }
      ]
    },
    {
      "cell_type": "code",
      "metadata": {
        "id": "MBULMdgPE3TJ"
      },
      "source": [
        ""
      ],
      "execution_count": null,
      "outputs": []
    }
  ]
}