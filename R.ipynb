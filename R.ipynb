{
  "nbformat": 4,
  "nbformat_minor": 0,
  "metadata": {
    "colab": {
      "name": "Untitled3.ipynb",
      "provenance": [],
      "authorship_tag": "ABX9TyNqoLWBMpTiW//aTecPnACj",
      "include_colab_link": true
    },
    "kernelspec": {
      "name": "ir",
      "display_name": "R"
    },
    "language_info": {
      "name": "R"
    }
  },
  "cells": [
    {
      "cell_type": "markdown",
      "metadata": {
        "id": "view-in-github",
        "colab_type": "text"
      },
      "source": [
        "<a href=\"https://colab.research.google.com/github/anshu247/Machine-Learning/blob/master/R.ipynb\" target=\"_parent\"><img src=\"https://colab.research.google.com/assets/colab-badge.svg\" alt=\"Open In Colab\"/></a>"
      ]
    },
    {
      "cell_type": "code",
      "metadata": {
        "id": "Tji-NxayaKlf"
      },
      "source": [
        "makeCacheMatrix <- function(x = matrix()) {\n",
        "    i <- NULL\n",
        "  set <- function(y) {\n",
        "          x <<- y\n",
        "          i <<- NULL\n",
        "  }\n",
        "  get <- function() x\n",
        "  setinverse <- function(inverse) i <<- inverse\n",
        "  getinverse <- function() i\n",
        "  list(set = set,\n",
        "       get = get,\n",
        "       setinverse = setinverse,\n",
        "       getinverse = getinverse)\n",
        "}"
      ],
      "execution_count": 1,
      "outputs": []
    },
    {
      "cell_type": "code",
      "metadata": {
        "id": "tIP0hv4RaNgn"
      },
      "source": [
        "cacheSolve <- function(x, ...) {\n",
        "  i <- x$getinverse()\n",
        "  if (!is.null(i)) {\n",
        "          message(\"getting cached data\")\n",
        "          return(i)\n",
        "  }\n",
        "  data <- x$get()\n",
        "  i <- solve(data, ...)\n",
        "  x$setinverse(i)\n",
        "  i\n",
        "}"
      ],
      "execution_count": 2,
      "outputs": []
    },
    {
      "cell_type": "code",
      "metadata": {
        "id": "4qUIkZIQaUFz"
      },
      "source": [
        "B <- matrix(c(1,2,3,4),2,2)"
      ],
      "execution_count": 3,
      "outputs": []
    },
    {
      "cell_type": "code",
      "metadata": {
        "colab": {
          "base_uri": "https://localhost:8080/",
          "height": 131
        },
        "id": "laps_wYNaW5a",
        "outputId": "9f5926ea-82e8-4bd7-f13a-da05d746902c"
      },
      "source": [
        "B1 <- makeCacheMatrix(B)\n",
        "cacheSolve(B1)"
      ],
      "execution_count": 4,
      "outputs": [
        {
          "output_type": "display_data",
          "data": {
            "text/plain": [
              "     [,1] [,2]\n",
              "[1,] -2    1.5\n",
              "[2,]  1   -0.5"
            ],
            "text/latex": "A matrix: 2 × 2 of type dbl\n\\begin{tabular}{ll}\n\t -2 &  1.5\\\\\n\t  1 & -0.5\\\\\n\\end{tabular}\n",
            "text/markdown": "\nA matrix: 2 × 2 of type dbl\n\n| -2 |  1.5 |\n|  1 | -0.5 |\n\n",
            "text/html": [
              "<table class=\"dataframe\">\n",
              "<caption>A matrix: 2 × 2 of type dbl</caption>\n",
              "<tbody>\n",
              "\t<tr><td>-2</td><td> 1.5</td></tr>\n",
              "\t<tr><td> 1</td><td>-0.5</td></tr>\n",
              "</tbody>\n",
              "</table>\n"
            ]
          },
          "metadata": {
            "tags": []
          }
        }
      ]
    },
    {
      "cell_type": "code",
      "metadata": {
        "colab": {
          "base_uri": "https://localhost:8080/",
          "height": 165
        },
        "id": "UmoEDd17aYul",
        "outputId": "bad421e7-7796-4a48-8de8-c1f326d69a93"
      },
      "source": [
        "cacheSolve(B1)"
      ],
      "execution_count": 5,
      "outputs": [
        {
          "output_type": "stream",
          "text": [
            "getting cached data\n",
            "\n"
          ],
          "name": "stderr"
        },
        {
          "output_type": "display_data",
          "data": {
            "text/plain": [
              "     [,1] [,2]\n",
              "[1,] -2    1.5\n",
              "[2,]  1   -0.5"
            ],
            "text/latex": "A matrix: 2 × 2 of type dbl\n\\begin{tabular}{ll}\n\t -2 &  1.5\\\\\n\t  1 & -0.5\\\\\n\\end{tabular}\n",
            "text/markdown": "\nA matrix: 2 × 2 of type dbl\n\n| -2 |  1.5 |\n|  1 | -0.5 |\n\n",
            "text/html": [
              "<table class=\"dataframe\">\n",
              "<caption>A matrix: 2 × 2 of type dbl</caption>\n",
              "<tbody>\n",
              "\t<tr><td>-2</td><td> 1.5</td></tr>\n",
              "\t<tr><td> 1</td><td>-0.5</td></tr>\n",
              "</tbody>\n",
              "</table>\n"
            ]
          },
          "metadata": {
            "tags": []
          }
        }
      ]
    },
    {
      "cell_type": "code",
      "metadata": {
        "id": "xSH_ryBRabpg"
      },
      "source": [
        ""
      ],
      "execution_count": null,
      "outputs": []
    }
  ]
}