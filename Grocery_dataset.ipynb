{
  "nbformat": 4,
  "nbformat_minor": 0,
  "metadata": {
    "colab": {
      "name": "Grocery dataset",
      "provenance": [],
      "collapsed_sections": [],
      "authorship_tag": "ABX9TyPD5FfCc7LRBQCZW7UlSapP",
      "include_colab_link": true
    },
    "kernelspec": {
      "name": "python3",
      "display_name": "Python 3"
    }
  },
  "cells": [
    {
      "cell_type": "markdown",
      "metadata": {
        "id": "view-in-github",
        "colab_type": "text"
      },
      "source": [
        "<a href=\"https://colab.research.google.com/github/anshu247/Machine-Learning/blob/master/Grocery_dataset.ipynb\" target=\"_parent\"><img src=\"https://colab.research.google.com/assets/colab-badge.svg\" alt=\"Open In Colab\"/></a>"
      ]
    },
    {
      "cell_type": "markdown",
      "metadata": {
        "id": "l6aMgpwAuM3S"
      },
      "source": [
        "## **Association Rule - Apriori**\n",
        "\n",
        "\n"
      ]
    },
    {
      "cell_type": "code",
      "metadata": {
        "id": "Tu9kAnvkt61C",
        "outputId": "05ef559b-7dc7-4d77-b517-b355c9fe99b4",
        "colab": {
          "base_uri": "https://localhost:8080/",
          "height": 193
        }
      },
      "source": [
        "!pip install apyori"
      ],
      "execution_count": null,
      "outputs": [
        {
          "output_type": "stream",
          "text": [
            "Collecting apyori\n",
            "  Downloading https://files.pythonhosted.org/packages/5e/62/5ffde5c473ea4b033490617ec5caa80d59804875ad3c3c57c0976533a21a/apyori-1.1.2.tar.gz\n",
            "Building wheels for collected packages: apyori\n",
            "  Building wheel for apyori (setup.py) ... \u001b[?25l\u001b[?25hdone\n",
            "  Created wheel for apyori: filename=apyori-1.1.2-cp36-none-any.whl size=5975 sha256=625da4f09e24a433a7b670a34a8c2225ac0c7fcb8810f92c976f41443dabc8d2\n",
            "  Stored in directory: /root/.cache/pip/wheels/5d/92/bb/474bbadbc8c0062b9eb168f69982a0443263f8ab1711a8cad0\n",
            "Successfully built apyori\n",
            "Installing collected packages: apyori\n",
            "Successfully installed apyori-1.1.2\n"
          ],
          "name": "stdout"
        }
      ]
    },
    {
      "cell_type": "code",
      "metadata": {
        "id": "ANjZVgSJudMH"
      },
      "source": [
        "# Importing the libraries\n",
        "import numpy as np\n",
        "import matplotlib.pyplot as plt\n",
        "import pandas as pd\n",
        "from apyori import apriori"
      ],
      "execution_count": null,
      "outputs": []
    },
    {
      "cell_type": "code",
      "metadata": {
        "id": "5cwP5EN9ukDs"
      },
      "source": [
        "# Data Loading\n",
        "dataset = pd.read_csv('grocery.csv', header = None)"
      ],
      "execution_count": null,
      "outputs": []
    },
    {
      "cell_type": "code",
      "metadata": {
        "id": "1Twls_v1upgQ",
        "outputId": "3ad59f17-351a-4ecd-fb68-746db244cb09",
        "colab": {
          "base_uri": "https://localhost:8080/",
          "height": 141
        }
      },
      "source": [
        "dataset.head(3)"
      ],
      "execution_count": null,
      "outputs": [
        {
          "output_type": "execute_result",
          "data": {
            "text/html": [
              "<div>\n",
              "<style scoped>\n",
              "    .dataframe tbody tr th:only-of-type {\n",
              "        vertical-align: middle;\n",
              "    }\n",
              "\n",
              "    .dataframe tbody tr th {\n",
              "        vertical-align: top;\n",
              "    }\n",
              "\n",
              "    .dataframe thead th {\n",
              "        text-align: right;\n",
              "    }\n",
              "</style>\n",
              "<table border=\"1\" class=\"dataframe\">\n",
              "  <thead>\n",
              "    <tr style=\"text-align: right;\">\n",
              "      <th></th>\n",
              "      <th>0</th>\n",
              "    </tr>\n",
              "  </thead>\n",
              "  <tbody>\n",
              "    <tr>\n",
              "      <th>0</th>\n",
              "      <td>MILK,BREAD,BISCUIT</td>\n",
              "    </tr>\n",
              "    <tr>\n",
              "      <th>1</th>\n",
              "      <td>BREAD,MILK,BISCUIT,CORNFLAKES</td>\n",
              "    </tr>\n",
              "    <tr>\n",
              "      <th>2</th>\n",
              "      <td>BREAD,TEA,BOURNVITA</td>\n",
              "    </tr>\n",
              "  </tbody>\n",
              "</table>\n",
              "</div>"
            ],
            "text/plain": [
              "                               0\n",
              "0             MILK,BREAD,BISCUIT\n",
              "1  BREAD,MILK,BISCUIT,CORNFLAKES\n",
              "2            BREAD,TEA,BOURNVITA"
            ]
          },
          "metadata": {
            "tags": []
          },
          "execution_count": 4
        }
      ]
    },
    {
      "cell_type": "code",
      "metadata": {
        "id": "mn-DUoYWutx7"
      },
      "source": [
        "# Adding all customers into a list of lists\n",
        "transactions = []\n",
        "for i in range(0, len(dataset)):\n",
        "  transactions.append(dataset[0][i].split(\",\"))"
      ],
      "execution_count": null,
      "outputs": []
    },
    {
      "cell_type": "code",
      "metadata": {
        "id": "_BuX-k4Lv98-",
        "outputId": "92846df9-7b25-40fb-e7fc-70eef3106d53",
        "colab": {
          "base_uri": "https://localhost:8080/",
          "height": 364
        }
      },
      "source": [
        "transactions"
      ],
      "execution_count": null,
      "outputs": [
        {
          "output_type": "execute_result",
          "data": {
            "text/plain": [
              "[['MILK', 'BREAD', 'BISCUIT'],\n",
              " ['BREAD', 'MILK', 'BISCUIT', 'CORNFLAKES'],\n",
              " ['BREAD', 'TEA', 'BOURNVITA'],\n",
              " ['JAM', 'MAGGI', 'BREAD', 'MILK'],\n",
              " ['MAGGI', 'TEA', 'BISCUIT'],\n",
              " ['BREAD', 'TEA', 'BOURNVITA'],\n",
              " ['MAGGI', 'TEA', 'CORNFLAKES'],\n",
              " ['MAGGI', 'BREAD', 'TEA', 'BISCUIT'],\n",
              " ['JAM', 'MAGGI', 'BREAD', 'TEA'],\n",
              " ['BREAD', 'MILK'],\n",
              " ['COFFEE', 'MEAT', 'BISCUIT', 'CORNFLAKES'],\n",
              " ['COFFEE', 'MEAT', 'BISCUIT', 'CORNFLAKES'],\n",
              " ['COFFEE', 'SUGER', 'BOURNVITA'],\n",
              " ['BREAD', 'COFFEE', 'MEAT'],\n",
              " ['BREAD', 'SUGER', 'BISCUIT'],\n",
              " ['COFFEE', 'SUGER', 'CORNFLAKES'],\n",
              " ['BREAD', 'SUGER', 'BOURNVITA'],\n",
              " ['BREAD', 'COFFEE', 'SUGER'],\n",
              " ['BREAD', 'COFFEE', 'SUGER'],\n",
              " ['TEA', 'MILK', 'COFFEE', 'CORNFLAKES']]"
            ]
          },
          "metadata": {
            "tags": []
          },
          "execution_count": 24
        }
      ]
    },
    {
      "cell_type": "code",
      "metadata": {
        "id": "e07ZQd81ziAd"
      },
      "source": [
        "from apyori import apriori\n",
        "rules = apriori(transactions, min_support = 0.003, min_confidence = 0.2, min_lift = 3, min_length = 2)"
      ],
      "execution_count": null,
      "outputs": []
    },
    {
      "cell_type": "code",
      "metadata": {
        "id": "PsGwQFqBzyos"
      },
      "source": [
        "# Visualising the results\n",
        "results = list(rules)"
      ],
      "execution_count": null,
      "outputs": []
    },
    {
      "cell_type": "code",
      "metadata": {
        "id": "PiQDD6qdz3YF",
        "outputId": "988c92b3-6bd6-4cac-935f-188375f56462",
        "colab": {
          "base_uri": "https://localhost:8080/",
          "height": 401
        }
      },
      "source": [
        "results"
      ],
      "execution_count": null,
      "outputs": [
        {
          "output_type": "execute_result",
          "data": {
            "text/plain": [
              "[RelationRecord(items=frozenset({'MAGGI', 'JAM'}), support=0.1, ordered_statistics=[OrderedStatistic(items_base=frozenset({'JAM'}), items_add=frozenset({'MAGGI'}), confidence=1.0, lift=4.0), OrderedStatistic(items_base=frozenset({'MAGGI'}), items_add=frozenset({'JAM'}), confidence=0.4, lift=4.0)]),\n",
              " RelationRecord(items=frozenset({'BISCUIT', 'CORNFLAKES', 'COFFEE'}), support=0.1, ordered_statistics=[OrderedStatistic(items_base=frozenset({'CORNFLAKES'}), items_add=frozenset({'BISCUIT', 'COFFEE'}), confidence=0.33333333333333337, lift=3.3333333333333335), OrderedStatistic(items_base=frozenset({'BISCUIT', 'COFFEE'}), items_add=frozenset({'CORNFLAKES'}), confidence=1.0, lift=3.3333333333333335)]),\n",
              " RelationRecord(items=frozenset({'BISCUIT', 'MEAT', 'COFFEE'}), support=0.1, ordered_statistics=[OrderedStatistic(items_base=frozenset({'MEAT'}), items_add=frozenset({'BISCUIT', 'COFFEE'}), confidence=0.6666666666666667, lift=6.666666666666667), OrderedStatistic(items_base=frozenset({'BISCUIT', 'COFFEE'}), items_add=frozenset({'MEAT'}), confidence=1.0, lift=6.666666666666667)]),\n",
              " RelationRecord(items=frozenset({'BISCUIT', 'CORNFLAKES', 'MEAT'}), support=0.1, ordered_statistics=[OrderedStatistic(items_base=frozenset({'CORNFLAKES'}), items_add=frozenset({'BISCUIT', 'MEAT'}), confidence=0.33333333333333337, lift=3.3333333333333335), OrderedStatistic(items_base=frozenset({'MEAT'}), items_add=frozenset({'BISCUIT', 'CORNFLAKES'}), confidence=0.6666666666666667, lift=4.4444444444444455), OrderedStatistic(items_base=frozenset({'BISCUIT', 'CORNFLAKES'}), items_add=frozenset({'MEAT'}), confidence=0.6666666666666667, lift=4.4444444444444455), OrderedStatistic(items_base=frozenset({'BISCUIT', 'MEAT'}), items_add=frozenset({'CORNFLAKES'}), confidence=1.0, lift=3.3333333333333335)]),\n",
              " RelationRecord(items=frozenset({'BISCUIT', 'MAGGI', 'TEA'}), support=0.1, ordered_statistics=[OrderedStatistic(items_base=frozenset({'MAGGI'}), items_add=frozenset({'BISCUIT', 'TEA'}), confidence=0.4, lift=4.0), OrderedStatistic(items_base=frozenset({'BISCUIT', 'TEA'}), items_add=frozenset({'MAGGI'}), confidence=1.0, lift=4.0)]),\n",
              " RelationRecord(items=frozenset({'COFFEE', 'SUGER', 'BOURNVITA'}), support=0.05, ordered_statistics=[OrderedStatistic(items_base=frozenset({'COFFEE', 'BOURNVITA'}), items_add=frozenset({'SUGER'}), confidence=1.0, lift=3.3333333333333335)]),\n",
              " RelationRecord(items=frozenset({'CORNFLAKES', 'MILK', 'BREAD'}), support=0.05, ordered_statistics=[OrderedStatistic(items_base=frozenset({'MILK'}), items_add=frozenset({'CORNFLAKES', 'BREAD'}), confidence=0.2, lift=4.0), OrderedStatistic(items_base=frozenset({'CORNFLAKES', 'BREAD'}), items_add=frozenset({'MILK'}), confidence=1.0, lift=4.0)]),\n",
              " RelationRecord(items=frozenset({'MAGGI', 'JAM', 'BREAD'}), support=0.1, ordered_statistics=[OrderedStatistic(items_base=frozenset({'JAM'}), items_add=frozenset({'MAGGI', 'BREAD'}), confidence=1.0, lift=6.666666666666667), OrderedStatistic(items_base=frozenset({'MAGGI'}), items_add=frozenset({'JAM', 'BREAD'}), confidence=0.4, lift=4.0), OrderedStatistic(items_base=frozenset({'JAM', 'BREAD'}), items_add=frozenset({'MAGGI'}), confidence=1.0, lift=4.0), OrderedStatistic(items_base=frozenset({'MAGGI', 'BREAD'}), items_add=frozenset({'JAM'}), confidence=0.6666666666666667, lift=6.666666666666667)]),\n",
              " RelationRecord(items=frozenset({'CORNFLAKES', 'MEAT', 'COFFEE'}), support=0.1, ordered_statistics=[OrderedStatistic(items_base=frozenset({'MEAT'}), items_add=frozenset({'CORNFLAKES', 'COFFEE'}), confidence=0.6666666666666667, lift=3.3333333333333335), OrderedStatistic(items_base=frozenset({'CORNFLAKES', 'COFFEE'}), items_add=frozenset({'MEAT'}), confidence=0.5, lift=3.3333333333333335)]),\n",
              " RelationRecord(items=frozenset({'CORNFLAKES', 'MILK', 'COFFEE'}), support=0.05, ordered_statistics=[OrderedStatistic(items_base=frozenset({'MILK', 'COFFEE'}), items_add=frozenset({'CORNFLAKES'}), confidence=1.0, lift=3.3333333333333335)]),\n",
              " RelationRecord(items=frozenset({'CORNFLAKES', 'TEA', 'COFFEE'}), support=0.05, ordered_statistics=[OrderedStatistic(items_base=frozenset({'TEA', 'COFFEE'}), items_add=frozenset({'CORNFLAKES'}), confidence=1.0, lift=3.3333333333333335)]),\n",
              " RelationRecord(items=frozenset({'TEA', 'MILK', 'COFFEE'}), support=0.05, ordered_statistics=[OrderedStatistic(items_base=frozenset({'MILK'}), items_add=frozenset({'TEA', 'COFFEE'}), confidence=0.2, lift=4.0), OrderedStatistic(items_base=frozenset({'TEA', 'COFFEE'}), items_add=frozenset({'MILK'}), confidence=1.0, lift=4.0)]),\n",
              " RelationRecord(items=frozenset({'CORNFLAKES', 'TEA', 'MILK'}), support=0.05, ordered_statistics=[OrderedStatistic(items_base=frozenset({'TEA', 'MILK'}), items_add=frozenset({'CORNFLAKES'}), confidence=1.0, lift=3.3333333333333335)]),\n",
              " RelationRecord(items=frozenset({'MAGGI', 'MILK', 'JAM'}), support=0.05, ordered_statistics=[OrderedStatistic(items_base=frozenset({'JAM'}), items_add=frozenset({'MAGGI', 'MILK'}), confidence=0.5, lift=10.0), OrderedStatistic(items_base=frozenset({'MAGGI'}), items_add=frozenset({'MILK', 'JAM'}), confidence=0.2, lift=4.0), OrderedStatistic(items_base=frozenset({'MILK', 'JAM'}), items_add=frozenset({'MAGGI'}), confidence=1.0, lift=4.0), OrderedStatistic(items_base=frozenset({'MAGGI', 'MILK'}), items_add=frozenset({'JAM'}), confidence=1.0, lift=10.0)]),\n",
              " RelationRecord(items=frozenset({'MAGGI', 'TEA', 'JAM'}), support=0.05, ordered_statistics=[OrderedStatistic(items_base=frozenset({'MAGGI'}), items_add=frozenset({'TEA', 'JAM'}), confidence=0.2, lift=4.0), OrderedStatistic(items_base=frozenset({'TEA', 'JAM'}), items_add=frozenset({'MAGGI'}), confidence=1.0, lift=4.0)]),\n",
              " RelationRecord(items=frozenset({'BISCUIT', 'CORNFLAKES', 'MILK', 'BREAD'}), support=0.05, ordered_statistics=[OrderedStatistic(items_base=frozenset({'MILK'}), items_add=frozenset({'BISCUIT', 'CORNFLAKES', 'BREAD'}), confidence=0.2, lift=4.0), OrderedStatistic(items_base=frozenset({'BISCUIT', 'MILK'}), items_add=frozenset({'CORNFLAKES', 'BREAD'}), confidence=0.5, lift=10.0), OrderedStatistic(items_base=frozenset({'CORNFLAKES', 'BREAD'}), items_add=frozenset({'BISCUIT', 'MILK'}), confidence=1.0, lift=10.0), OrderedStatistic(items_base=frozenset({'BISCUIT', 'CORNFLAKES', 'BREAD'}), items_add=frozenset({'MILK'}), confidence=1.0, lift=4.0)]),\n",
              " RelationRecord(items=frozenset({'BISCUIT', 'MAGGI', 'TEA', 'BREAD'}), support=0.05, ordered_statistics=[OrderedStatistic(items_base=frozenset({'MAGGI'}), items_add=frozenset({'BISCUIT', 'TEA', 'BREAD'}), confidence=0.2, lift=4.0), OrderedStatistic(items_base=frozenset({'BISCUIT', 'TEA'}), items_add=frozenset({'MAGGI', 'BREAD'}), confidence=0.5, lift=3.3333333333333335), OrderedStatistic(items_base=frozenset({'MAGGI', 'BREAD'}), items_add=frozenset({'BISCUIT', 'TEA'}), confidence=0.33333333333333337, lift=3.3333333333333335), OrderedStatistic(items_base=frozenset({'BISCUIT', 'TEA', 'BREAD'}), items_add=frozenset({'MAGGI'}), confidence=1.0, lift=4.0)]),\n",
              " RelationRecord(items=frozenset({'BISCUIT', 'CORNFLAKES', 'MEAT', 'COFFEE'}), support=0.1, ordered_statistics=[OrderedStatistic(items_base=frozenset({'CORNFLAKES'}), items_add=frozenset({'BISCUIT', 'MEAT', 'COFFEE'}), confidence=0.33333333333333337, lift=3.3333333333333335), OrderedStatistic(items_base=frozenset({'MEAT'}), items_add=frozenset({'BISCUIT', 'CORNFLAKES', 'COFFEE'}), confidence=0.6666666666666667, lift=6.666666666666667), OrderedStatistic(items_base=frozenset({'BISCUIT', 'COFFEE'}), items_add=frozenset({'CORNFLAKES', 'MEAT'}), confidence=1.0, lift=10.0), OrderedStatistic(items_base=frozenset({'BISCUIT', 'CORNFLAKES'}), items_add=frozenset({'MEAT', 'COFFEE'}), confidence=0.6666666666666667, lift=4.4444444444444455), OrderedStatistic(items_base=frozenset({'BISCUIT', 'MEAT'}), items_add=frozenset({'CORNFLAKES', 'COFFEE'}), confidence=1.0, lift=5.0), OrderedStatistic(items_base=frozenset({'CORNFLAKES', 'COFFEE'}), items_add=frozenset({'BISCUIT', 'MEAT'}), confidence=0.5, lift=5.0), OrderedStatistic(items_base=frozenset({'MEAT', 'COFFEE'}), items_add=frozenset({'BISCUIT', 'CORNFLAKES'}), confidence=0.6666666666666667, lift=4.4444444444444455), OrderedStatistic(items_base=frozenset({'CORNFLAKES', 'MEAT'}), items_add=frozenset({'BISCUIT', 'COFFEE'}), confidence=1.0, lift=10.0), OrderedStatistic(items_base=frozenset({'BISCUIT', 'CORNFLAKES', 'COFFEE'}), items_add=frozenset({'MEAT'}), confidence=1.0, lift=6.666666666666667), OrderedStatistic(items_base=frozenset({'BISCUIT', 'MEAT', 'COFFEE'}), items_add=frozenset({'CORNFLAKES'}), confidence=1.0, lift=3.3333333333333335)]),\n",
              " RelationRecord(items=frozenset({'MAGGI', 'MILK', 'JAM', 'BREAD'}), support=0.05, ordered_statistics=[OrderedStatistic(items_base=frozenset({'JAM'}), items_add=frozenset({'MAGGI', 'MILK', 'BREAD'}), confidence=0.5, lift=10.0), OrderedStatistic(items_base=frozenset({'MAGGI'}), items_add=frozenset({'MILK', 'JAM', 'BREAD'}), confidence=0.2, lift=4.0), OrderedStatistic(items_base=frozenset({'JAM', 'BREAD'}), items_add=frozenset({'MAGGI', 'MILK'}), confidence=0.5, lift=10.0), OrderedStatistic(items_base=frozenset({'MAGGI', 'BREAD'}), items_add=frozenset({'MILK', 'JAM'}), confidence=0.33333333333333337, lift=6.666666666666667), OrderedStatistic(items_base=frozenset({'MILK', 'JAM'}), items_add=frozenset({'MAGGI', 'BREAD'}), confidence=1.0, lift=6.666666666666667), OrderedStatistic(items_base=frozenset({'MAGGI', 'MILK'}), items_add=frozenset({'JAM', 'BREAD'}), confidence=1.0, lift=10.0), OrderedStatistic(items_base=frozenset({'MILK', 'JAM', 'BREAD'}), items_add=frozenset({'MAGGI'}), confidence=1.0, lift=4.0), OrderedStatistic(items_base=frozenset({'MAGGI', 'MILK', 'BREAD'}), items_add=frozenset({'JAM'}), confidence=1.0, lift=10.0)]),\n",
              " RelationRecord(items=frozenset({'MAGGI', 'TEA', 'JAM', 'BREAD'}), support=0.05, ordered_statistics=[OrderedStatistic(items_base=frozenset({'JAM'}), items_add=frozenset({'MAGGI', 'TEA', 'BREAD'}), confidence=0.5, lift=5.0), OrderedStatistic(items_base=frozenset({'MAGGI'}), items_add=frozenset({'TEA', 'JAM', 'BREAD'}), confidence=0.2, lift=4.0), OrderedStatistic(items_base=frozenset({'MAGGI', 'BREAD'}), items_add=frozenset({'TEA', 'JAM'}), confidence=0.33333333333333337, lift=6.666666666666667), OrderedStatistic(items_base=frozenset({'TEA', 'JAM'}), items_add=frozenset({'MAGGI', 'BREAD'}), confidence=1.0, lift=6.666666666666667), OrderedStatistic(items_base=frozenset({'TEA', 'JAM', 'BREAD'}), items_add=frozenset({'MAGGI'}), confidence=1.0, lift=4.0), OrderedStatistic(items_base=frozenset({'MAGGI', 'TEA', 'BREAD'}), items_add=frozenset({'JAM'}), confidence=0.5, lift=5.0)]),\n",
              " RelationRecord(items=frozenset({'CORNFLAKES', 'TEA', 'MILK', 'COFFEE'}), support=0.05, ordered_statistics=[OrderedStatistic(items_base=frozenset({'MILK'}), items_add=frozenset({'CORNFLAKES', 'TEA', 'COFFEE'}), confidence=0.2, lift=4.0), OrderedStatistic(items_base=frozenset({'CORNFLAKES', 'COFFEE'}), items_add=frozenset({'TEA', 'MILK'}), confidence=0.25, lift=5.0), OrderedStatistic(items_base=frozenset({'MILK', 'COFFEE'}), items_add=frozenset({'CORNFLAKES', 'TEA'}), confidence=1.0, lift=10.0), OrderedStatistic(items_base=frozenset({'TEA', 'COFFEE'}), items_add=frozenset({'CORNFLAKES', 'MILK'}), confidence=1.0, lift=10.0), OrderedStatistic(items_base=frozenset({'CORNFLAKES', 'MILK'}), items_add=frozenset({'TEA', 'COFFEE'}), confidence=0.5, lift=10.0), OrderedStatistic(items_base=frozenset({'CORNFLAKES', 'TEA'}), items_add=frozenset({'MILK', 'COFFEE'}), confidence=0.5, lift=10.0), OrderedStatistic(items_base=frozenset({'TEA', 'MILK'}), items_add=frozenset({'CORNFLAKES', 'COFFEE'}), confidence=1.0, lift=5.0), OrderedStatistic(items_base=frozenset({'CORNFLAKES', 'TEA', 'COFFEE'}), items_add=frozenset({'MILK'}), confidence=1.0, lift=4.0), OrderedStatistic(items_base=frozenset({'TEA', 'MILK', 'COFFEE'}), items_add=frozenset({'CORNFLAKES'}), confidence=1.0, lift=3.3333333333333335)])]"
            ]
          },
          "metadata": {
            "tags": []
          },
          "execution_count": 27
        }
      ]
    },
    {
      "cell_type": "code",
      "metadata": {
        "id": "JL1y-RwHz4-8"
      },
      "source": [
        "lift = []\n",
        "association = []\n",
        "for i in range (0, len(results)):\n",
        "    lift.append(results[:len(results)][i][2][0][3])\n",
        "    association.append(list(results[:len(results)][i][0]))"
      ],
      "execution_count": null,
      "outputs": []
    },
    {
      "cell_type": "code",
      "metadata": {
        "id": "p9s8-rAQz8Wv"
      },
      "source": [
        "rank = pd.DataFrame([association, lift]).transpose()\n",
        "rank.columns = ['Association', 'Lift']"
      ],
      "execution_count": null,
      "outputs": []
    },
    {
      "cell_type": "code",
      "metadata": {
        "id": "v1HJL2qTz-eM",
        "outputId": "244890ef-0c56-43c6-d4ed-a26eb81718a4",
        "colab": {
          "base_uri": "https://localhost:8080/",
          "height": 355
        }
      },
      "source": [
        "# Show top 10 higher lift scores\n",
        "rank.sort_values('Lift', ascending=False).head(10)"
      ],
      "execution_count": null,
      "outputs": [
        {
          "output_type": "execute_result",
          "data": {
            "text/html": [
              "<div>\n",
              "<style scoped>\n",
              "    .dataframe tbody tr th:only-of-type {\n",
              "        vertical-align: middle;\n",
              "    }\n",
              "\n",
              "    .dataframe tbody tr th {\n",
              "        vertical-align: top;\n",
              "    }\n",
              "\n",
              "    .dataframe thead th {\n",
              "        text-align: right;\n",
              "    }\n",
              "</style>\n",
              "<table border=\"1\" class=\"dataframe\">\n",
              "  <thead>\n",
              "    <tr style=\"text-align: right;\">\n",
              "      <th></th>\n",
              "      <th>Association</th>\n",
              "      <th>Lift</th>\n",
              "    </tr>\n",
              "  </thead>\n",
              "  <tbody>\n",
              "    <tr>\n",
              "      <th>18</th>\n",
              "      <td>[MAGGI, MILK, JAM, BREAD]</td>\n",
              "      <td>10</td>\n",
              "    </tr>\n",
              "    <tr>\n",
              "      <th>13</th>\n",
              "      <td>[MAGGI, MILK, JAM]</td>\n",
              "      <td>10</td>\n",
              "    </tr>\n",
              "    <tr>\n",
              "      <th>2</th>\n",
              "      <td>[BISCUIT, MEAT, COFFEE]</td>\n",
              "      <td>6.66667</td>\n",
              "    </tr>\n",
              "    <tr>\n",
              "      <th>7</th>\n",
              "      <td>[MAGGI, JAM, BREAD]</td>\n",
              "      <td>6.66667</td>\n",
              "    </tr>\n",
              "    <tr>\n",
              "      <th>19</th>\n",
              "      <td>[MAGGI, TEA, JAM, BREAD]</td>\n",
              "      <td>5</td>\n",
              "    </tr>\n",
              "    <tr>\n",
              "      <th>0</th>\n",
              "      <td>[MAGGI, JAM]</td>\n",
              "      <td>4</td>\n",
              "    </tr>\n",
              "    <tr>\n",
              "      <th>11</th>\n",
              "      <td>[TEA, MILK, COFFEE]</td>\n",
              "      <td>4</td>\n",
              "    </tr>\n",
              "    <tr>\n",
              "      <th>16</th>\n",
              "      <td>[BISCUIT, MAGGI, TEA, BREAD]</td>\n",
              "      <td>4</td>\n",
              "    </tr>\n",
              "    <tr>\n",
              "      <th>15</th>\n",
              "      <td>[BISCUIT, CORNFLAKES, MILK, BREAD]</td>\n",
              "      <td>4</td>\n",
              "    </tr>\n",
              "    <tr>\n",
              "      <th>14</th>\n",
              "      <td>[MAGGI, TEA, JAM]</td>\n",
              "      <td>4</td>\n",
              "    </tr>\n",
              "  </tbody>\n",
              "</table>\n",
              "</div>"
            ],
            "text/plain": [
              "                           Association     Lift\n",
              "18           [MAGGI, MILK, JAM, BREAD]       10\n",
              "13                  [MAGGI, MILK, JAM]       10\n",
              "2              [BISCUIT, MEAT, COFFEE]  6.66667\n",
              "7                  [MAGGI, JAM, BREAD]  6.66667\n",
              "19            [MAGGI, TEA, JAM, BREAD]        5\n",
              "0                         [MAGGI, JAM]        4\n",
              "11                 [TEA, MILK, COFFEE]        4\n",
              "16        [BISCUIT, MAGGI, TEA, BREAD]        4\n",
              "15  [BISCUIT, CORNFLAKES, MILK, BREAD]        4\n",
              "14                   [MAGGI, TEA, JAM]        4"
            ]
          },
          "metadata": {
            "tags": []
          },
          "execution_count": 30
        }
      ]
    },
    {
      "cell_type": "markdown",
      "metadata": {
        "id": "QPvAELk70NYb"
      },
      "source": [
        "\n",
        "\n",
        "**Thank you**\n",
        "\n",
        "\n"
      ]
    }
  ]
}