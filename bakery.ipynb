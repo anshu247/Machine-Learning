{
  "nbformat": 4,
  "nbformat_minor": 0,
  "metadata": {
    "colab": {
      "name": "bakery.ipynb",
      "provenance": [],
      "collapsed_sections": [],
      "toc_visible": true
    },
    "kernelspec": {
      "name": "python3",
      "display_name": "Python 3"
    },
    "widgets": {
      "application/vnd.jupyter.widget-state+json": {
        "a7d084c3ad164520885c6e93b74580dd": {
          "model_module": "@jupyter-widgets/controls",
          "model_name": "HBoxModel",
          "state": {
            "_view_name": "HBoxView",
            "_dom_classes": [],
            "_model_name": "HBoxModel",
            "_view_module": "@jupyter-widgets/controls",
            "_model_module_version": "1.5.0",
            "_view_count": null,
            "_view_module_version": "1.5.0",
            "box_style": "",
            "layout": "IPY_MODEL_7b0a0cbce7634e68b3d0e72c971e6447",
            "_model_module": "@jupyter-widgets/controls",
            "children": [
              "IPY_MODEL_997cb65936df4aeebe9918e4e1c86a86",
              "IPY_MODEL_e04da09fc0e349f2aef65566afac3495",
              "IPY_MODEL_9bdd2000d1f5450fb55421cdd7515369"
            ]
          }
        },
        "7b0a0cbce7634e68b3d0e72c971e6447": {
          "model_module": "@jupyter-widgets/base",
          "model_name": "LayoutModel",
          "state": {
            "_view_name": "LayoutView",
            "grid_template_rows": null,
            "right": null,
            "justify_content": null,
            "_view_module": "@jupyter-widgets/base",
            "overflow": null,
            "_model_module_version": "1.2.0",
            "_view_count": null,
            "flex_flow": null,
            "width": null,
            "min_width": null,
            "border": null,
            "align_items": null,
            "bottom": null,
            "_model_module": "@jupyter-widgets/base",
            "top": null,
            "grid_column": null,
            "overflow_y": null,
            "overflow_x": null,
            "grid_auto_flow": null,
            "grid_area": null,
            "grid_template_columns": null,
            "flex": null,
            "_model_name": "LayoutModel",
            "justify_items": null,
            "grid_row": null,
            "max_height": null,
            "align_content": null,
            "visibility": null,
            "align_self": null,
            "height": null,
            "min_height": null,
            "padding": null,
            "grid_auto_rows": null,
            "grid_gap": null,
            "max_width": null,
            "order": null,
            "_view_module_version": "1.2.0",
            "grid_template_areas": null,
            "object_position": null,
            "object_fit": null,
            "grid_auto_columns": null,
            "margin": null,
            "display": null,
            "left": null
          }
        },
        "997cb65936df4aeebe9918e4e1c86a86": {
          "model_module": "@jupyter-widgets/controls",
          "model_name": "HTMLModel",
          "state": {
            "_view_name": "HTMLView",
            "style": "IPY_MODEL_8f598676896c488fad90e5cfd6fe60bc",
            "_dom_classes": [],
            "description": "",
            "_model_name": "HTMLModel",
            "placeholder": "​",
            "_view_module": "@jupyter-widgets/controls",
            "_model_module_version": "1.5.0",
            "value": "Summarize dataset: 100%",
            "_view_count": null,
            "_view_module_version": "1.5.0",
            "description_tooltip": null,
            "_model_module": "@jupyter-widgets/controls",
            "layout": "IPY_MODEL_fcaca5e6e8eb483a80266011407b4146"
          }
        },
        "e04da09fc0e349f2aef65566afac3495": {
          "model_module": "@jupyter-widgets/controls",
          "model_name": "FloatProgressModel",
          "state": {
            "_view_name": "ProgressView",
            "style": "IPY_MODEL_de0bf1a3d3b7402dad205d9ff0e04c56",
            "_dom_classes": [],
            "description": "",
            "_model_name": "FloatProgressModel",
            "bar_style": "success",
            "max": 18,
            "_view_module": "@jupyter-widgets/controls",
            "_model_module_version": "1.5.0",
            "value": 18,
            "_view_count": null,
            "_view_module_version": "1.5.0",
            "orientation": "horizontal",
            "min": 0,
            "description_tooltip": null,
            "_model_module": "@jupyter-widgets/controls",
            "layout": "IPY_MODEL_836979a86ef84d83a0652e48b778f5cc"
          }
        },
        "9bdd2000d1f5450fb55421cdd7515369": {
          "model_module": "@jupyter-widgets/controls",
          "model_name": "HTMLModel",
          "state": {
            "_view_name": "HTMLView",
            "style": "IPY_MODEL_8d36c5e662fa4b7f88cb6b7a84de9e7f",
            "_dom_classes": [],
            "description": "",
            "_model_name": "HTMLModel",
            "placeholder": "​",
            "_view_module": "@jupyter-widgets/controls",
            "_model_module_version": "1.5.0",
            "value": " 18/18 [02:14&lt;00:00,  7.44s/it, Completed]",
            "_view_count": null,
            "_view_module_version": "1.5.0",
            "description_tooltip": null,
            "_model_module": "@jupyter-widgets/controls",
            "layout": "IPY_MODEL_cbc30fa553f944eb8f81e9858861efa4"
          }
        },
        "8f598676896c488fad90e5cfd6fe60bc": {
          "model_module": "@jupyter-widgets/controls",
          "model_name": "DescriptionStyleModel",
          "state": {
            "_view_name": "StyleView",
            "_model_name": "DescriptionStyleModel",
            "description_width": "",
            "_view_module": "@jupyter-widgets/base",
            "_model_module_version": "1.5.0",
            "_view_count": null,
            "_view_module_version": "1.2.0",
            "_model_module": "@jupyter-widgets/controls"
          }
        },
        "fcaca5e6e8eb483a80266011407b4146": {
          "model_module": "@jupyter-widgets/base",
          "model_name": "LayoutModel",
          "state": {
            "_view_name": "LayoutView",
            "grid_template_rows": null,
            "right": null,
            "justify_content": null,
            "_view_module": "@jupyter-widgets/base",
            "overflow": null,
            "_model_module_version": "1.2.0",
            "_view_count": null,
            "flex_flow": null,
            "width": null,
            "min_width": null,
            "border": null,
            "align_items": null,
            "bottom": null,
            "_model_module": "@jupyter-widgets/base",
            "top": null,
            "grid_column": null,
            "overflow_y": null,
            "overflow_x": null,
            "grid_auto_flow": null,
            "grid_area": null,
            "grid_template_columns": null,
            "flex": null,
            "_model_name": "LayoutModel",
            "justify_items": null,
            "grid_row": null,
            "max_height": null,
            "align_content": null,
            "visibility": null,
            "align_self": null,
            "height": null,
            "min_height": null,
            "padding": null,
            "grid_auto_rows": null,
            "grid_gap": null,
            "max_width": null,
            "order": null,
            "_view_module_version": "1.2.0",
            "grid_template_areas": null,
            "object_position": null,
            "object_fit": null,
            "grid_auto_columns": null,
            "margin": null,
            "display": null,
            "left": null
          }
        },
        "de0bf1a3d3b7402dad205d9ff0e04c56": {
          "model_module": "@jupyter-widgets/controls",
          "model_name": "ProgressStyleModel",
          "state": {
            "_view_name": "StyleView",
            "_model_name": "ProgressStyleModel",
            "description_width": "",
            "_view_module": "@jupyter-widgets/base",
            "_model_module_version": "1.5.0",
            "_view_count": null,
            "_view_module_version": "1.2.0",
            "bar_color": null,
            "_model_module": "@jupyter-widgets/controls"
          }
        },
        "836979a86ef84d83a0652e48b778f5cc": {
          "model_module": "@jupyter-widgets/base",
          "model_name": "LayoutModel",
          "state": {
            "_view_name": "LayoutView",
            "grid_template_rows": null,
            "right": null,
            "justify_content": null,
            "_view_module": "@jupyter-widgets/base",
            "overflow": null,
            "_model_module_version": "1.2.0",
            "_view_count": null,
            "flex_flow": null,
            "width": null,
            "min_width": null,
            "border": null,
            "align_items": null,
            "bottom": null,
            "_model_module": "@jupyter-widgets/base",
            "top": null,
            "grid_column": null,
            "overflow_y": null,
            "overflow_x": null,
            "grid_auto_flow": null,
            "grid_area": null,
            "grid_template_columns": null,
            "flex": null,
            "_model_name": "LayoutModel",
            "justify_items": null,
            "grid_row": null,
            "max_height": null,
            "align_content": null,
            "visibility": null,
            "align_self": null,
            "height": null,
            "min_height": null,
            "padding": null,
            "grid_auto_rows": null,
            "grid_gap": null,
            "max_width": null,
            "order": null,
            "_view_module_version": "1.2.0",
            "grid_template_areas": null,
            "object_position": null,
            "object_fit": null,
            "grid_auto_columns": null,
            "margin": null,
            "display": null,
            "left": null
          }
        },
        "8d36c5e662fa4b7f88cb6b7a84de9e7f": {
          "model_module": "@jupyter-widgets/controls",
          "model_name": "DescriptionStyleModel",
          "state": {
            "_view_name": "StyleView",
            "_model_name": "DescriptionStyleModel",
            "description_width": "",
            "_view_module": "@jupyter-widgets/base",
            "_model_module_version": "1.5.0",
            "_view_count": null,
            "_view_module_version": "1.2.0",
            "_model_module": "@jupyter-widgets/controls"
          }
        },
        "cbc30fa553f944eb8f81e9858861efa4": {
          "model_module": "@jupyter-widgets/base",
          "model_name": "LayoutModel",
          "state": {
            "_view_name": "LayoutView",
            "grid_template_rows": null,
            "right": null,
            "justify_content": null,
            "_view_module": "@jupyter-widgets/base",
            "overflow": null,
            "_model_module_version": "1.2.0",
            "_view_count": null,
            "flex_flow": null,
            "width": null,
            "min_width": null,
            "border": null,
            "align_items": null,
            "bottom": null,
            "_model_module": "@jupyter-widgets/base",
            "top": null,
            "grid_column": null,
            "overflow_y": null,
            "overflow_x": null,
            "grid_auto_flow": null,
            "grid_area": null,
            "grid_template_columns": null,
            "flex": null,
            "_model_name": "LayoutModel",
            "justify_items": null,
            "grid_row": null,
            "max_height": null,
            "align_content": null,
            "visibility": null,
            "align_self": null,
            "height": null,
            "min_height": null,
            "padding": null,
            "grid_auto_rows": null,
            "grid_gap": null,
            "max_width": null,
            "order": null,
            "_view_module_version": "1.2.0",
            "grid_template_areas": null,
            "object_position": null,
            "object_fit": null,
            "grid_auto_columns": null,
            "margin": null,
            "display": null,
            "left": null
          }
        },
        "39b6b4fa703941a38c1823bd1614da2a": {
          "model_module": "@jupyter-widgets/controls",
          "model_name": "HBoxModel",
          "state": {
            "_view_name": "HBoxView",
            "_dom_classes": [],
            "_model_name": "HBoxModel",
            "_view_module": "@jupyter-widgets/controls",
            "_model_module_version": "1.5.0",
            "_view_count": null,
            "_view_module_version": "1.5.0",
            "box_style": "",
            "layout": "IPY_MODEL_cfd822afb3e6436fb6b6401a5a1a9aa2",
            "_model_module": "@jupyter-widgets/controls",
            "children": [
              "IPY_MODEL_bd32aa3ed0f745d8a2b976a5e3cb2b7e",
              "IPY_MODEL_ca603b797c174992bc2d930053f13b86",
              "IPY_MODEL_5494279f193a4ca99cd19d989abca46b"
            ]
          }
        },
        "cfd822afb3e6436fb6b6401a5a1a9aa2": {
          "model_module": "@jupyter-widgets/base",
          "model_name": "LayoutModel",
          "state": {
            "_view_name": "LayoutView",
            "grid_template_rows": null,
            "right": null,
            "justify_content": null,
            "_view_module": "@jupyter-widgets/base",
            "overflow": null,
            "_model_module_version": "1.2.0",
            "_view_count": null,
            "flex_flow": null,
            "width": null,
            "min_width": null,
            "border": null,
            "align_items": null,
            "bottom": null,
            "_model_module": "@jupyter-widgets/base",
            "top": null,
            "grid_column": null,
            "overflow_y": null,
            "overflow_x": null,
            "grid_auto_flow": null,
            "grid_area": null,
            "grid_template_columns": null,
            "flex": null,
            "_model_name": "LayoutModel",
            "justify_items": null,
            "grid_row": null,
            "max_height": null,
            "align_content": null,
            "visibility": null,
            "align_self": null,
            "height": null,
            "min_height": null,
            "padding": null,
            "grid_auto_rows": null,
            "grid_gap": null,
            "max_width": null,
            "order": null,
            "_view_module_version": "1.2.0",
            "grid_template_areas": null,
            "object_position": null,
            "object_fit": null,
            "grid_auto_columns": null,
            "margin": null,
            "display": null,
            "left": null
          }
        },
        "bd32aa3ed0f745d8a2b976a5e3cb2b7e": {
          "model_module": "@jupyter-widgets/controls",
          "model_name": "HTMLModel",
          "state": {
            "_view_name": "HTMLView",
            "style": "IPY_MODEL_b81060be70064deda9ae0970777e6925",
            "_dom_classes": [],
            "description": "",
            "_model_name": "HTMLModel",
            "placeholder": "​",
            "_view_module": "@jupyter-widgets/controls",
            "_model_module_version": "1.5.0",
            "value": "Generate report structure: 100%",
            "_view_count": null,
            "_view_module_version": "1.5.0",
            "description_tooltip": null,
            "_model_module": "@jupyter-widgets/controls",
            "layout": "IPY_MODEL_7b16000b1d344c62b96dc9b42c0a7a58"
          }
        },
        "ca603b797c174992bc2d930053f13b86": {
          "model_module": "@jupyter-widgets/controls",
          "model_name": "FloatProgressModel",
          "state": {
            "_view_name": "ProgressView",
            "style": "IPY_MODEL_6b84a0d7d85841b285f17fca11644c61",
            "_dom_classes": [],
            "description": "",
            "_model_name": "FloatProgressModel",
            "bar_style": "success",
            "max": 1,
            "_view_module": "@jupyter-widgets/controls",
            "_model_module_version": "1.5.0",
            "value": 1,
            "_view_count": null,
            "_view_module_version": "1.5.0",
            "orientation": "horizontal",
            "min": 0,
            "description_tooltip": null,
            "_model_module": "@jupyter-widgets/controls",
            "layout": "IPY_MODEL_45612569a4144c908771f3a4c5e9c39b"
          }
        },
        "5494279f193a4ca99cd19d989abca46b": {
          "model_module": "@jupyter-widgets/controls",
          "model_name": "HTMLModel",
          "state": {
            "_view_name": "HTMLView",
            "style": "IPY_MODEL_c6eb7fa815044e1f92623994d15892f4",
            "_dom_classes": [],
            "description": "",
            "_model_name": "HTMLModel",
            "placeholder": "​",
            "_view_module": "@jupyter-widgets/controls",
            "_model_module_version": "1.5.0",
            "value": " 1/1 [02:10&lt;00:00, 130.80s/it]",
            "_view_count": null,
            "_view_module_version": "1.5.0",
            "description_tooltip": null,
            "_model_module": "@jupyter-widgets/controls",
            "layout": "IPY_MODEL_e24ece30aab244c1a7c59e8007700deb"
          }
        },
        "b81060be70064deda9ae0970777e6925": {
          "model_module": "@jupyter-widgets/controls",
          "model_name": "DescriptionStyleModel",
          "state": {
            "_view_name": "StyleView",
            "_model_name": "DescriptionStyleModel",
            "description_width": "",
            "_view_module": "@jupyter-widgets/base",
            "_model_module_version": "1.5.0",
            "_view_count": null,
            "_view_module_version": "1.2.0",
            "_model_module": "@jupyter-widgets/controls"
          }
        },
        "7b16000b1d344c62b96dc9b42c0a7a58": {
          "model_module": "@jupyter-widgets/base",
          "model_name": "LayoutModel",
          "state": {
            "_view_name": "LayoutView",
            "grid_template_rows": null,
            "right": null,
            "justify_content": null,
            "_view_module": "@jupyter-widgets/base",
            "overflow": null,
            "_model_module_version": "1.2.0",
            "_view_count": null,
            "flex_flow": null,
            "width": null,
            "min_width": null,
            "border": null,
            "align_items": null,
            "bottom": null,
            "_model_module": "@jupyter-widgets/base",
            "top": null,
            "grid_column": null,
            "overflow_y": null,
            "overflow_x": null,
            "grid_auto_flow": null,
            "grid_area": null,
            "grid_template_columns": null,
            "flex": null,
            "_model_name": "LayoutModel",
            "justify_items": null,
            "grid_row": null,
            "max_height": null,
            "align_content": null,
            "visibility": null,
            "align_self": null,
            "height": null,
            "min_height": null,
            "padding": null,
            "grid_auto_rows": null,
            "grid_gap": null,
            "max_width": null,
            "order": null,
            "_view_module_version": "1.2.0",
            "grid_template_areas": null,
            "object_position": null,
            "object_fit": null,
            "grid_auto_columns": null,
            "margin": null,
            "display": null,
            "left": null
          }
        },
        "6b84a0d7d85841b285f17fca11644c61": {
          "model_module": "@jupyter-widgets/controls",
          "model_name": "ProgressStyleModel",
          "state": {
            "_view_name": "StyleView",
            "_model_name": "ProgressStyleModel",
            "description_width": "",
            "_view_module": "@jupyter-widgets/base",
            "_model_module_version": "1.5.0",
            "_view_count": null,
            "_view_module_version": "1.2.0",
            "bar_color": null,
            "_model_module": "@jupyter-widgets/controls"
          }
        },
        "45612569a4144c908771f3a4c5e9c39b": {
          "model_module": "@jupyter-widgets/base",
          "model_name": "LayoutModel",
          "state": {
            "_view_name": "LayoutView",
            "grid_template_rows": null,
            "right": null,
            "justify_content": null,
            "_view_module": "@jupyter-widgets/base",
            "overflow": null,
            "_model_module_version": "1.2.0",
            "_view_count": null,
            "flex_flow": null,
            "width": null,
            "min_width": null,
            "border": null,
            "align_items": null,
            "bottom": null,
            "_model_module": "@jupyter-widgets/base",
            "top": null,
            "grid_column": null,
            "overflow_y": null,
            "overflow_x": null,
            "grid_auto_flow": null,
            "grid_area": null,
            "grid_template_columns": null,
            "flex": null,
            "_model_name": "LayoutModel",
            "justify_items": null,
            "grid_row": null,
            "max_height": null,
            "align_content": null,
            "visibility": null,
            "align_self": null,
            "height": null,
            "min_height": null,
            "padding": null,
            "grid_auto_rows": null,
            "grid_gap": null,
            "max_width": null,
            "order": null,
            "_view_module_version": "1.2.0",
            "grid_template_areas": null,
            "object_position": null,
            "object_fit": null,
            "grid_auto_columns": null,
            "margin": null,
            "display": null,
            "left": null
          }
        },
        "c6eb7fa815044e1f92623994d15892f4": {
          "model_module": "@jupyter-widgets/controls",
          "model_name": "DescriptionStyleModel",
          "state": {
            "_view_name": "StyleView",
            "_model_name": "DescriptionStyleModel",
            "description_width": "",
            "_view_module": "@jupyter-widgets/base",
            "_model_module_version": "1.5.0",
            "_view_count": null,
            "_view_module_version": "1.2.0",
            "_model_module": "@jupyter-widgets/controls"
          }
        },
        "e24ece30aab244c1a7c59e8007700deb": {
          "model_module": "@jupyter-widgets/base",
          "model_name": "LayoutModel",
          "state": {
            "_view_name": "LayoutView",
            "grid_template_rows": null,
            "right": null,
            "justify_content": null,
            "_view_module": "@jupyter-widgets/base",
            "overflow": null,
            "_model_module_version": "1.2.0",
            "_view_count": null,
            "flex_flow": null,
            "width": null,
            "min_width": null,
            "border": null,
            "align_items": null,
            "bottom": null,
            "_model_module": "@jupyter-widgets/base",
            "top": null,
            "grid_column": null,
            "overflow_y": null,
            "overflow_x": null,
            "grid_auto_flow": null,
            "grid_area": null,
            "grid_template_columns": null,
            "flex": null,
            "_model_name": "LayoutModel",
            "justify_items": null,
            "grid_row": null,
            "max_height": null,
            "align_content": null,
            "visibility": null,
            "align_self": null,
            "height": null,
            "min_height": null,
            "padding": null,
            "grid_auto_rows": null,
            "grid_gap": null,
            "max_width": null,
            "order": null,
            "_view_module_version": "1.2.0",
            "grid_template_areas": null,
            "object_position": null,
            "object_fit": null,
            "grid_auto_columns": null,
            "margin": null,
            "display": null,
            "left": null
          }
        },
        "a688b28b237e4e38b07fe86bc20c3a63": {
          "model_module": "@jupyter-widgets/controls",
          "model_name": "HBoxModel",
          "state": {
            "_view_name": "HBoxView",
            "_dom_classes": [],
            "_model_name": "HBoxModel",
            "_view_module": "@jupyter-widgets/controls",
            "_model_module_version": "1.5.0",
            "_view_count": null,
            "_view_module_version": "1.5.0",
            "box_style": "",
            "layout": "IPY_MODEL_79954e5575164882a6cbdfc1d8a2d937",
            "_model_module": "@jupyter-widgets/controls",
            "children": [
              "IPY_MODEL_06211faaddf7447388983c91a6a11416",
              "IPY_MODEL_676698089a884f59ae9ae4c3794a76e9",
              "IPY_MODEL_30ea722120254c5e89f6dfad432c88f2"
            ]
          }
        },
        "79954e5575164882a6cbdfc1d8a2d937": {
          "model_module": "@jupyter-widgets/base",
          "model_name": "LayoutModel",
          "state": {
            "_view_name": "LayoutView",
            "grid_template_rows": null,
            "right": null,
            "justify_content": null,
            "_view_module": "@jupyter-widgets/base",
            "overflow": null,
            "_model_module_version": "1.2.0",
            "_view_count": null,
            "flex_flow": null,
            "width": null,
            "min_width": null,
            "border": null,
            "align_items": null,
            "bottom": null,
            "_model_module": "@jupyter-widgets/base",
            "top": null,
            "grid_column": null,
            "overflow_y": null,
            "overflow_x": null,
            "grid_auto_flow": null,
            "grid_area": null,
            "grid_template_columns": null,
            "flex": null,
            "_model_name": "LayoutModel",
            "justify_items": null,
            "grid_row": null,
            "max_height": null,
            "align_content": null,
            "visibility": null,
            "align_self": null,
            "height": null,
            "min_height": null,
            "padding": null,
            "grid_auto_rows": null,
            "grid_gap": null,
            "max_width": null,
            "order": null,
            "_view_module_version": "1.2.0",
            "grid_template_areas": null,
            "object_position": null,
            "object_fit": null,
            "grid_auto_columns": null,
            "margin": null,
            "display": null,
            "left": null
          }
        },
        "06211faaddf7447388983c91a6a11416": {
          "model_module": "@jupyter-widgets/controls",
          "model_name": "HTMLModel",
          "state": {
            "_view_name": "HTMLView",
            "style": "IPY_MODEL_aab0f415ee36405d88d94e7d5a319425",
            "_dom_classes": [],
            "description": "",
            "_model_name": "HTMLModel",
            "placeholder": "​",
            "_view_module": "@jupyter-widgets/controls",
            "_model_module_version": "1.5.0",
            "value": "Render HTML: 100%",
            "_view_count": null,
            "_view_module_version": "1.5.0",
            "description_tooltip": null,
            "_model_module": "@jupyter-widgets/controls",
            "layout": "IPY_MODEL_a8ed4ebdb689420a87fc352962622c44"
          }
        },
        "676698089a884f59ae9ae4c3794a76e9": {
          "model_module": "@jupyter-widgets/controls",
          "model_name": "FloatProgressModel",
          "state": {
            "_view_name": "ProgressView",
            "style": "IPY_MODEL_f1c9f9954ffa4af7af9b94d733122350",
            "_dom_classes": [],
            "description": "",
            "_model_name": "FloatProgressModel",
            "bar_style": "success",
            "max": 1,
            "_view_module": "@jupyter-widgets/controls",
            "_model_module_version": "1.5.0",
            "value": 1,
            "_view_count": null,
            "_view_module_version": "1.5.0",
            "orientation": "horizontal",
            "min": 0,
            "description_tooltip": null,
            "_model_module": "@jupyter-widgets/controls",
            "layout": "IPY_MODEL_bdcc30bfda024c58a768ff5401f2f4b4"
          }
        },
        "30ea722120254c5e89f6dfad432c88f2": {
          "model_module": "@jupyter-widgets/controls",
          "model_name": "HTMLModel",
          "state": {
            "_view_name": "HTMLView",
            "style": "IPY_MODEL_02513549c1564f5b8cbd0e542226c821",
            "_dom_classes": [],
            "description": "",
            "_model_name": "HTMLModel",
            "placeholder": "​",
            "_view_module": "@jupyter-widgets/controls",
            "_model_module_version": "1.5.0",
            "value": " 1/1 [00:17&lt;00:00, 17.47s/it]",
            "_view_count": null,
            "_view_module_version": "1.5.0",
            "description_tooltip": null,
            "_model_module": "@jupyter-widgets/controls",
            "layout": "IPY_MODEL_f07a0fb66c044d4586856994a4be96b0"
          }
        },
        "aab0f415ee36405d88d94e7d5a319425": {
          "model_module": "@jupyter-widgets/controls",
          "model_name": "DescriptionStyleModel",
          "state": {
            "_view_name": "StyleView",
            "_model_name": "DescriptionStyleModel",
            "description_width": "",
            "_view_module": "@jupyter-widgets/base",
            "_model_module_version": "1.5.0",
            "_view_count": null,
            "_view_module_version": "1.2.0",
            "_model_module": "@jupyter-widgets/controls"
          }
        },
        "a8ed4ebdb689420a87fc352962622c44": {
          "model_module": "@jupyter-widgets/base",
          "model_name": "LayoutModel",
          "state": {
            "_view_name": "LayoutView",
            "grid_template_rows": null,
            "right": null,
            "justify_content": null,
            "_view_module": "@jupyter-widgets/base",
            "overflow": null,
            "_model_module_version": "1.2.0",
            "_view_count": null,
            "flex_flow": null,
            "width": null,
            "min_width": null,
            "border": null,
            "align_items": null,
            "bottom": null,
            "_model_module": "@jupyter-widgets/base",
            "top": null,
            "grid_column": null,
            "overflow_y": null,
            "overflow_x": null,
            "grid_auto_flow": null,
            "grid_area": null,
            "grid_template_columns": null,
            "flex": null,
            "_model_name": "LayoutModel",
            "justify_items": null,
            "grid_row": null,
            "max_height": null,
            "align_content": null,
            "visibility": null,
            "align_self": null,
            "height": null,
            "min_height": null,
            "padding": null,
            "grid_auto_rows": null,
            "grid_gap": null,
            "max_width": null,
            "order": null,
            "_view_module_version": "1.2.0",
            "grid_template_areas": null,
            "object_position": null,
            "object_fit": null,
            "grid_auto_columns": null,
            "margin": null,
            "display": null,
            "left": null
          }
        },
        "f1c9f9954ffa4af7af9b94d733122350": {
          "model_module": "@jupyter-widgets/controls",
          "model_name": "ProgressStyleModel",
          "state": {
            "_view_name": "StyleView",
            "_model_name": "ProgressStyleModel",
            "description_width": "",
            "_view_module": "@jupyter-widgets/base",
            "_model_module_version": "1.5.0",
            "_view_count": null,
            "_view_module_version": "1.2.0",
            "bar_color": null,
            "_model_module": "@jupyter-widgets/controls"
          }
        },
        "bdcc30bfda024c58a768ff5401f2f4b4": {
          "model_module": "@jupyter-widgets/base",
          "model_name": "LayoutModel",
          "state": {
            "_view_name": "LayoutView",
            "grid_template_rows": null,
            "right": null,
            "justify_content": null,
            "_view_module": "@jupyter-widgets/base",
            "overflow": null,
            "_model_module_version": "1.2.0",
            "_view_count": null,
            "flex_flow": null,
            "width": null,
            "min_width": null,
            "border": null,
            "align_items": null,
            "bottom": null,
            "_model_module": "@jupyter-widgets/base",
            "top": null,
            "grid_column": null,
            "overflow_y": null,
            "overflow_x": null,
            "grid_auto_flow": null,
            "grid_area": null,
            "grid_template_columns": null,
            "flex": null,
            "_model_name": "LayoutModel",
            "justify_items": null,
            "grid_row": null,
            "max_height": null,
            "align_content": null,
            "visibility": null,
            "align_self": null,
            "height": null,
            "min_height": null,
            "padding": null,
            "grid_auto_rows": null,
            "grid_gap": null,
            "max_width": null,
            "order": null,
            "_view_module_version": "1.2.0",
            "grid_template_areas": null,
            "object_position": null,
            "object_fit": null,
            "grid_auto_columns": null,
            "margin": null,
            "display": null,
            "left": null
          }
        },
        "02513549c1564f5b8cbd0e542226c821": {
          "model_module": "@jupyter-widgets/controls",
          "model_name": "DescriptionStyleModel",
          "state": {
            "_view_name": "StyleView",
            "_model_name": "DescriptionStyleModel",
            "description_width": "",
            "_view_module": "@jupyter-widgets/base",
            "_model_module_version": "1.5.0",
            "_view_count": null,
            "_view_module_version": "1.2.0",
            "_model_module": "@jupyter-widgets/controls"
          }
        },
        "f07a0fb66c044d4586856994a4be96b0": {
          "model_module": "@jupyter-widgets/base",
          "model_name": "LayoutModel",
          "state": {
            "_view_name": "LayoutView",
            "grid_template_rows": null,
            "right": null,
            "justify_content": null,
            "_view_module": "@jupyter-widgets/base",
            "overflow": null,
            "_model_module_version": "1.2.0",
            "_view_count": null,
            "flex_flow": null,
            "width": null,
            "min_width": null,
            "border": null,
            "align_items": null,
            "bottom": null,
            "_model_module": "@jupyter-widgets/base",
            "top": null,
            "grid_column": null,
            "overflow_y": null,
            "overflow_x": null,
            "grid_auto_flow": null,
            "grid_area": null,
            "grid_template_columns": null,
            "flex": null,
            "_model_name": "LayoutModel",
            "justify_items": null,
            "grid_row": null,
            "max_height": null,
            "align_content": null,
            "visibility": null,
            "align_self": null,
            "height": null,
            "min_height": null,
            "padding": null,
            "grid_auto_rows": null,
            "grid_gap": null,
            "max_width": null,
            "order": null,
            "_view_module_version": "1.2.0",
            "grid_template_areas": null,
            "object_position": null,
            "object_fit": null,
            "grid_auto_columns": null,
            "margin": null,
            "display": null,
            "left": null
          }
        },
        "3cf5c443485e45ea9224d0a0e9f5586b": {
          "model_module": "@jupyter-widgets/controls",
          "model_name": "HBoxModel",
          "state": {
            "_view_name": "HBoxView",
            "_dom_classes": [],
            "_model_name": "HBoxModel",
            "_view_module": "@jupyter-widgets/controls",
            "_model_module_version": "1.5.0",
            "_view_count": null,
            "_view_module_version": "1.5.0",
            "box_style": "",
            "layout": "IPY_MODEL_5bb4330aa22241b8919bcd765324a813",
            "_model_module": "@jupyter-widgets/controls",
            "children": [
              "IPY_MODEL_6bd64621443b40e39110a6de7619582f",
              "IPY_MODEL_0802d5420fa14eab9763c6ea7eaf6551",
              "IPY_MODEL_1e368c8e4ce44ca3a0d0b955164d9977"
            ]
          }
        },
        "5bb4330aa22241b8919bcd765324a813": {
          "model_module": "@jupyter-widgets/base",
          "model_name": "LayoutModel",
          "state": {
            "_view_name": "LayoutView",
            "grid_template_rows": null,
            "right": null,
            "justify_content": null,
            "_view_module": "@jupyter-widgets/base",
            "overflow": null,
            "_model_module_version": "1.2.0",
            "_view_count": null,
            "flex_flow": null,
            "width": null,
            "min_width": null,
            "border": null,
            "align_items": null,
            "bottom": null,
            "_model_module": "@jupyter-widgets/base",
            "top": null,
            "grid_column": null,
            "overflow_y": null,
            "overflow_x": null,
            "grid_auto_flow": null,
            "grid_area": null,
            "grid_template_columns": null,
            "flex": null,
            "_model_name": "LayoutModel",
            "justify_items": null,
            "grid_row": null,
            "max_height": null,
            "align_content": null,
            "visibility": null,
            "align_self": null,
            "height": null,
            "min_height": null,
            "padding": null,
            "grid_auto_rows": null,
            "grid_gap": null,
            "max_width": null,
            "order": null,
            "_view_module_version": "1.2.0",
            "grid_template_areas": null,
            "object_position": null,
            "object_fit": null,
            "grid_auto_columns": null,
            "margin": null,
            "display": null,
            "left": null
          }
        },
        "6bd64621443b40e39110a6de7619582f": {
          "model_module": "@jupyter-widgets/controls",
          "model_name": "HTMLModel",
          "state": {
            "_view_name": "HTMLView",
            "style": "IPY_MODEL_7b68bf292a2442e39121e91b769cfe83",
            "_dom_classes": [],
            "description": "",
            "_model_name": "HTMLModel",
            "placeholder": "​",
            "_view_module": "@jupyter-widgets/controls",
            "_model_module_version": "1.5.0",
            "value": "Export report to file: 100%",
            "_view_count": null,
            "_view_module_version": "1.5.0",
            "description_tooltip": null,
            "_model_module": "@jupyter-widgets/controls",
            "layout": "IPY_MODEL_fbde31c0dc504df19a6c9068dbfd0854"
          }
        },
        "0802d5420fa14eab9763c6ea7eaf6551": {
          "model_module": "@jupyter-widgets/controls",
          "model_name": "FloatProgressModel",
          "state": {
            "_view_name": "ProgressView",
            "style": "IPY_MODEL_6d3bdca7f9f845f08807a62eacb3220f",
            "_dom_classes": [],
            "description": "",
            "_model_name": "FloatProgressModel",
            "bar_style": "success",
            "max": 1,
            "_view_module": "@jupyter-widgets/controls",
            "_model_module_version": "1.5.0",
            "value": 1,
            "_view_count": null,
            "_view_module_version": "1.5.0",
            "orientation": "horizontal",
            "min": 0,
            "description_tooltip": null,
            "_model_module": "@jupyter-widgets/controls",
            "layout": "IPY_MODEL_3911b83a16864481842af69a6023422a"
          }
        },
        "1e368c8e4ce44ca3a0d0b955164d9977": {
          "model_module": "@jupyter-widgets/controls",
          "model_name": "HTMLModel",
          "state": {
            "_view_name": "HTMLView",
            "style": "IPY_MODEL_551310026f564807a2fb76594ec578db",
            "_dom_classes": [],
            "description": "",
            "_model_name": "HTMLModel",
            "placeholder": "​",
            "_view_module": "@jupyter-widgets/controls",
            "_model_module_version": "1.5.0",
            "value": " 1/1 [00:17&lt;00:00, 17.13s/it]",
            "_view_count": null,
            "_view_module_version": "1.5.0",
            "description_tooltip": null,
            "_model_module": "@jupyter-widgets/controls",
            "layout": "IPY_MODEL_678ec8ee33714af59592631a59365f64"
          }
        },
        "7b68bf292a2442e39121e91b769cfe83": {
          "model_module": "@jupyter-widgets/controls",
          "model_name": "DescriptionStyleModel",
          "state": {
            "_view_name": "StyleView",
            "_model_name": "DescriptionStyleModel",
            "description_width": "",
            "_view_module": "@jupyter-widgets/base",
            "_model_module_version": "1.5.0",
            "_view_count": null,
            "_view_module_version": "1.2.0",
            "_model_module": "@jupyter-widgets/controls"
          }
        },
        "fbde31c0dc504df19a6c9068dbfd0854": {
          "model_module": "@jupyter-widgets/base",
          "model_name": "LayoutModel",
          "state": {
            "_view_name": "LayoutView",
            "grid_template_rows": null,
            "right": null,
            "justify_content": null,
            "_view_module": "@jupyter-widgets/base",
            "overflow": null,
            "_model_module_version": "1.2.0",
            "_view_count": null,
            "flex_flow": null,
            "width": null,
            "min_width": null,
            "border": null,
            "align_items": null,
            "bottom": null,
            "_model_module": "@jupyter-widgets/base",
            "top": null,
            "grid_column": null,
            "overflow_y": null,
            "overflow_x": null,
            "grid_auto_flow": null,
            "grid_area": null,
            "grid_template_columns": null,
            "flex": null,
            "_model_name": "LayoutModel",
            "justify_items": null,
            "grid_row": null,
            "max_height": null,
            "align_content": null,
            "visibility": null,
            "align_self": null,
            "height": null,
            "min_height": null,
            "padding": null,
            "grid_auto_rows": null,
            "grid_gap": null,
            "max_width": null,
            "order": null,
            "_view_module_version": "1.2.0",
            "grid_template_areas": null,
            "object_position": null,
            "object_fit": null,
            "grid_auto_columns": null,
            "margin": null,
            "display": null,
            "left": null
          }
        },
        "6d3bdca7f9f845f08807a62eacb3220f": {
          "model_module": "@jupyter-widgets/controls",
          "model_name": "ProgressStyleModel",
          "state": {
            "_view_name": "StyleView",
            "_model_name": "ProgressStyleModel",
            "description_width": "",
            "_view_module": "@jupyter-widgets/base",
            "_model_module_version": "1.5.0",
            "_view_count": null,
            "_view_module_version": "1.2.0",
            "bar_color": null,
            "_model_module": "@jupyter-widgets/controls"
          }
        },
        "3911b83a16864481842af69a6023422a": {
          "model_module": "@jupyter-widgets/base",
          "model_name": "LayoutModel",
          "state": {
            "_view_name": "LayoutView",
            "grid_template_rows": null,
            "right": null,
            "justify_content": null,
            "_view_module": "@jupyter-widgets/base",
            "overflow": null,
            "_model_module_version": "1.2.0",
            "_view_count": null,
            "flex_flow": null,
            "width": null,
            "min_width": null,
            "border": null,
            "align_items": null,
            "bottom": null,
            "_model_module": "@jupyter-widgets/base",
            "top": null,
            "grid_column": null,
            "overflow_y": null,
            "overflow_x": null,
            "grid_auto_flow": null,
            "grid_area": null,
            "grid_template_columns": null,
            "flex": null,
            "_model_name": "LayoutModel",
            "justify_items": null,
            "grid_row": null,
            "max_height": null,
            "align_content": null,
            "visibility": null,
            "align_self": null,
            "height": null,
            "min_height": null,
            "padding": null,
            "grid_auto_rows": null,
            "grid_gap": null,
            "max_width": null,
            "order": null,
            "_view_module_version": "1.2.0",
            "grid_template_areas": null,
            "object_position": null,
            "object_fit": null,
            "grid_auto_columns": null,
            "margin": null,
            "display": null,
            "left": null
          }
        },
        "551310026f564807a2fb76594ec578db": {
          "model_module": "@jupyter-widgets/controls",
          "model_name": "DescriptionStyleModel",
          "state": {
            "_view_name": "StyleView",
            "_model_name": "DescriptionStyleModel",
            "description_width": "",
            "_view_module": "@jupyter-widgets/base",
            "_model_module_version": "1.5.0",
            "_view_count": null,
            "_view_module_version": "1.2.0",
            "_model_module": "@jupyter-widgets/controls"
          }
        },
        "678ec8ee33714af59592631a59365f64": {
          "model_module": "@jupyter-widgets/base",
          "model_name": "LayoutModel",
          "state": {
            "_view_name": "LayoutView",
            "grid_template_rows": null,
            "right": null,
            "justify_content": null,
            "_view_module": "@jupyter-widgets/base",
            "overflow": null,
            "_model_module_version": "1.2.0",
            "_view_count": null,
            "flex_flow": null,
            "width": null,
            "min_width": null,
            "border": null,
            "align_items": null,
            "bottom": null,
            "_model_module": "@jupyter-widgets/base",
            "top": null,
            "grid_column": null,
            "overflow_y": null,
            "overflow_x": null,
            "grid_auto_flow": null,
            "grid_area": null,
            "grid_template_columns": null,
            "flex": null,
            "_model_name": "LayoutModel",
            "justify_items": null,
            "grid_row": null,
            "max_height": null,
            "align_content": null,
            "visibility": null,
            "align_self": null,
            "height": null,
            "min_height": null,
            "padding": null,
            "grid_auto_rows": null,
            "grid_gap": null,
            "max_width": null,
            "order": null,
            "_view_module_version": "1.2.0",
            "grid_template_areas": null,
            "object_position": null,
            "object_fit": null,
            "grid_auto_columns": null,
            "margin": null,
            "display": null,
            "left": null
          }
        }
      }
    }
  },
  "cells": [
    {
      "cell_type": "markdown",
      "metadata": {
        "id": "U1MFBAefEClJ"
      },
      "source": [
        "# **Made By Anshu Pandey**\n",
        "# **Roll Number: 18csu026**"
      ]
    },
    {
      "cell_type": "markdown",
      "metadata": {
        "id": "2W2epgREIwgV"
      },
      "source": [
        "# **Installation of important library** \n",
        "1. PANDAS - PROFILING\n",
        "2. mlxtend==0.17.3\n"
      ]
    },
    {
      "cell_type": "code",
      "metadata": {
        "id": "MPPKxnBa24Rn",
        "colab": {
          "base_uri": "https://localhost:8080/",
          "height": 1000
        },
        "outputId": "f8476264-7887-4858-b940-5066f2882fd8"
      },
      "source": [
        "! pip install https://github.com/pandas-profiling/pandas-profiling/archive/master.zip"
      ],
      "execution_count": null,
      "outputs": [
        {
          "output_type": "stream",
          "text": [
            "Collecting https://github.com/pandas-profiling/pandas-profiling/archive/master.zip\n",
            "  Using cached https://github.com/pandas-profiling/pandas-profiling/archive/master.zip\n",
            "Requirement already satisfied (use --upgrade to upgrade): pandas-profiling==2.9.0 from https://github.com/pandas-profiling/pandas-profiling/archive/master.zip in /usr/local/lib/python3.6/dist-packages\n",
            "Requirement already satisfied: joblib in /usr/local/lib/python3.6/dist-packages (from pandas-profiling==2.9.0) (0.16.0)\n",
            "Requirement already satisfied: scipy>=1.4.1 in /usr/local/lib/python3.6/dist-packages (from pandas-profiling==2.9.0) (1.4.1)\n",
            "Requirement already satisfied: pandas!=1.0.0,!=1.0.1,!=1.0.2,!=1.1.0,>=0.25.3 in /usr/local/lib/python3.6/dist-packages (from pandas-profiling==2.9.0) (1.1.2)\n",
            "Requirement already satisfied: matplotlib>=3.2.0 in /usr/local/lib/python3.6/dist-packages (from pandas-profiling==2.9.0) (3.2.2)\n",
            "Requirement already satisfied: confuse>=1.0.0 in /usr/local/lib/python3.6/dist-packages (from pandas-profiling==2.9.0) (1.3.0)\n",
            "Requirement already satisfied: jinja2>=2.11.1 in /usr/local/lib/python3.6/dist-packages (from pandas-profiling==2.9.0) (2.11.2)\n",
            "Requirement already satisfied: visions[type_image_path]==0.5.0 in /usr/local/lib/python3.6/dist-packages (from pandas-profiling==2.9.0) (0.5.0)\n",
            "Requirement already satisfied: numpy>=1.16.0 in /usr/local/lib/python3.6/dist-packages (from pandas-profiling==2.9.0) (1.18.5)\n",
            "Requirement already satisfied: attrs>=19.3.0 in /usr/local/lib/python3.6/dist-packages (from pandas-profiling==2.9.0) (20.2.0)\n",
            "Requirement already satisfied: htmlmin>=0.1.12 in /usr/local/lib/python3.6/dist-packages (from pandas-profiling==2.9.0) (0.1.12)\n",
            "Requirement already satisfied: missingno>=0.4.2 in /usr/local/lib/python3.6/dist-packages (from pandas-profiling==2.9.0) (0.4.2)\n",
            "Requirement already satisfied: phik>=0.9.10 in /usr/local/lib/python3.6/dist-packages (from pandas-profiling==2.9.0) (0.10.0)\n",
            "Requirement already satisfied: tangled-up-in-unicode>=0.0.6 in /usr/local/lib/python3.6/dist-packages (from pandas-profiling==2.9.0) (0.0.6)\n",
            "Requirement already satisfied: requests>=2.23.0 in /usr/local/lib/python3.6/dist-packages (from pandas-profiling==2.9.0) (2.23.0)\n",
            "Requirement already satisfied: tqdm>=4.43.0 in /usr/local/lib/python3.6/dist-packages (from pandas-profiling==2.9.0) (4.50.0)\n",
            "Requirement already satisfied: ipywidgets>=7.5.1 in /usr/local/lib/python3.6/dist-packages (from pandas-profiling==2.9.0) (7.5.1)\n",
            "Requirement already satisfied: seaborn>=0.10.1 in /usr/local/lib/python3.6/dist-packages (from pandas-profiling==2.9.0) (0.11.0)\n",
            "Requirement already satisfied: python-dateutil>=2.7.3 in /usr/local/lib/python3.6/dist-packages (from pandas!=1.0.0,!=1.0.1,!=1.0.2,!=1.1.0,>=0.25.3->pandas-profiling==2.9.0) (2.8.1)\n",
            "Requirement already satisfied: pytz>=2017.2 in /usr/local/lib/python3.6/dist-packages (from pandas!=1.0.0,!=1.0.1,!=1.0.2,!=1.1.0,>=0.25.3->pandas-profiling==2.9.0) (2018.9)\n",
            "Requirement already satisfied: cycler>=0.10 in /usr/local/lib/python3.6/dist-packages (from matplotlib>=3.2.0->pandas-profiling==2.9.0) (0.10.0)\n",
            "Requirement already satisfied: kiwisolver>=1.0.1 in /usr/local/lib/python3.6/dist-packages (from matplotlib>=3.2.0->pandas-profiling==2.9.0) (1.2.0)\n",
            "Requirement already satisfied: pyparsing!=2.0.4,!=2.1.2,!=2.1.6,>=2.0.1 in /usr/local/lib/python3.6/dist-packages (from matplotlib>=3.2.0->pandas-profiling==2.9.0) (2.4.7)\n",
            "Requirement already satisfied: pyyaml in /usr/local/lib/python3.6/dist-packages (from confuse>=1.0.0->pandas-profiling==2.9.0) (3.13)\n",
            "Requirement already satisfied: MarkupSafe>=0.23 in /usr/local/lib/python3.6/dist-packages (from jinja2>=2.11.1->pandas-profiling==2.9.0) (1.1.1)\n",
            "Requirement already satisfied: networkx>=2.4 in /usr/local/lib/python3.6/dist-packages (from visions[type_image_path]==0.5.0->pandas-profiling==2.9.0) (2.5)\n",
            "Requirement already satisfied: imagehash; extra == \"type_image_path\" in /usr/local/lib/python3.6/dist-packages (from visions[type_image_path]==0.5.0->pandas-profiling==2.9.0) (4.1.0)\n",
            "Requirement already satisfied: Pillow; extra == \"type_image_path\" in /usr/local/lib/python3.6/dist-packages (from visions[type_image_path]==0.5.0->pandas-profiling==2.9.0) (7.0.0)\n",
            "Requirement already satisfied: numba>=0.38.1 in /usr/local/lib/python3.6/dist-packages (from phik>=0.9.10->pandas-profiling==2.9.0) (0.48.0)\n",
            "Requirement already satisfied: urllib3!=1.25.0,!=1.25.1,<1.26,>=1.21.1 in /usr/local/lib/python3.6/dist-packages (from requests>=2.23.0->pandas-profiling==2.9.0) (1.24.3)\n",
            "Requirement already satisfied: chardet<4,>=3.0.2 in /usr/local/lib/python3.6/dist-packages (from requests>=2.23.0->pandas-profiling==2.9.0) (3.0.4)\n",
            "Requirement already satisfied: certifi>=2017.4.17 in /usr/local/lib/python3.6/dist-packages (from requests>=2.23.0->pandas-profiling==2.9.0) (2020.6.20)\n",
            "Requirement already satisfied: idna<3,>=2.5 in /usr/local/lib/python3.6/dist-packages (from requests>=2.23.0->pandas-profiling==2.9.0) (2.10)\n",
            "Requirement already satisfied: widgetsnbextension~=3.5.0 in /usr/local/lib/python3.6/dist-packages (from ipywidgets>=7.5.1->pandas-profiling==2.9.0) (3.5.1)\n",
            "Requirement already satisfied: ipykernel>=4.5.1 in /usr/local/lib/python3.6/dist-packages (from ipywidgets>=7.5.1->pandas-profiling==2.9.0) (4.10.1)\n",
            "Requirement already satisfied: traitlets>=4.3.1 in /usr/local/lib/python3.6/dist-packages (from ipywidgets>=7.5.1->pandas-profiling==2.9.0) (4.3.3)\n",
            "Requirement already satisfied: ipython>=4.0.0; python_version >= \"3.3\" in /usr/local/lib/python3.6/dist-packages (from ipywidgets>=7.5.1->pandas-profiling==2.9.0) (5.5.0)\n",
            "Requirement already satisfied: nbformat>=4.2.0 in /usr/local/lib/python3.6/dist-packages (from ipywidgets>=7.5.1->pandas-profiling==2.9.0) (5.0.7)\n",
            "Requirement already satisfied: six>=1.5 in /usr/local/lib/python3.6/dist-packages (from python-dateutil>=2.7.3->pandas!=1.0.0,!=1.0.1,!=1.0.2,!=1.1.0,>=0.25.3->pandas-profiling==2.9.0) (1.15.0)\n",
            "Requirement already satisfied: decorator>=4.3.0 in /usr/local/lib/python3.6/dist-packages (from networkx>=2.4->visions[type_image_path]==0.5.0->pandas-profiling==2.9.0) (4.4.2)\n",
            "Requirement already satisfied: PyWavelets in /usr/local/lib/python3.6/dist-packages (from imagehash; extra == \"type_image_path\"->visions[type_image_path]==0.5.0->pandas-profiling==2.9.0) (1.1.1)\n",
            "Requirement already satisfied: setuptools in /usr/local/lib/python3.6/dist-packages (from numba>=0.38.1->phik>=0.9.10->pandas-profiling==2.9.0) (50.3.0)\n",
            "Requirement already satisfied: llvmlite<0.32.0,>=0.31.0dev0 in /usr/local/lib/python3.6/dist-packages (from numba>=0.38.1->phik>=0.9.10->pandas-profiling==2.9.0) (0.31.0)\n",
            "Requirement already satisfied: notebook>=4.4.1 in /usr/local/lib/python3.6/dist-packages (from widgetsnbextension~=3.5.0->ipywidgets>=7.5.1->pandas-profiling==2.9.0) (5.3.1)\n",
            "Requirement already satisfied: tornado>=4.0 in /usr/local/lib/python3.6/dist-packages (from ipykernel>=4.5.1->ipywidgets>=7.5.1->pandas-profiling==2.9.0) (5.1.1)\n",
            "Requirement already satisfied: jupyter-client in /usr/local/lib/python3.6/dist-packages (from ipykernel>=4.5.1->ipywidgets>=7.5.1->pandas-profiling==2.9.0) (5.3.5)\n",
            "Requirement already satisfied: ipython-genutils in /usr/local/lib/python3.6/dist-packages (from traitlets>=4.3.1->ipywidgets>=7.5.1->pandas-profiling==2.9.0) (0.2.0)\n",
            "Requirement already satisfied: prompt-toolkit<2.0.0,>=1.0.4 in /usr/local/lib/python3.6/dist-packages (from ipython>=4.0.0; python_version >= \"3.3\"->ipywidgets>=7.5.1->pandas-profiling==2.9.0) (1.0.18)\n",
            "Requirement already satisfied: simplegeneric>0.8 in /usr/local/lib/python3.6/dist-packages (from ipython>=4.0.0; python_version >= \"3.3\"->ipywidgets>=7.5.1->pandas-profiling==2.9.0) (0.8.1)\n",
            "Requirement already satisfied: pexpect; sys_platform != \"win32\" in /usr/local/lib/python3.6/dist-packages (from ipython>=4.0.0; python_version >= \"3.3\"->ipywidgets>=7.5.1->pandas-profiling==2.9.0) (4.8.0)\n",
            "Requirement already satisfied: pickleshare in /usr/local/lib/python3.6/dist-packages (from ipython>=4.0.0; python_version >= \"3.3\"->ipywidgets>=7.5.1->pandas-profiling==2.9.0) (0.7.5)\n",
            "Requirement already satisfied: pygments in /usr/local/lib/python3.6/dist-packages (from ipython>=4.0.0; python_version >= \"3.3\"->ipywidgets>=7.5.1->pandas-profiling==2.9.0) (2.6.1)\n",
            "Requirement already satisfied: jsonschema!=2.5.0,>=2.4 in /usr/local/lib/python3.6/dist-packages (from nbformat>=4.2.0->ipywidgets>=7.5.1->pandas-profiling==2.9.0) (2.6.0)\n",
            "Requirement already satisfied: jupyter-core in /usr/local/lib/python3.6/dist-packages (from nbformat>=4.2.0->ipywidgets>=7.5.1->pandas-profiling==2.9.0) (4.6.3)\n",
            "Requirement already satisfied: terminado>=0.8.1 in /usr/local/lib/python3.6/dist-packages (from notebook>=4.4.1->widgetsnbextension~=3.5.0->ipywidgets>=7.5.1->pandas-profiling==2.9.0) (0.9.1)\n",
            "Requirement already satisfied: nbconvert in /usr/local/lib/python3.6/dist-packages (from notebook>=4.4.1->widgetsnbextension~=3.5.0->ipywidgets>=7.5.1->pandas-profiling==2.9.0) (5.6.1)\n",
            "Requirement already satisfied: Send2Trash in /usr/local/lib/python3.6/dist-packages (from notebook>=4.4.1->widgetsnbextension~=3.5.0->ipywidgets>=7.5.1->pandas-profiling==2.9.0) (1.5.0)\n",
            "Requirement already satisfied: pyzmq>=13 in /usr/local/lib/python3.6/dist-packages (from jupyter-client->ipykernel>=4.5.1->ipywidgets>=7.5.1->pandas-profiling==2.9.0) (19.0.2)\n",
            "Requirement already satisfied: wcwidth in /usr/local/lib/python3.6/dist-packages (from prompt-toolkit<2.0.0,>=1.0.4->ipython>=4.0.0; python_version >= \"3.3\"->ipywidgets>=7.5.1->pandas-profiling==2.9.0) (0.2.5)\n",
            "Requirement already satisfied: ptyprocess>=0.5 in /usr/local/lib/python3.6/dist-packages (from pexpect; sys_platform != \"win32\"->ipython>=4.0.0; python_version >= \"3.3\"->ipywidgets>=7.5.1->pandas-profiling==2.9.0) (0.6.0)\n",
            "Requirement already satisfied: testpath in /usr/local/lib/python3.6/dist-packages (from nbconvert->notebook>=4.4.1->widgetsnbextension~=3.5.0->ipywidgets>=7.5.1->pandas-profiling==2.9.0) (0.4.4)\n",
            "Requirement already satisfied: mistune<2,>=0.8.1 in /usr/local/lib/python3.6/dist-packages (from nbconvert->notebook>=4.4.1->widgetsnbextension~=3.5.0->ipywidgets>=7.5.1->pandas-profiling==2.9.0) (0.8.4)\n",
            "Requirement already satisfied: entrypoints>=0.2.2 in /usr/local/lib/python3.6/dist-packages (from nbconvert->notebook>=4.4.1->widgetsnbextension~=3.5.0->ipywidgets>=7.5.1->pandas-profiling==2.9.0) (0.3)\n",
            "Requirement already satisfied: pandocfilters>=1.4.1 in /usr/local/lib/python3.6/dist-packages (from nbconvert->notebook>=4.4.1->widgetsnbextension~=3.5.0->ipywidgets>=7.5.1->pandas-profiling==2.9.0) (1.4.2)\n",
            "Requirement already satisfied: bleach in /usr/local/lib/python3.6/dist-packages (from nbconvert->notebook>=4.4.1->widgetsnbextension~=3.5.0->ipywidgets>=7.5.1->pandas-profiling==2.9.0) (3.2.1)\n",
            "Requirement already satisfied: defusedxml in /usr/local/lib/python3.6/dist-packages (from nbconvert->notebook>=4.4.1->widgetsnbextension~=3.5.0->ipywidgets>=7.5.1->pandas-profiling==2.9.0) (0.6.0)\n",
            "Requirement already satisfied: packaging in /usr/local/lib/python3.6/dist-packages (from bleach->nbconvert->notebook>=4.4.1->widgetsnbextension~=3.5.0->ipywidgets>=7.5.1->pandas-profiling==2.9.0) (20.4)\n",
            "Requirement already satisfied: webencodings in /usr/local/lib/python3.6/dist-packages (from bleach->nbconvert->notebook>=4.4.1->widgetsnbextension~=3.5.0->ipywidgets>=7.5.1->pandas-profiling==2.9.0) (0.5.1)\n",
            "Building wheels for collected packages: pandas-profiling\n",
            "  Building wheel for pandas-profiling (setup.py) ... \u001b[?25l\u001b[?25hdone\n",
            "  Created wheel for pandas-profiling: filename=pandas_profiling-2.9.0-py2.py3-none-any.whl size=258952 sha256=6a377b5016b30de360580941761a31712286d50a0b1bdebbe913e7e6fc2dd42e\n",
            "  Stored in directory: /tmp/pip-ephem-wheel-cache-1x62ijvt/wheels/56/c2/dd/8d945b0443c35df7d5f62fa9e9ae105a2d8b286302b92e0109\n",
            "Successfully built pandas-profiling\n"
          ],
          "name": "stdout"
        }
      ]
    },
    {
      "cell_type": "code",
      "metadata": {
        "id": "dDuelT0l7bWP",
        "colab": {
          "base_uri": "https://localhost:8080/",
          "height": 35
        },
        "outputId": "cc967653-c164-4bb0-9084-4bc3eb75f551"
      },
      "source": [
        "!pip install apyori"
      ],
      "execution_count": null,
      "outputs": [
        {
          "output_type": "stream",
          "text": [
            "Requirement already satisfied: apyori in /usr/local/lib/python3.6/dist-packages (1.1.2)\n"
          ],
          "name": "stdout"
        }
      ]
    },
    {
      "cell_type": "code",
      "metadata": {
        "id": "n-gRqtjbDxxG",
        "colab": {
          "base_uri": "https://localhost:8080/",
          "height": 479
        },
        "outputId": "9f30afaf-d9d9-4262-b450-41a02583a541"
      },
      "source": [
        "!pip install mlxtend==0.17.3"
      ],
      "execution_count": null,
      "outputs": [
        {
          "output_type": "stream",
          "text": [
            "Collecting mlxtend==0.17.3\n",
            "\u001b[?25l  Downloading https://files.pythonhosted.org/packages/4c/0d/4a73b8bc49e2cfee178fe50dd8e84d5ba817d0b2454b09308397416e0e48/mlxtend-0.17.3-py2.py3-none-any.whl (1.3MB)\n",
            "\u001b[K     |████████████████████████████████| 1.3MB 2.8MB/s \n",
            "\u001b[?25hRequirement already satisfied: numpy>=1.16.2 in /usr/local/lib/python3.6/dist-packages (from mlxtend==0.17.3) (1.18.5)\n",
            "Requirement already satisfied: scipy>=1.2.1 in /usr/local/lib/python3.6/dist-packages (from mlxtend==0.17.3) (1.4.1)\n",
            "Requirement already satisfied: scikit-learn>=0.20.3 in /usr/local/lib/python3.6/dist-packages (from mlxtend==0.17.3) (0.22.2.post1)\n",
            "Requirement already satisfied: pandas>=0.24.2 in /usr/local/lib/python3.6/dist-packages (from mlxtend==0.17.3) (1.1.2)\n",
            "Requirement already satisfied: joblib>=0.13.2 in /usr/local/lib/python3.6/dist-packages (from mlxtend==0.17.3) (0.16.0)\n",
            "Requirement already satisfied: matplotlib>=3.0.0 in /usr/local/lib/python3.6/dist-packages (from mlxtend==0.17.3) (3.2.2)\n",
            "Requirement already satisfied: setuptools in /usr/local/lib/python3.6/dist-packages (from mlxtend==0.17.3) (50.3.0)\n",
            "Requirement already satisfied: pytz>=2017.2 in /usr/local/lib/python3.6/dist-packages (from pandas>=0.24.2->mlxtend==0.17.3) (2018.9)\n",
            "Requirement already satisfied: python-dateutil>=2.7.3 in /usr/local/lib/python3.6/dist-packages (from pandas>=0.24.2->mlxtend==0.17.3) (2.8.1)\n",
            "Requirement already satisfied: kiwisolver>=1.0.1 in /usr/local/lib/python3.6/dist-packages (from matplotlib>=3.0.0->mlxtend==0.17.3) (1.2.0)\n",
            "Requirement already satisfied: pyparsing!=2.0.4,!=2.1.2,!=2.1.6,>=2.0.1 in /usr/local/lib/python3.6/dist-packages (from matplotlib>=3.0.0->mlxtend==0.17.3) (2.4.7)\n",
            "Requirement already satisfied: cycler>=0.10 in /usr/local/lib/python3.6/dist-packages (from matplotlib>=3.0.0->mlxtend==0.17.3) (0.10.0)\n",
            "Requirement already satisfied: six>=1.5 in /usr/local/lib/python3.6/dist-packages (from python-dateutil>=2.7.3->pandas>=0.24.2->mlxtend==0.17.3) (1.15.0)\n",
            "Installing collected packages: mlxtend\n",
            "  Found existing installation: mlxtend 0.14.0\n",
            "    Uninstalling mlxtend-0.14.0:\n",
            "      Successfully uninstalled mlxtend-0.14.0\n",
            "Successfully installed mlxtend-0.17.3\n"
          ],
          "name": "stdout"
        },
        {
          "output_type": "display_data",
          "data": {
            "application/vnd.colab-display-data+json": {
              "pip_warning": {
                "packages": [
                  "mlxtend"
                ]
              }
            }
          },
          "metadata": {
            "tags": []
          }
        }
      ]
    },
    {
      "cell_type": "markdown",
      "metadata": {
        "id": "U6ea73kj1XTx"
      },
      "source": [
        "# **Transactions from a bakery**\n",
        "\n",
        "**Objectives:** To compare time taken by Aprior, FP Growth, Max pattern, Close Pattern mining Algorithms to compute association rules for Bakery Dataset. And discuss the advantages and disadvantages for the algorithms above and recommend association rules for business profit and at last forecasted the future sales.\n",
        "\n",
        "**Data set description:**The dataset consists of 21293 observations from a bakery. The data file contains four variables, Date, Time, Transaction ID and Item. Transaction ID ranges from 1 through 9684.This dataset is taken from Kaggle. This data is time-series dataset. Time series data is data that is collected at different points in time.\n",
        "\n",
        "**Objective Behind the dataset taken:** Objective to take bakery dataset is as it is time-series and transactional and this type of dataset is best suited for association rule mining and this extraction of rule mining can be helpful if you are going to open a bakery so you can apply discount on the items and the time period to increase the sale. \n",
        "\n",
        "**In this project we are going to compare Aprior, and FPGrowth ,Max-Pattern ,Close-Pattern time taken to solve the query**\n",
        "\n",
        "\n",
        "Required Library:\n",
        "1.\tpandas-profiling\n",
        "2.\tmlxtend==0.17.3\n",
        "3.\tpandas\n",
        "4.\tNumPy \n",
        "5.\tseaborn \n",
        "6.\tdatetime\n",
        "7.\tmatplotlib\n",
        "\n"
      ]
    },
    {
      "cell_type": "markdown",
      "metadata": {
        "id": "Fkyoz7bh1NQb"
      },
      "source": [
        "### **Import Library**"
      ]
    },
    {
      "cell_type": "code",
      "metadata": {
        "id": "fXI0wIbKU3yb"
      },
      "source": [
        "import pandas as pd\n",
        "import numpy as np\n",
        "import warnings\n",
        "import seaborn as sns\n",
        "import datetime\n",
        "import matplotlib.pyplot as plt\n",
        "warnings.filterwarnings('ignore')\n",
        "from pandas_profiling import ProfileReport\n"
      ],
      "execution_count": null,
      "outputs": []
    },
    {
      "cell_type": "markdown",
      "metadata": {
        "id": "Jole2RNt2kkk"
      },
      "source": [
        "### **Load dataset**\n",
        "\n",
        "1.\tLoad the dataset using pandas "
      ]
    },
    {
      "cell_type": "code",
      "metadata": {
        "id": "YpiVBxAc1MVu",
        "colab": {
          "base_uri": "https://localhost:8080/",
          "height": 194
        },
        "outputId": "9cbb7dff-1590-43f5-dc36-32125b605c68"
      },
      "source": [
        "df = pd.read_csv('BreadBasket.csv')\n",
        "\n",
        "df.head()\n"
      ],
      "execution_count": null,
      "outputs": [
        {
          "output_type": "execute_result",
          "data": {
            "text/html": [
              "<div>\n",
              "<style scoped>\n",
              "    .dataframe tbody tr th:only-of-type {\n",
              "        vertical-align: middle;\n",
              "    }\n",
              "\n",
              "    .dataframe tbody tr th {\n",
              "        vertical-align: top;\n",
              "    }\n",
              "\n",
              "    .dataframe thead th {\n",
              "        text-align: right;\n",
              "    }\n",
              "</style>\n",
              "<table border=\"1\" class=\"dataframe\">\n",
              "  <thead>\n",
              "    <tr style=\"text-align: right;\">\n",
              "      <th></th>\n",
              "      <th>Date</th>\n",
              "      <th>Time</th>\n",
              "      <th>Transaction</th>\n",
              "      <th>Item</th>\n",
              "    </tr>\n",
              "  </thead>\n",
              "  <tbody>\n",
              "    <tr>\n",
              "      <th>0</th>\n",
              "      <td>2016-10-30</td>\n",
              "      <td>09:58:11</td>\n",
              "      <td>1</td>\n",
              "      <td>Bread</td>\n",
              "    </tr>\n",
              "    <tr>\n",
              "      <th>1</th>\n",
              "      <td>2016-10-30</td>\n",
              "      <td>10:05:34</td>\n",
              "      <td>2</td>\n",
              "      <td>Scandinavian</td>\n",
              "    </tr>\n",
              "    <tr>\n",
              "      <th>2</th>\n",
              "      <td>2016-10-30</td>\n",
              "      <td>10:05:34</td>\n",
              "      <td>2</td>\n",
              "      <td>Scandinavian</td>\n",
              "    </tr>\n",
              "    <tr>\n",
              "      <th>3</th>\n",
              "      <td>2016-10-30</td>\n",
              "      <td>10:07:57</td>\n",
              "      <td>3</td>\n",
              "      <td>Hot chocolate</td>\n",
              "    </tr>\n",
              "    <tr>\n",
              "      <th>4</th>\n",
              "      <td>2016-10-30</td>\n",
              "      <td>10:07:57</td>\n",
              "      <td>3</td>\n",
              "      <td>Jam</td>\n",
              "    </tr>\n",
              "  </tbody>\n",
              "</table>\n",
              "</div>"
            ],
            "text/plain": [
              "         Date      Time  Transaction           Item\n",
              "0  2016-10-30  09:58:11            1          Bread\n",
              "1  2016-10-30  10:05:34            2   Scandinavian\n",
              "2  2016-10-30  10:05:34            2   Scandinavian\n",
              "3  2016-10-30  10:07:57            3  Hot chocolate\n",
              "4  2016-10-30  10:07:57            3            Jam"
            ]
          },
          "metadata": {
            "tags": []
          },
          "execution_count": 3
        }
      ]
    },
    {
      "cell_type": "code",
      "metadata": {
        "id": "dMKvwY072Yke",
        "colab": {
          "base_uri": "https://localhost:8080/",
          "height": 212
        },
        "outputId": "4e8220c1-ef08-401a-a760-8c531f871f3f"
      },
      "source": [
        "df.info()"
      ],
      "execution_count": null,
      "outputs": [
        {
          "output_type": "stream",
          "text": [
            "<class 'pandas.core.frame.DataFrame'>\n",
            "RangeIndex: 21293 entries, 0 to 21292\n",
            "Data columns (total 4 columns):\n",
            " #   Column       Non-Null Count  Dtype \n",
            "---  ------       --------------  ----- \n",
            " 0   Date         21293 non-null  object\n",
            " 1   Time         21293 non-null  object\n",
            " 2   Transaction  21293 non-null  int64 \n",
            " 3   Item         21293 non-null  object\n",
            "dtypes: int64(1), object(3)\n",
            "memory usage: 665.5+ KB\n"
          ],
          "name": "stdout"
        }
      ]
    },
    {
      "cell_type": "markdown",
      "metadata": {
        "id": "inGxtCHOC6rB"
      },
      "source": [
        "After loading data use Pandas-Profiling to perform EDA. Pandas profiling is an open source Python module with which we can quickly do an exploratory data analysis with just a few lines of code."
      ]
    },
    {
      "cell_type": "code",
      "metadata": {
        "id": "FQLLmHAb21nx",
        "colab": {
          "base_uri": "https://localhost:8080/",
          "height": 215,
          "referenced_widgets": [
            "a7d084c3ad164520885c6e93b74580dd",
            "7b0a0cbce7634e68b3d0e72c971e6447",
            "997cb65936df4aeebe9918e4e1c86a86",
            "e04da09fc0e349f2aef65566afac3495",
            "9bdd2000d1f5450fb55421cdd7515369",
            "8f598676896c488fad90e5cfd6fe60bc",
            "fcaca5e6e8eb483a80266011407b4146",
            "de0bf1a3d3b7402dad205d9ff0e04c56",
            "836979a86ef84d83a0652e48b778f5cc",
            "8d36c5e662fa4b7f88cb6b7a84de9e7f",
            "cbc30fa553f944eb8f81e9858861efa4",
            "39b6b4fa703941a38c1823bd1614da2a",
            "cfd822afb3e6436fb6b6401a5a1a9aa2",
            "bd32aa3ed0f745d8a2b976a5e3cb2b7e",
            "ca603b797c174992bc2d930053f13b86",
            "5494279f193a4ca99cd19d989abca46b",
            "b81060be70064deda9ae0970777e6925",
            "7b16000b1d344c62b96dc9b42c0a7a58",
            "6b84a0d7d85841b285f17fca11644c61",
            "45612569a4144c908771f3a4c5e9c39b",
            "c6eb7fa815044e1f92623994d15892f4",
            "e24ece30aab244c1a7c59e8007700deb",
            "a688b28b237e4e38b07fe86bc20c3a63",
            "79954e5575164882a6cbdfc1d8a2d937",
            "06211faaddf7447388983c91a6a11416",
            "676698089a884f59ae9ae4c3794a76e9",
            "30ea722120254c5e89f6dfad432c88f2",
            "aab0f415ee36405d88d94e7d5a319425",
            "a8ed4ebdb689420a87fc352962622c44",
            "f1c9f9954ffa4af7af9b94d733122350",
            "bdcc30bfda024c58a768ff5401f2f4b4",
            "02513549c1564f5b8cbd0e542226c821",
            "f07a0fb66c044d4586856994a4be96b0",
            "3cf5c443485e45ea9224d0a0e9f5586b",
            "5bb4330aa22241b8919bcd765324a813",
            "6bd64621443b40e39110a6de7619582f",
            "0802d5420fa14eab9763c6ea7eaf6551",
            "1e368c8e4ce44ca3a0d0b955164d9977",
            "7b68bf292a2442e39121e91b769cfe83",
            "fbde31c0dc504df19a6c9068dbfd0854",
            "6d3bdca7f9f845f08807a62eacb3220f",
            "3911b83a16864481842af69a6023422a",
            "551310026f564807a2fb76594ec578db",
            "678ec8ee33714af59592631a59365f64"
          ]
        },
        "outputId": "d429d488-014e-43ec-f9c4-3e2074028f66"
      },
      "source": [
        "#Please check  profile-report for EDA\n",
        "profile = ProfileReport(df, title='Pandas Profiling Report', explorative=True)\n",
        "profile.to_file('EDA.html')"
      ],
      "execution_count": null,
      "outputs": [
        {
          "output_type": "display_data",
          "data": {
            "application/vnd.jupyter.widget-view+json": {
              "model_id": "a7d084c3ad164520885c6e93b74580dd",
              "version_minor": 0,
              "version_major": 2
            },
            "text/plain": [
              "HBox(children=(HTML(value='Summarize dataset'), FloatProgress(value=0.0, max=18.0), HTML(value='')))"
            ]
          },
          "metadata": {
            "tags": []
          }
        },
        {
          "output_type": "stream",
          "text": [
            "\n"
          ],
          "name": "stdout"
        },
        {
          "output_type": "display_data",
          "data": {
            "application/vnd.jupyter.widget-view+json": {
              "model_id": "39b6b4fa703941a38c1823bd1614da2a",
              "version_minor": 0,
              "version_major": 2
            },
            "text/plain": [
              "HBox(children=(HTML(value='Generate report structure'), FloatProgress(value=0.0, max=1.0), HTML(value='')))"
            ]
          },
          "metadata": {
            "tags": []
          }
        },
        {
          "output_type": "stream",
          "text": [
            "\n"
          ],
          "name": "stdout"
        },
        {
          "output_type": "display_data",
          "data": {
            "application/vnd.jupyter.widget-view+json": {
              "model_id": "a688b28b237e4e38b07fe86bc20c3a63",
              "version_minor": 0,
              "version_major": 2
            },
            "text/plain": [
              "HBox(children=(HTML(value='Render HTML'), FloatProgress(value=0.0, max=1.0), HTML(value='')))"
            ]
          },
          "metadata": {
            "tags": []
          }
        },
        {
          "output_type": "stream",
          "text": [
            "\n"
          ],
          "name": "stdout"
        },
        {
          "output_type": "display_data",
          "data": {
            "application/vnd.jupyter.widget-view+json": {
              "model_id": "3cf5c443485e45ea9224d0a0e9f5586b",
              "version_minor": 0,
              "version_major": 2
            },
            "text/plain": [
              "HBox(children=(HTML(value='Export report to file'), FloatProgress(value=0.0, max=1.0), HTML(value='')))"
            ]
          },
          "metadata": {
            "tags": []
          }
        },
        {
          "output_type": "stream",
          "text": [
            "\n"
          ],
          "name": "stdout"
        }
      ]
    },
    {
      "cell_type": "markdown",
      "metadata": {
        "id": "xFlDW6t24-5g"
      },
      "source": [
        "*So in EDA using Pandas Profelling there is no null values but there is dupicate rows*\n",
        " ![pp.png](data:image/png;base64,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)"
      ]
    },
    {
      "cell_type": "markdown",
      "metadata": {
        "id": "PtYCPR888aro"
      },
      "source": [
        "### **Data Cleaning**\n",
        "Droping null and duplicate values .we are converting the string to Lowercase and removing null values if any and removing duplicate values."
      ]
    },
    {
      "cell_type": "code",
      "metadata": {
        "id": "7DlmTLEp3r-s"
      },
      "source": [
        "df['Item'] = df['Item'].str.lower()\n",
        "df = df.drop(df[df.Item == 'none'].index)\n",
        "df=df.drop_duplicates()"
      ],
      "execution_count": null,
      "outputs": []
    },
    {
      "cell_type": "code",
      "metadata": {
        "id": "cQJokQ0o8Lgw",
        "colab": {
          "base_uri": "https://localhost:8080/",
          "height": 106
        },
        "outputId": "9503ffcd-8d80-442f-ab36-c0484cb5f950"
      },
      "source": [
        "df.isnull().sum()"
      ],
      "execution_count": null,
      "outputs": [
        {
          "output_type": "execute_result",
          "data": {
            "text/plain": [
              "Date           0\n",
              "Time           0\n",
              "Transaction    0\n",
              "Item           0\n",
              "dtype: int64"
            ]
          },
          "metadata": {
            "tags": []
          },
          "execution_count": 56
        }
      ]
    },
    {
      "cell_type": "markdown",
      "metadata": {
        "id": "l-dnQZj8Ng8x"
      },
      "source": [
        "### Data Visulization"
      ]
    },
    {
      "cell_type": "code",
      "metadata": {
        "id": "euC4eJMw8MO4",
        "colab": {
          "base_uri": "https://localhost:8080/",
          "height": 35
        },
        "outputId": "0862a7a4-6a79-4bda-a956-4606d699c249"
      },
      "source": [
        "print(\"Number of unique items sold in barkery: \",len(df['Item'].unique()))"
      ],
      "execution_count": null,
      "outputs": [
        {
          "output_type": "stream",
          "text": [
            "Number of unique items sold in barkery:  94\n"
          ],
          "name": "stdout"
        }
      ]
    },
    {
      "cell_type": "code",
      "metadata": {
        "id": "rQq8DsyO8poJ",
        "colab": {
          "base_uri": "https://localhost:8080/",
          "height": 645
        },
        "outputId": "8a197f69-cc49-400e-f861-76408096c6de"
      },
      "source": [
        "fig, ax=plt.subplots(figsize=(16,7))\n",
        "df['Item'].value_counts().sort_values(ascending=False).head(30).plot.bar(width=0.5,color='maroon',edgecolor='k',align='center',linewidth=1)\n",
        "plt.xlabel('Food Item',fontsize=20)\n",
        "plt.ylabel('Number of transactions',fontsize=17)\n",
        "ax.tick_params(labelsize=20)\n",
        "plt.title('30 Most Sold Items at the Bakery',fontsize=20)\n",
        "plt.show()\n"
      ],
      "execution_count": null,
      "outputs": [
        {
          "output_type": "display_data",
          "data": {
            "image/png": "[encoded data removed]",
            "text/plain": [
              "<Figure size 1152x504 with 1 Axes>"
            ]
          },
          "metadata": {
            "tags": [],
            "needs_background": "light"
          }
        }
      ]
    },
    {
      "cell_type": "markdown",
      "metadata": {
        "id": "MitqgJmHv3HD"
      },
      "source": [
        "This is the 30 most sold item in this bakery.Top most 30 sale of items in bakery. We can see that coffee, bread, tea was top three sale all-over. For many consumers, coffee is an essential part of their morning. For café owners, there’s a different type of morning rush. From the hours of roughly 6 to 10 AM, it can seem tough to keep up with the constant flow of customers flocking to your shop for coffee"
      ]
    },
    {
      "cell_type": "markdown",
      "metadata": {
        "id": "yfGRhfXzMMCX"
      },
      "source": [
        "Now, as it is transactional data, we need to convert the date, time string to datetime using datetime library."
      ]
    },
    {
      "cell_type": "code",
      "metadata": {
        "id": "YQ8-ok_O-obK"
      },
      "source": [
        "\n",
        "df['datetime'] = pd.to_datetime(df['Date']+\" \"+df['Time'])\n",
        "df['Week'] = df['datetime'].dt.week\n",
        "df['Month'] = df['datetime'].dt.month\n",
        "df['Weekday'] = df['datetime'].dt.weekday\n",
        "df['Hours'] = df['datetime'].dt.hour\n",
        "df1=df[['Date','Transaction', 'Month','Week', 'Weekday','Hours','Item']]"
      ],
      "execution_count": null,
      "outputs": []
    },
    {
      "cell_type": "markdown",
      "metadata": {
        "id": "FOASwO7_MPL0"
      },
      "source": [
        "Now, inserting the column on the bases of the hours like Morning, Afternoon, Evening so that we can analysis sale at that time"
      ]
    },
    {
      "cell_type": "code",
      "metadata": {
        "id": "92ZmYnj6xp2x"
      },
      "source": [
        "def time_of_day(hour):\n",
        "    \"\"\"\n",
        "    Determines whether a purchase was made in the morning, afternoon, or evening.\n",
        "    \"\"\"\n",
        "    if hour < 12:\n",
        "        return 'morning'\n",
        "    elif hour < 17:\n",
        "        return 'afternoon'\n",
        "    else:\n",
        "        return 'evening'"
      ],
      "execution_count": null,
      "outputs": []
    },
    {
      "cell_type": "code",
      "metadata": {
        "id": "Sp8UvC2o1RPs"
      },
      "source": [
        "df1['time_of_day'] = df1.Hours.apply(time_of_day)"
      ],
      "execution_count": null,
      "outputs": []
    },
    {
      "cell_type": "code",
      "metadata": {
        "id": "OpMgE8Vc1XNp",
        "colab": {
          "base_uri": "https://localhost:8080/",
          "height": 545
        },
        "outputId": "c9203794-723a-4a49-fd74-d53129e5c85d"
      },
      "source": [
        "fig, ax=plt.subplots(figsize=(16,7))\n",
        "at=df1[df1['time_of_day']=='morning']\n",
        "at['Item'].value_counts().sort_values(ascending=False).head(30).plot.bar(width=0.5,color='maroon',edgecolor='k',align='center',linewidth=1)\n",
        "plt.xlabel('Food Item',fontsize=20)\n",
        "plt.ylabel('Number of transactions',fontsize=17)\n",
        "ax.tick_params(labelsize=20)\n",
        "plt.title('30 Most Sold Items at the Bakery in Morning',fontsize=20)\n",
        "plt.show()"
      ],
      "execution_count": null,
      "outputs": [
        {
          "output_type": "display_data",
          "data": {
            "image/png": "[encoded data removed]",
            "text/plain": [
              "<Figure size 1152x504 with 1 Axes>"
            ]
          },
          "metadata": {
            "tags": [],
            "needs_background": "light"
          }
        }
      ]
    },
    {
      "cell_type": "code",
      "metadata": {
        "id": "KzcZlfWt1-mT",
        "colab": {
          "base_uri": "https://localhost:8080/",
          "height": 562
        },
        "outputId": "a1c0880c-233a-4508-e27f-c5cf6968d688"
      },
      "source": [
        "fig, ax=plt.subplots(figsize=(16,7))\n",
        "at=df1[df1['time_of_day']=='afternoon']\n",
        "at['Item'].value_counts().sort_values(ascending=False).head(30).plot.bar(width=0.5,color='maroon',edgecolor='k',align='center',linewidth=1)\n",
        "plt.xlabel('Food Item',fontsize=20)\n",
        "plt.ylabel('Number of transactions',fontsize=17)\n",
        "ax.tick_params(labelsize=20)\n",
        "plt.title('30 Most Sold Items at the Bakery in afternoon',fontsize=20)\n",
        "plt.show()"
      ],
      "execution_count": null,
      "outputs": [
        {
          "output_type": "display_data",
          "data": {
            "image/png": "[encoded data removed]",
            "text/plain": [
              "<Figure size 1152x504 with 1 Axes>"
            ]
          },
          "metadata": {
            "tags": [],
            "needs_background": "light"
          }
        }
      ]
    },
    {
      "cell_type": "code",
      "metadata": {
        "id": "ULo7jZFi2MKa",
        "colab": {
          "base_uri": "https://localhost:8080/",
          "height": 636
        },
        "outputId": "7143b393-069d-4de7-a346-858e790a51b9"
      },
      "source": [
        "fig, ax=plt.subplots(figsize=(16,7))\n",
        "at=df1[df1['time_of_day']=='evening']\n",
        "at['Item'].value_counts().sort_values(ascending=False).head(30).plot.bar(width=0.5,color='maroon',edgecolor='k',align='center',linewidth=1)\n",
        "plt.xlabel('Food Item',fontsize=20)\n",
        "plt.ylabel('Number of transactions',fontsize=17)\n",
        "ax.tick_params(labelsize=20)\n",
        "plt.title('30 Most Sold Items at the Bakery in evening',fontsize=20)\n",
        "plt.show()"
      ],
      "execution_count": null,
      "outputs": [
        {
          "output_type": "display_data",
          "data": {
            "image/png": "[encoded data removed]",
            "text/plain": [
              "<Figure size 1152x504 with 1 Axes>"
            ]
          },
          "metadata": {
            "tags": [],
            "needs_background": "light"
          }
        }
      ]
    },
    {
      "cell_type": "code",
      "metadata": {
        "id": "bbEzKUdZbXJH",
        "colab": {
          "base_uri": "https://localhost:8080/",
          "height": 564
        },
        "outputId": "00b126e5-ca7a-4215-87d5-238d275b4ab4"
      },
      "source": [
        "fig, ax=plt.subplots(figsize=(16,7))\n",
        "df1['time_of_day'].value_counts().plot.bar(width=0.5,edgecolor='k',align='center',linewidth=2)\n",
        "plt.xlabel('Time of the Day',fontsize=20)\n",
        "plt.ylabel('Number of transactions',fontsize=20)\n",
        "ax.tick_params(labelsize=20)\n",
        "plt.title('Sales During Different Period of the Day',fontsize=25)\n",
        "plt.grid()\n",
        "plt.ioff()"
      ],
      "execution_count": null,
      "outputs": [
        {
          "output_type": "display_data",
          "data": {
            "image/png": "[encoded data removed]",
            "text/plain": [
              "<Figure size 1152x504 with 1 Axes>"
            ]
          },
          "metadata": {
            "tags": [],
            "needs_background": "light"
          }
        }
      ]
    },
    {
      "cell_type": "markdown",
      "metadata": {
        "id": "awNHfH8PbtrF"
      },
      "source": [
        "From this bar plot we can see that in afternoon the sales increases. So, we can apply the discount in afternoon. So, now bakery should have Enough Lunch Time Staff."
      ]
    },
    {
      "cell_type": "code",
      "metadata": {
        "id": "N7IVBvmk83vl",
        "colab": {
          "base_uri": "https://localhost:8080/",
          "height": 296
        },
        "outputId": "4f17bb62-0bb3-4766-8517-d7a08c71abf3"
      },
      "source": [
        "sns.countplot(x='Weekday',data=df1,palette='dark')"
      ],
      "execution_count": null,
      "outputs": [
        {
          "output_type": "execute_result",
          "data": {
            "text/plain": [
              "<matplotlib.axes._subplots.AxesSubplot at 0x7fb054786ac8>"
            ]
          },
          "metadata": {
            "tags": []
          },
          "execution_count": 10
        },
        {
          "output_type": "display_data",
          "data": {
            "image/png": "[encoded data removed]",
            "text/plain": [
              "<Figure size 432x288 with 1 Axes>"
            ]
          },
          "metadata": {
            "tags": [],
            "needs_background": "light"
          }
        }
      ]
    },
    {
      "cell_type": "markdown",
      "metadata": {
        "id": "sSQcTl6lNo5U"
      },
      "source": [
        "So, from this we get to know that saturaday is a day that this bakery will have the highest sells"
      ]
    },
    {
      "cell_type": "code",
      "metadata": {
        "id": "je9X_ECD-cNe",
        "colab": {
          "base_uri": "https://localhost:8080/",
          "height": 296
        },
        "outputId": "a8bbb7b0-2dc2-47eb-e3e6-f03a93243ffd"
      },
      "source": [
        "sns.countplot(x='Hours',data=df1,palette='rocket')"
      ],
      "execution_count": null,
      "outputs": [
        {
          "output_type": "execute_result",
          "data": {
            "text/plain": [
              "<matplotlib.axes._subplots.AxesSubplot at 0x7fb053e44240>"
            ]
          },
          "metadata": {
            "tags": []
          },
          "execution_count": 11
        },
        {
          "output_type": "display_data",
          "data": {
            "image/png": "[encoded data removed]",
            "text/plain": [
              "<Figure size 432x288 with 1 Axes>"
            ]
          },
          "metadata": {
            "tags": [],
            "needs_background": "light"
          }
        }
      ]
    },
    {
      "cell_type": "markdown",
      "metadata": {
        "id": "umc6VR6iN4Fy"
      },
      "source": [
        "From, this we can see that 10:00 AM to 3:00 PM is the Peek hours"
      ]
    },
    {
      "cell_type": "code",
      "metadata": {
        "id": "yyVCpAAFeZmu"
      },
      "source": [
        "df1.loc[df1.Month == 10, 'Monthly'] = 'Oct'  \n",
        "df1.loc[df1.Month == 11, 'Monthly'] = 'Nov' \n",
        "df1.loc[df1.Month == 12, 'Monthly'] = 'Dec' \n",
        "\n",
        "df1.loc[df1.Month == 1, 'Monthly'] = 'Jan' \n",
        "df1.loc[df1.Month == 2, 'Monthly'] = 'Feb' \n",
        "df1.loc[df1.Month == 3, 'Monthly'] = 'Mar' \n",
        "df1.loc[df1.Month == 4, 'Monthly'] = 'Apr' \n",
        "\n",
        "\n",
        "df1.loc[df1.Month == 9, 'Monthly'] = 'Sept' \n",
        "df1.loc[df1.Month == 8, 'Monthly'] = 'Aug' \n",
        "df1.loc[df1.Month == 7, 'Monthly'] = 'July' \n",
        "df1.loc[df1.Month == 6, 'Monthly'] = 'June' \n",
        "df1.loc[df1.Month == 5, 'Monthly'] = 'May' \n",
        "\n"
      ],
      "execution_count": null,
      "outputs": []
    },
    {
      "cell_type": "code",
      "metadata": {
        "id": "PErEunVvftj6",
        "colab": {
          "base_uri": "https://localhost:8080/",
          "height": 506
        },
        "outputId": "763ba0b2-4d01-4ea6-ef64-5144fa2fd024"
      },
      "source": [
        "fig, ax=plt.subplots(figsize=(16,7))\n",
        "ax=df1.groupby('Monthly')['Item'].count().sort_values().plot.bar(width=0.5,edgecolor='k',align='center',linewidth=2)\n",
        "plt.xlabel('Month',fontsize=20)\n",
        "plt.ylabel('Number of transactions',fontsize=20)\n",
        "ax.tick_params(labelsize=20)\n",
        "plt.title('Sales During Different Months of a Year',fontsize=25)\n",
        "plt.grid()\n",
        "plt.ioff()"
      ],
      "execution_count": null,
      "outputs": [
        {
          "output_type": "display_data",
          "data": {
            "image/png": "[encoded data removed]",
            "text/plain": [
              "<Figure size 1152x504 with 1 Axes>"
            ]
          },
          "metadata": {
            "tags": [],
            "needs_background": "light"
          }
        }
      ]
    },
    {
      "cell_type": "code",
      "metadata": {
        "id": "TvY-mEbqEK66",
        "colab": {
          "base_uri": "https://localhost:8080/",
          "height": 372
        },
        "outputId": "882f5609-4038-4ae2-f0f8-0487fa7c5843"
      },
      "source": [
        "#TEA OR COFFEE?\n",
        "\n",
        "df = pd.read_csv('BreadBasket.csv')\n",
        "basket=df\n",
        "TC = basket.groupby(\"Date\")[\"Item\"].apply(lambda x: x[x==\"Tea\"].count()).rename(\"Teas sold\").to_frame()\n",
        "TC[\"Coffees sold\"] = basket.groupby(\"Date\")[\"Item\"].apply(lambda x: x[x==\"Coffee\"].count())\n",
        "\n",
        "TC.plot(figsize=(12,5))\n",
        "plt.ylim([0,80])\n",
        "plt.grid(True)\n",
        "plt.legend()\n",
        "\n",
        "print(\"Maxiumum numbers of teas sold: \" + str(TC[\"Teas sold\"].max()))\n",
        "print(\"Maxiumum numbers of coffees sold: \" + str(TC[\"Coffees sold\"].max()))"
      ],
      "execution_count": null,
      "outputs": [
        {
          "output_type": "stream",
          "text": [
            "Maxiumum numbers of teas sold: 20\n",
            "Maxiumum numbers of coffees sold: 72\n"
          ],
          "name": "stdout"
        },
        {
          "output_type": "display_data",
          "data": {
            "image/png": "[encoded data removed]",
            "text/plain": [
              "<Figure size 864x360 with 1 Axes>"
            ]
          },
          "metadata": {
            "tags": [],
            "needs_background": "light"
          }
        }
      ]
    },
    {
      "cell_type": "code",
      "metadata": {
        "id": "0maCgSKEExvR",
        "colab": {
          "base_uri": "https://localhost:8080/",
          "height": 351
        },
        "outputId": "6862341f-49c5-4e61-b1b8-86984e9a29a7"
      },
      "source": [
        "#Coffee hours\n",
        "cof_hours=df1[(df1['Item']== 'Coffee')]\n",
        "cof_hours=cof_hours.groupby('Hours')['Item'].count()\n",
        "cof_hours=cof_hours.reset_index()\n",
        "\n",
        "fig,ax=plt.subplots(figsize=(8,5))\n",
        "ax=sns.barplot(data=cof_hours,x='Hours',y='Item')\n",
        "ax.set_xlabel('Hours Of The Day')\n",
        "ax.set_ylabel('Number of Times Coffee is Sold')"
      ],
      "execution_count": null,
      "outputs": [
        {
          "output_type": "execute_result",
          "data": {
            "text/plain": [
              "Text(0, 0.5, 'Number of Times Coffee is Sold')"
            ]
          },
          "metadata": {
            "tags": []
          },
          "execution_count": 130
        },
        {
          "output_type": "display_data",
          "data": {
            "image/png": "[encoded data removed]",
            "text/plain": [
              "<Figure size 576x360 with 1 Axes>"
            ]
          },
          "metadata": {
            "tags": [],
            "needs_background": "light"
          }
        }
      ]
    },
    {
      "cell_type": "markdown",
      "metadata": {
        "id": "RTcVZ1JJDhj3"
      },
      "source": [
        "Now, as coffee is our highest selling item so analysis its selling hours. So, peak hour of coffee is 10:00 AM-12:00 PM. In this we can increase our sale by adding offer for less selling but expensive items in discount. "
      ]
    },
    {
      "cell_type": "code",
      "metadata": {
        "id": "_tYVkkcZE8Y8",
        "colab": {
          "base_uri": "https://localhost:8080/",
          "height": 351
        },
        "outputId": "8c83c47c-e3bb-42d7-8ddf-8f479bc8eaba"
      },
      "source": [
        "#Cake hours\n",
        "cake_hours=df1.loc[(df1['Item']=='Cake')]\n",
        "cake_hours=cake_hours.groupby('Hours')['Item'].count()\n",
        "cake_hours=cake_hours.reset_index()\n",
        "\n",
        "fig,ax=plt.subplots(figsize=(8,5))\n",
        "ax=sns.barplot(data=cake_hours,x='Hours',y='Item')\n",
        "ax.set_xlabel('Hours Of The Day')\n",
        "ax.set_ylabel('Nombre of Times Cake is Sold')"
      ],
      "execution_count": null,
      "outputs": [
        {
          "output_type": "execute_result",
          "data": {
            "text/plain": [
              "Text(0, 0.5, 'Nombre of Times Cake is Sold')"
            ]
          },
          "metadata": {
            "tags": []
          },
          "execution_count": 131
        },
        {
          "output_type": "display_data",
          "data": {
            "image/png": "[encoded data removed]",
            "text/plain": [
              "<Figure size 576x360 with 1 Axes>"
            ]
          },
          "metadata": {
            "tags": [],
            "needs_background": "light"
          }
        }
      ]
    },
    {
      "cell_type": "markdown",
      "metadata": {
        "id": "oSCOeT2eDkX6"
      },
      "source": [
        "Now, analysis cake sale it is highest in demand in 2:00PM -3:00 PM .As, children’s are free from there school and as you know they demand for them is highest."
      ]
    },
    {
      "cell_type": "code",
      "metadata": {
        "id": "9anE8HzjFaq-",
        "colab": {
          "base_uri": "https://localhost:8080/",
          "height": 351
        },
        "outputId": "b12a6daf-5605-4770-e238-3b8d75708a6e"
      },
      "source": [
        "#Tea hours\n",
        "tea_hours=df1.loc[(df1['Item']=='Tea')]\n",
        "tea_hours=tea_hours.groupby('Hours')['Item'].count()\n",
        "tea_hours=tea_hours.reset_index()\n",
        "\n",
        "fig,ax=plt.subplots(figsize=(8,5))\n",
        "ax=sns.barplot(data=tea_hours,x='Hours',y='Item')\n",
        "ax.set_xlabel('Hours Of The Day')\n",
        "ax.set_ylabel('Nombre of Times Tea is Sold')"
      ],
      "execution_count": null,
      "outputs": [
        {
          "output_type": "execute_result",
          "data": {
            "text/plain": [
              "Text(0, 0.5, 'Nombre of Times Tea is Sold')"
            ]
          },
          "metadata": {
            "tags": []
          },
          "execution_count": 132
        },
        {
          "output_type": "display_data",
          "data": {
            "image/png": "[encoded data removed]",
            "text/plain": [
              "<Figure size 576x360 with 1 Axes>"
            ]
          },
          "metadata": {
            "tags": [],
            "needs_background": "light"
          }
        }
      ]
    },
    {
      "cell_type": "markdown",
      "metadata": {
        "id": "R36csDkQQX_O"
      },
      "source": [
        "Now, seeing the tea sale is highest in 2:00 PM to 3:00 PM."
      ]
    },
    {
      "cell_type": "markdown",
      "metadata": {
        "id": "kaQc_RneShOA"
      },
      "source": [
        "**From EDA we can see that** \n",
        "1. coffee ,bread ,tea has the top sales \n",
        "2. sales for cake,sandwich ,hot chocolate increase in afternoon \n",
        "3. In afternoon our sales increases \n",
        "4. In weekend our sales increases \n",
        "5. From 10:00 AM - 3:00PM is our peak hour \n",
        "6. In winter season we have more number of transcation\n",
        "\n",
        "**Strategies:**\n",
        "1.\tFrom my point of view this bakery should provide the different variants of coffee as it is of high sales and the area in which this bakery is situated is of coffee lover so people would buy different coffee to tasty\n",
        "2.\tIn morning we should recommend cookies with coffee as in morning we have less cookies, toast sold so we can have some discount as cookies complement coffee and t is very light to eat in morning.\n",
        "3.\tWe would recommend bread with that but we would not give them on discount\n",
        "4.\tIn afternoon we should apply discount on the food items which is expensive but not sold much and which is heavy to fill the empty stomach.\n",
        "5.\tFrom 10:00 -3:00 we should have more employees as people are more so that don't have to wait as people get annoyed if they have to wait.\n",
        "6.\tIn winter season we should promote new dishes as it will be bought as in winter, we have high sales.\n",
        "7.\tIn weekends we can apply discount or buy one get one as there are more tourist.\n"
      ]
    },
    {
      "cell_type": "markdown",
      "metadata": {
        "id": "GJTG0hK-AvZ8"
      },
      "source": [
        "### **Association  Rule Mining**\n",
        "\n",
        "Association rule mining finds interesting associations and relationships among large sets of data items. This rule shows how frequently a itemset occurs in a transaction.\n",
        "\n",
        "So i will will be specifie to use version 0.17.3 as it has fuction of max_patterns and FP growth \n",
        "\n",
        "**The Question is to know about the purchase of which item(s) lead to purchases of what other items?**\n",
        "\n",
        "For this Question to be solved we need to apply association rule mining and generate patterns to get the strong rule which can help is bakery Catalogue designing, Marketing, increase the sales. In this report we have compared different Mining Algorithm time take like Aprior, FP Growth. Then we have extracted the Max-patten and Close pattern and taken the time into account as see their advantage and disadvantage.\n",
        "\n",
        "\n",
        "Generate strong association rules from the frequent itemsets: By definition, these rules must satisfy minimum support and minimum confidence.\n",
        "\n"
      ]
    },
    {
      "cell_type": "markdown",
      "metadata": {
        "id": "XMlLWKKQYJjY"
      },
      "source": [
        "* Here, we are using **Support, Confidence, Lift** to extract the interesting patterns. \n",
        "*As, always using Support and Confidence can some times misleading and we need to see the correlation sometimes. \n",
        "* Then support have should be small and confidence value should be large and  \n",
        "* Lift is >= 1 then items are positively correlated. \n",
        "\n",
        "So, on the bases of that we are using mini_support=0.01, mini_confidence=0.5 and lift>=1.\n",
        "1. Support is the probability that a transaction contains S= (X U Y).\n",
        "\n",
        "2. Confidence: The conditional probability that a transaction containing X also contains Y  `C= sup (X U Y)/sup (X)`.\n",
        "\n",
        "3. The rule must satisfy both Mini support and confidence to be strong .\n",
        "\n",
        "4. The lift between the occurrence of A and B can be measured by computing lift(A, B) = P(A ∪B) P(A)P(B) .\n",
        "        \n",
        "\n"
      ]
    },
    {
      "cell_type": "code",
      "metadata": {
        "id": "qhtEbSOUEbUB",
        "colab": {
          "base_uri": "https://localhost:8080/"
        },
        "outputId": "c6758ccf-d605-474c-ca90-f9ae532b3bc2"
      },
      "source": [
        "import mlxtend\n",
        "print(mlxtend.__version__)"
      ],
      "execution_count": null,
      "outputs": [
        {
          "output_type": "stream",
          "text": [
            "0.17.3\n"
          ],
          "name": "stdout"
        }
      ]
    },
    {
      "cell_type": "code",
      "metadata": {
        "id": "0uBMJ_X0-xJj"
      },
      "source": [
        "from mlxtend.frequent_patterns import apriori\n",
        "from mlxtend.frequent_patterns import association_rules\n",
        "from mlxtend.frequent_patterns import fpgrowth\n",
        "from mlxtend.frequent_patterns import fpmax\n",
        "import time"
      ],
      "execution_count": null,
      "outputs": []
    },
    {
      "cell_type": "markdown",
      "metadata": {
        "id": "Yy5Kf4hAXXj8"
      },
      "source": [
        "To mine the association rule, we need to group by the data on `transaction` as there are different tuple of same transaction and then on `Items` for that transaction. Then for items which have more than one same item sold in the transaction we need to change it to 1."
      ]
    },
    {
      "cell_type": "code",
      "metadata": {
        "id": "IYNFQk5GADqe"
      },
      "source": [
        "hot_encoded_df = df.groupby(['Transaction', 'Item'])['Item'].count().unstack().reset_index().fillna(0).set_index('Transaction')"
      ],
      "execution_count": null,
      "outputs": []
    },
    {
      "cell_type": "code",
      "metadata": {
        "id": "aK7GGHxXBi3k",
        "colab": {
          "base_uri": "https://localhost:8080/",
          "height": 323
        },
        "outputId": "7be75411-08eb-4231-c7ac-1d9e776a9f1b"
      },
      "source": [
        "hot_encoded_df.head()"
      ],
      "execution_count": null,
      "outputs": [
        {
          "output_type": "execute_result",
          "data": {
            "text/html": [
              "<div>\n",
              "<style scoped>\n",
              "    .dataframe tbody tr th:only-of-type {\n",
              "        vertical-align: middle;\n",
              "    }\n",
              "\n",
              "    .dataframe tbody tr th {\n",
              "        vertical-align: top;\n",
              "    }\n",
              "\n",
              "    .dataframe thead th {\n",
              "        text-align: right;\n",
              "    }\n",
              "</style>\n",
              "<table border=\"1\" class=\"dataframe\">\n",
              "  <thead>\n",
              "    <tr style=\"text-align: right;\">\n",
              "      <th>Item</th>\n",
              "      <th>adjustment</th>\n",
              "      <th>afternoon with the baker</th>\n",
              "      <th>alfajores</th>\n",
              "      <th>argentina night</th>\n",
              "      <th>art tray</th>\n",
              "      <th>bacon</th>\n",
              "      <th>baguette</th>\n",
              "      <th>bakewell</th>\n",
              "      <th>bare popcorn</th>\n",
              "      <th>basket</th>\n",
              "      <th>bowl nic pitt</th>\n",
              "      <th>bread</th>\n",
              "      <th>bread pudding</th>\n",
              "      <th>brioche and salami</th>\n",
              "      <th>brownie</th>\n",
              "      <th>cake</th>\n",
              "      <th>caramel bites</th>\n",
              "      <th>cherry me dried fruit</th>\n",
              "      <th>chicken sand</th>\n",
              "      <th>chicken stew</th>\n",
              "      <th>chimichurri oil</th>\n",
              "      <th>chocolates</th>\n",
              "      <th>christmas common</th>\n",
              "      <th>coffee</th>\n",
              "      <th>coffee granules</th>\n",
              "      <th>coke</th>\n",
              "      <th>cookies</th>\n",
              "      <th>crepes</th>\n",
              "      <th>crisps</th>\n",
              "      <th>drinking chocolate spoons</th>\n",
              "      <th>duck egg</th>\n",
              "      <th>dulce de leche</th>\n",
              "      <th>eggs</th>\n",
              "      <th>ella's kitchen pouches</th>\n",
              "      <th>empanadas</th>\n",
              "      <th>extra salami or feta</th>\n",
              "      <th>fairy doors</th>\n",
              "      <th>farm house</th>\n",
              "      <th>focaccia</th>\n",
              "      <th>frittata</th>\n",
              "      <th>...</th>\n",
              "      <th>lemon and coconut</th>\n",
              "      <th>medialuna</th>\n",
              "      <th>mighty protein</th>\n",
              "      <th>mineral water</th>\n",
              "      <th>mortimer</th>\n",
              "      <th>muesli</th>\n",
              "      <th>muffin</th>\n",
              "      <th>my-5 fruit shoot</th>\n",
              "      <th>nomad bag</th>\n",
              "      <th>olum &amp; polenta</th>\n",
              "      <th>panatone</th>\n",
              "      <th>pastry</th>\n",
              "      <th>pick and mix bowls</th>\n",
              "      <th>pintxos</th>\n",
              "      <th>polenta</th>\n",
              "      <th>postcard</th>\n",
              "      <th>raspberry shortbread sandwich</th>\n",
              "      <th>raw bars</th>\n",
              "      <th>salad</th>\n",
              "      <th>sandwich</th>\n",
              "      <th>scandinavian</th>\n",
              "      <th>scone</th>\n",
              "      <th>siblings</th>\n",
              "      <th>smoothies</th>\n",
              "      <th>soup</th>\n",
              "      <th>spanish brunch</th>\n",
              "      <th>spread</th>\n",
              "      <th>tacos/fajita</th>\n",
              "      <th>tartine</th>\n",
              "      <th>tea</th>\n",
              "      <th>the bart</th>\n",
              "      <th>the nomad</th>\n",
              "      <th>tiffin</th>\n",
              "      <th>toast</th>\n",
              "      <th>truffles</th>\n",
              "      <th>tshirt</th>\n",
              "      <th>valentine's card</th>\n",
              "      <th>vegan feast</th>\n",
              "      <th>vegan mincepie</th>\n",
              "      <th>victorian sponge</th>\n",
              "    </tr>\n",
              "    <tr>\n",
              "      <th>Transaction</th>\n",
              "      <th></th>\n",
              "      <th></th>\n",
              "      <th></th>\n",
              "      <th></th>\n",
              "      <th></th>\n",
              "      <th></th>\n",
              "      <th></th>\n",
              "      <th></th>\n",
              "      <th></th>\n",
              "      <th></th>\n",
              "      <th></th>\n",
              "      <th></th>\n",
              "      <th></th>\n",
              "      <th></th>\n",
              "      <th></th>\n",
              "      <th></th>\n",
              "      <th></th>\n",
              "      <th></th>\n",
              "      <th></th>\n",
              "      <th></th>\n",
              "      <th></th>\n",
              "      <th></th>\n",
              "      <th></th>\n",
              "      <th></th>\n",
              "      <th></th>\n",
              "      <th></th>\n",
              "      <th></th>\n",
              "      <th></th>\n",
              "      <th></th>\n",
              "      <th></th>\n",
              "      <th></th>\n",
              "      <th></th>\n",
              "      <th></th>\n",
              "      <th></th>\n",
              "      <th></th>\n",
              "      <th></th>\n",
              "      <th></th>\n",
              "      <th></th>\n",
              "      <th></th>\n",
              "      <th></th>\n",
              "      <th></th>\n",
              "      <th></th>\n",
              "      <th></th>\n",
              "      <th></th>\n",
              "      <th></th>\n",
              "      <th></th>\n",
              "      <th></th>\n",
              "      <th></th>\n",
              "      <th></th>\n",
              "      <th></th>\n",
              "      <th></th>\n",
              "      <th></th>\n",
              "      <th></th>\n",
              "      <th></th>\n",
              "      <th></th>\n",
              "      <th></th>\n",
              "      <th></th>\n",
              "      <th></th>\n",
              "      <th></th>\n",
              "      <th></th>\n",
              "      <th></th>\n",
              "      <th></th>\n",
              "      <th></th>\n",
              "      <th></th>\n",
              "      <th></th>\n",
              "      <th></th>\n",
              "      <th></th>\n",
              "      <th></th>\n",
              "      <th></th>\n",
              "      <th></th>\n",
              "      <th></th>\n",
              "      <th></th>\n",
              "      <th></th>\n",
              "      <th></th>\n",
              "      <th></th>\n",
              "      <th></th>\n",
              "      <th></th>\n",
              "      <th></th>\n",
              "      <th></th>\n",
              "      <th></th>\n",
              "      <th></th>\n",
              "    </tr>\n",
              "  </thead>\n",
              "  <tbody>\n",
              "    <tr>\n",
              "      <th>1</th>\n",
              "      <td>0.0</td>\n",
              "      <td>0.0</td>\n",
              "      <td>0.0</td>\n",
              "      <td>0.0</td>\n",
              "      <td>0.0</td>\n",
              "      <td>0.0</td>\n",
              "      <td>0.0</td>\n",
              "      <td>0.0</td>\n",
              "      <td>0.0</td>\n",
              "      <td>0.0</td>\n",
              "      <td>0.0</td>\n",
              "      <td>1.0</td>\n",
              "      <td>0.0</td>\n",
              "      <td>0.0</td>\n",
              "      <td>0.0</td>\n",
              "      <td>0.0</td>\n",
              "      <td>0.0</td>\n",
              "      <td>0.0</td>\n",
              "      <td>0.0</td>\n",
              "      <td>0.0</td>\n",
              "      <td>0.0</td>\n",
              "      <td>0.0</td>\n",
              "      <td>0.0</td>\n",
              "      <td>0.0</td>\n",
              "      <td>0.0</td>\n",
              "      <td>0.0</td>\n",
              "      <td>0.0</td>\n",
              "      <td>0.0</td>\n",
              "      <td>0.0</td>\n",
              "      <td>0.0</td>\n",
              "      <td>0.0</td>\n",
              "      <td>0.0</td>\n",
              "      <td>0.0</td>\n",
              "      <td>0.0</td>\n",
              "      <td>0.0</td>\n",
              "      <td>0.0</td>\n",
              "      <td>0.0</td>\n",
              "      <td>0.0</td>\n",
              "      <td>0.0</td>\n",
              "      <td>0.0</td>\n",
              "      <td>...</td>\n",
              "      <td>0.0</td>\n",
              "      <td>0.0</td>\n",
              "      <td>0.0</td>\n",
              "      <td>0.0</td>\n",
              "      <td>0.0</td>\n",
              "      <td>0.0</td>\n",
              "      <td>0.0</td>\n",
              "      <td>0.0</td>\n",
              "      <td>0.0</td>\n",
              "      <td>0.0</td>\n",
              "      <td>0.0</td>\n",
              "      <td>0.0</td>\n",
              "      <td>0.0</td>\n",
              "      <td>0.0</td>\n",
              "      <td>0.0</td>\n",
              "      <td>0.0</td>\n",
              "      <td>0.0</td>\n",
              "      <td>0.0</td>\n",
              "      <td>0.0</td>\n",
              "      <td>0.0</td>\n",
              "      <td>0.0</td>\n",
              "      <td>0.0</td>\n",
              "      <td>0.0</td>\n",
              "      <td>0.0</td>\n",
              "      <td>0.0</td>\n",
              "      <td>0.0</td>\n",
              "      <td>0.0</td>\n",
              "      <td>0.0</td>\n",
              "      <td>0.0</td>\n",
              "      <td>0.0</td>\n",
              "      <td>0.0</td>\n",
              "      <td>0.0</td>\n",
              "      <td>0.0</td>\n",
              "      <td>0.0</td>\n",
              "      <td>0.0</td>\n",
              "      <td>0.0</td>\n",
              "      <td>0.0</td>\n",
              "      <td>0.0</td>\n",
              "      <td>0.0</td>\n",
              "      <td>0.0</td>\n",
              "    </tr>\n",
              "    <tr>\n",
              "      <th>2</th>\n",
              "      <td>0.0</td>\n",
              "      <td>0.0</td>\n",
              "      <td>0.0</td>\n",
              "      <td>0.0</td>\n",
              "      <td>0.0</td>\n",
              "      <td>0.0</td>\n",
              "      <td>0.0</td>\n",
              "      <td>0.0</td>\n",
              "      <td>0.0</td>\n",
              "      <td>0.0</td>\n",
              "      <td>0.0</td>\n",
              "      <td>0.0</td>\n",
              "      <td>0.0</td>\n",
              "      <td>0.0</td>\n",
              "      <td>0.0</td>\n",
              "      <td>0.0</td>\n",
              "      <td>0.0</td>\n",
              "      <td>0.0</td>\n",
              "      <td>0.0</td>\n",
              "      <td>0.0</td>\n",
              "      <td>0.0</td>\n",
              "      <td>0.0</td>\n",
              "      <td>0.0</td>\n",
              "      <td>0.0</td>\n",
              "      <td>0.0</td>\n",
              "      <td>0.0</td>\n",
              "      <td>0.0</td>\n",
              "      <td>0.0</td>\n",
              "      <td>0.0</td>\n",
              "      <td>0.0</td>\n",
              "      <td>0.0</td>\n",
              "      <td>0.0</td>\n",
              "      <td>0.0</td>\n",
              "      <td>0.0</td>\n",
              "      <td>0.0</td>\n",
              "      <td>0.0</td>\n",
              "      <td>0.0</td>\n",
              "      <td>0.0</td>\n",
              "      <td>0.0</td>\n",
              "      <td>0.0</td>\n",
              "      <td>...</td>\n",
              "      <td>0.0</td>\n",
              "      <td>0.0</td>\n",
              "      <td>0.0</td>\n",
              "      <td>0.0</td>\n",
              "      <td>0.0</td>\n",
              "      <td>0.0</td>\n",
              "      <td>0.0</td>\n",
              "      <td>0.0</td>\n",
              "      <td>0.0</td>\n",
              "      <td>0.0</td>\n",
              "      <td>0.0</td>\n",
              "      <td>0.0</td>\n",
              "      <td>0.0</td>\n",
              "      <td>0.0</td>\n",
              "      <td>0.0</td>\n",
              "      <td>0.0</td>\n",
              "      <td>0.0</td>\n",
              "      <td>0.0</td>\n",
              "      <td>0.0</td>\n",
              "      <td>0.0</td>\n",
              "      <td>1.0</td>\n",
              "      <td>0.0</td>\n",
              "      <td>0.0</td>\n",
              "      <td>0.0</td>\n",
              "      <td>0.0</td>\n",
              "      <td>0.0</td>\n",
              "      <td>0.0</td>\n",
              "      <td>0.0</td>\n",
              "      <td>0.0</td>\n",
              "      <td>0.0</td>\n",
              "      <td>0.0</td>\n",
              "      <td>0.0</td>\n",
              "      <td>0.0</td>\n",
              "      <td>0.0</td>\n",
              "      <td>0.0</td>\n",
              "      <td>0.0</td>\n",
              "      <td>0.0</td>\n",
              "      <td>0.0</td>\n",
              "      <td>0.0</td>\n",
              "      <td>0.0</td>\n",
              "    </tr>\n",
              "    <tr>\n",
              "      <th>3</th>\n",
              "      <td>0.0</td>\n",
              "      <td>0.0</td>\n",
              "      <td>0.0</td>\n",
              "      <td>0.0</td>\n",
              "      <td>0.0</td>\n",
              "      <td>0.0</td>\n",
              "      <td>0.0</td>\n",
              "      <td>0.0</td>\n",
              "      <td>0.0</td>\n",
              "      <td>0.0</td>\n",
              "      <td>0.0</td>\n",
              "      <td>0.0</td>\n",
              "      <td>0.0</td>\n",
              "      <td>0.0</td>\n",
              "      <td>0.0</td>\n",
              "      <td>0.0</td>\n",
              "      <td>0.0</td>\n",
              "      <td>0.0</td>\n",
              "      <td>0.0</td>\n",
              "      <td>0.0</td>\n",
              "      <td>0.0</td>\n",
              "      <td>0.0</td>\n",
              "      <td>0.0</td>\n",
              "      <td>0.0</td>\n",
              "      <td>0.0</td>\n",
              "      <td>0.0</td>\n",
              "      <td>1.0</td>\n",
              "      <td>0.0</td>\n",
              "      <td>0.0</td>\n",
              "      <td>0.0</td>\n",
              "      <td>0.0</td>\n",
              "      <td>0.0</td>\n",
              "      <td>0.0</td>\n",
              "      <td>0.0</td>\n",
              "      <td>0.0</td>\n",
              "      <td>0.0</td>\n",
              "      <td>0.0</td>\n",
              "      <td>0.0</td>\n",
              "      <td>0.0</td>\n",
              "      <td>0.0</td>\n",
              "      <td>...</td>\n",
              "      <td>0.0</td>\n",
              "      <td>0.0</td>\n",
              "      <td>0.0</td>\n",
              "      <td>0.0</td>\n",
              "      <td>0.0</td>\n",
              "      <td>0.0</td>\n",
              "      <td>0.0</td>\n",
              "      <td>0.0</td>\n",
              "      <td>0.0</td>\n",
              "      <td>0.0</td>\n",
              "      <td>0.0</td>\n",
              "      <td>0.0</td>\n",
              "      <td>0.0</td>\n",
              "      <td>0.0</td>\n",
              "      <td>0.0</td>\n",
              "      <td>0.0</td>\n",
              "      <td>0.0</td>\n",
              "      <td>0.0</td>\n",
              "      <td>0.0</td>\n",
              "      <td>0.0</td>\n",
              "      <td>0.0</td>\n",
              "      <td>0.0</td>\n",
              "      <td>0.0</td>\n",
              "      <td>0.0</td>\n",
              "      <td>0.0</td>\n",
              "      <td>0.0</td>\n",
              "      <td>0.0</td>\n",
              "      <td>0.0</td>\n",
              "      <td>0.0</td>\n",
              "      <td>0.0</td>\n",
              "      <td>0.0</td>\n",
              "      <td>0.0</td>\n",
              "      <td>0.0</td>\n",
              "      <td>0.0</td>\n",
              "      <td>0.0</td>\n",
              "      <td>0.0</td>\n",
              "      <td>0.0</td>\n",
              "      <td>0.0</td>\n",
              "      <td>0.0</td>\n",
              "      <td>0.0</td>\n",
              "    </tr>\n",
              "    <tr>\n",
              "      <th>4</th>\n",
              "      <td>0.0</td>\n",
              "      <td>0.0</td>\n",
              "      <td>0.0</td>\n",
              "      <td>0.0</td>\n",
              "      <td>0.0</td>\n",
              "      <td>0.0</td>\n",
              "      <td>0.0</td>\n",
              "      <td>0.0</td>\n",
              "      <td>0.0</td>\n",
              "      <td>0.0</td>\n",
              "      <td>0.0</td>\n",
              "      <td>0.0</td>\n",
              "      <td>0.0</td>\n",
              "      <td>0.0</td>\n",
              "      <td>0.0</td>\n",
              "      <td>0.0</td>\n",
              "      <td>0.0</td>\n",
              "      <td>0.0</td>\n",
              "      <td>0.0</td>\n",
              "      <td>0.0</td>\n",
              "      <td>0.0</td>\n",
              "      <td>0.0</td>\n",
              "      <td>0.0</td>\n",
              "      <td>0.0</td>\n",
              "      <td>0.0</td>\n",
              "      <td>0.0</td>\n",
              "      <td>0.0</td>\n",
              "      <td>0.0</td>\n",
              "      <td>0.0</td>\n",
              "      <td>0.0</td>\n",
              "      <td>0.0</td>\n",
              "      <td>0.0</td>\n",
              "      <td>0.0</td>\n",
              "      <td>0.0</td>\n",
              "      <td>0.0</td>\n",
              "      <td>0.0</td>\n",
              "      <td>0.0</td>\n",
              "      <td>0.0</td>\n",
              "      <td>0.0</td>\n",
              "      <td>0.0</td>\n",
              "      <td>...</td>\n",
              "      <td>0.0</td>\n",
              "      <td>0.0</td>\n",
              "      <td>0.0</td>\n",
              "      <td>0.0</td>\n",
              "      <td>0.0</td>\n",
              "      <td>0.0</td>\n",
              "      <td>1.0</td>\n",
              "      <td>0.0</td>\n",
              "      <td>0.0</td>\n",
              "      <td>0.0</td>\n",
              "      <td>0.0</td>\n",
              "      <td>0.0</td>\n",
              "      <td>0.0</td>\n",
              "      <td>0.0</td>\n",
              "      <td>0.0</td>\n",
              "      <td>0.0</td>\n",
              "      <td>0.0</td>\n",
              "      <td>0.0</td>\n",
              "      <td>0.0</td>\n",
              "      <td>0.0</td>\n",
              "      <td>0.0</td>\n",
              "      <td>0.0</td>\n",
              "      <td>0.0</td>\n",
              "      <td>0.0</td>\n",
              "      <td>0.0</td>\n",
              "      <td>0.0</td>\n",
              "      <td>0.0</td>\n",
              "      <td>0.0</td>\n",
              "      <td>0.0</td>\n",
              "      <td>0.0</td>\n",
              "      <td>0.0</td>\n",
              "      <td>0.0</td>\n",
              "      <td>0.0</td>\n",
              "      <td>0.0</td>\n",
              "      <td>0.0</td>\n",
              "      <td>0.0</td>\n",
              "      <td>0.0</td>\n",
              "      <td>0.0</td>\n",
              "      <td>0.0</td>\n",
              "      <td>0.0</td>\n",
              "    </tr>\n",
              "    <tr>\n",
              "      <th>5</th>\n",
              "      <td>0.0</td>\n",
              "      <td>0.0</td>\n",
              "      <td>0.0</td>\n",
              "      <td>0.0</td>\n",
              "      <td>0.0</td>\n",
              "      <td>0.0</td>\n",
              "      <td>0.0</td>\n",
              "      <td>0.0</td>\n",
              "      <td>0.0</td>\n",
              "      <td>0.0</td>\n",
              "      <td>0.0</td>\n",
              "      <td>1.0</td>\n",
              "      <td>0.0</td>\n",
              "      <td>0.0</td>\n",
              "      <td>0.0</td>\n",
              "      <td>0.0</td>\n",
              "      <td>0.0</td>\n",
              "      <td>0.0</td>\n",
              "      <td>0.0</td>\n",
              "      <td>0.0</td>\n",
              "      <td>0.0</td>\n",
              "      <td>0.0</td>\n",
              "      <td>0.0</td>\n",
              "      <td>1.0</td>\n",
              "      <td>0.0</td>\n",
              "      <td>0.0</td>\n",
              "      <td>0.0</td>\n",
              "      <td>0.0</td>\n",
              "      <td>0.0</td>\n",
              "      <td>0.0</td>\n",
              "      <td>0.0</td>\n",
              "      <td>0.0</td>\n",
              "      <td>0.0</td>\n",
              "      <td>0.0</td>\n",
              "      <td>0.0</td>\n",
              "      <td>0.0</td>\n",
              "      <td>0.0</td>\n",
              "      <td>0.0</td>\n",
              "      <td>0.0</td>\n",
              "      <td>0.0</td>\n",
              "      <td>...</td>\n",
              "      <td>0.0</td>\n",
              "      <td>0.0</td>\n",
              "      <td>0.0</td>\n",
              "      <td>0.0</td>\n",
              "      <td>0.0</td>\n",
              "      <td>0.0</td>\n",
              "      <td>0.0</td>\n",
              "      <td>0.0</td>\n",
              "      <td>0.0</td>\n",
              "      <td>0.0</td>\n",
              "      <td>0.0</td>\n",
              "      <td>1.0</td>\n",
              "      <td>0.0</td>\n",
              "      <td>0.0</td>\n",
              "      <td>0.0</td>\n",
              "      <td>0.0</td>\n",
              "      <td>0.0</td>\n",
              "      <td>0.0</td>\n",
              "      <td>0.0</td>\n",
              "      <td>0.0</td>\n",
              "      <td>0.0</td>\n",
              "      <td>0.0</td>\n",
              "      <td>0.0</td>\n",
              "      <td>0.0</td>\n",
              "      <td>0.0</td>\n",
              "      <td>0.0</td>\n",
              "      <td>0.0</td>\n",
              "      <td>0.0</td>\n",
              "      <td>0.0</td>\n",
              "      <td>0.0</td>\n",
              "      <td>0.0</td>\n",
              "      <td>0.0</td>\n",
              "      <td>0.0</td>\n",
              "      <td>0.0</td>\n",
              "      <td>0.0</td>\n",
              "      <td>0.0</td>\n",
              "      <td>0.0</td>\n",
              "      <td>0.0</td>\n",
              "      <td>0.0</td>\n",
              "      <td>0.0</td>\n",
              "    </tr>\n",
              "  </tbody>\n",
              "</table>\n",
              "<p>5 rows × 94 columns</p>\n",
              "</div>"
            ],
            "text/plain": [
              "Item         adjustment  ...  victorian sponge\n",
              "Transaction              ...                  \n",
              "1                   0.0  ...               0.0\n",
              "2                   0.0  ...               0.0\n",
              "3                   0.0  ...               0.0\n",
              "4                   0.0  ...               0.0\n",
              "5                   0.0  ...               0.0\n",
              "\n",
              "[5 rows x 94 columns]"
            ]
          },
          "metadata": {
            "tags": []
          },
          "execution_count": 98
        }
      ]
    },
    {
      "cell_type": "markdown",
      "metadata": {
        "id": "v3U8U1Z5XuJK"
      },
      "source": [
        "So,we have contructed this function as for one transcation if the number of item bought is more then 1 then also we considered it as 1 "
      ]
    },
    {
      "cell_type": "code",
      "metadata": {
        "id": "3pY93CNoBjWf"
      },
      "source": [
        "def encode_units(x):\n",
        "    if x <= 0:\n",
        "        return 0\n",
        "    if x >= 1:\n",
        "        return 1\n",
        "hot_encoded_df = hot_encoded_df.applymap(encode_units)"
      ],
      "execution_count": null,
      "outputs": []
    },
    {
      "cell_type": "markdown",
      "metadata": {
        "id": "q9j0n9M1YAVr"
      },
      "source": [
        "Now, we are using Aprior Algorithm to find out the frequent pattern. It is seminal algorithm proposed by R.agrwal and R.Srikant in 1994.it is an iterative approach known as level wise search and 2 step process which contains join and prune action."
      ]
    },
    {
      "cell_type": "code",
      "metadata": {
        "id": "TpcL3LS1CIRC",
        "colab": {
          "base_uri": "https://localhost:8080/",
          "height": 52
        },
        "outputId": "74b6177b-13c3-449b-825b-df8691f9b16b"
      },
      "source": [
        "start_time = time.time()\n",
        "end_time = time.time()\n",
        "frequent_itemsets = apriori(hot_encoded_df, min_support=0.01, use_colnames=True)\n",
        "print('Time to find frequent itemset using Apriori')\n",
        "print(\"--- %s seconds ---\" % (end_time - start_time))"
      ],
      "execution_count": null,
      "outputs": [
        {
          "output_type": "stream",
          "text": [
            "Time to find frequent itemset using Apriori\n",
            "--- 2.4557113647460938e-05 seconds ---\n"
          ],
          "name": "stdout"
        }
      ]
    },
    {
      "cell_type": "code",
      "metadata": {
        "id": "dFsItTBBE-x0"
      },
      "source": [
        "rules = association_rules(frequent_itemsets, metric='lift', min_threshold=1)\n"
      ],
      "execution_count": null,
      "outputs": []
    },
    {
      "cell_type": "code",
      "metadata": {
        "id": "bcG3PomiDQUM",
        "colab": {
          "base_uri": "https://localhost:8080/",
          "height": 370
        },
        "outputId": "5102aed8-a9a3-49ee-b529-b8a0adb60e00"
      },
      "source": [
        "r=rules[ (rules['lift'] >= 1) & (rules['confidence'] >= 0.5)]\n",
        "r.sort_values(by=['confidence'],ascending=False)"
      ],
      "execution_count": null,
      "outputs": [
        {
          "output_type": "execute_result",
          "data": {
            "text/html": [
              "<div>\n",
              "<style scoped>\n",
              "    .dataframe tbody tr th:only-of-type {\n",
              "        vertical-align: middle;\n",
              "    }\n",
              "\n",
              "    .dataframe tbody tr th {\n",
              "        vertical-align: top;\n",
              "    }\n",
              "\n",
              "    .dataframe thead th {\n",
              "        text-align: right;\n",
              "    }\n",
              "</style>\n",
              "<table border=\"1\" class=\"dataframe\">\n",
              "  <thead>\n",
              "    <tr style=\"text-align: right;\">\n",
              "      <th></th>\n",
              "      <th>antecedents</th>\n",
              "      <th>consequents</th>\n",
              "      <th>antecedent support</th>\n",
              "      <th>consequent support</th>\n",
              "      <th>support</th>\n",
              "      <th>confidence</th>\n",
              "      <th>lift</th>\n",
              "      <th>leverage</th>\n",
              "      <th>conviction</th>\n",
              "    </tr>\n",
              "  </thead>\n",
              "  <tbody>\n",
              "    <tr>\n",
              "      <th>31</th>\n",
              "      <td>(toast)</td>\n",
              "      <td>(coffee)</td>\n",
              "      <td>0.033597</td>\n",
              "      <td>0.478394</td>\n",
              "      <td>0.023666</td>\n",
              "      <td>0.704403</td>\n",
              "      <td>1.472431</td>\n",
              "      <td>0.007593</td>\n",
              "      <td>1.764582</td>\n",
              "    </tr>\n",
              "    <tr>\n",
              "      <th>29</th>\n",
              "      <td>(spanish brunch)</td>\n",
              "      <td>(coffee)</td>\n",
              "      <td>0.018172</td>\n",
              "      <td>0.478394</td>\n",
              "      <td>0.010882</td>\n",
              "      <td>0.598837</td>\n",
              "      <td>1.251766</td>\n",
              "      <td>0.002189</td>\n",
              "      <td>1.300235</td>\n",
              "    </tr>\n",
              "    <tr>\n",
              "      <th>18</th>\n",
              "      <td>(medialuna)</td>\n",
              "      <td>(coffee)</td>\n",
              "      <td>0.061807</td>\n",
              "      <td>0.478394</td>\n",
              "      <td>0.035182</td>\n",
              "      <td>0.569231</td>\n",
              "      <td>1.189878</td>\n",
              "      <td>0.005614</td>\n",
              "      <td>1.210871</td>\n",
              "    </tr>\n",
              "    <tr>\n",
              "      <th>22</th>\n",
              "      <td>(pastry)</td>\n",
              "      <td>(coffee)</td>\n",
              "      <td>0.086107</td>\n",
              "      <td>0.478394</td>\n",
              "      <td>0.047544</td>\n",
              "      <td>0.552147</td>\n",
              "      <td>1.154168</td>\n",
              "      <td>0.006351</td>\n",
              "      <td>1.164682</td>\n",
              "    </tr>\n",
              "    <tr>\n",
              "      <th>0</th>\n",
              "      <td>(alfajores)</td>\n",
              "      <td>(coffee)</td>\n",
              "      <td>0.036344</td>\n",
              "      <td>0.478394</td>\n",
              "      <td>0.019651</td>\n",
              "      <td>0.540698</td>\n",
              "      <td>1.130235</td>\n",
              "      <td>0.002264</td>\n",
              "      <td>1.135648</td>\n",
              "    </tr>\n",
              "    <tr>\n",
              "      <th>16</th>\n",
              "      <td>(juice)</td>\n",
              "      <td>(coffee)</td>\n",
              "      <td>0.038563</td>\n",
              "      <td>0.478394</td>\n",
              "      <td>0.020602</td>\n",
              "      <td>0.534247</td>\n",
              "      <td>1.116750</td>\n",
              "      <td>0.002154</td>\n",
              "      <td>1.119919</td>\n",
              "    </tr>\n",
              "    <tr>\n",
              "      <th>24</th>\n",
              "      <td>(sandwich)</td>\n",
              "      <td>(coffee)</td>\n",
              "      <td>0.071844</td>\n",
              "      <td>0.478394</td>\n",
              "      <td>0.038246</td>\n",
              "      <td>0.532353</td>\n",
              "      <td>1.112792</td>\n",
              "      <td>0.003877</td>\n",
              "      <td>1.115384</td>\n",
              "    </tr>\n",
              "    <tr>\n",
              "      <th>6</th>\n",
              "      <td>(cake)</td>\n",
              "      <td>(coffee)</td>\n",
              "      <td>0.103856</td>\n",
              "      <td>0.478394</td>\n",
              "      <td>0.054728</td>\n",
              "      <td>0.526958</td>\n",
              "      <td>1.101515</td>\n",
              "      <td>0.005044</td>\n",
              "      <td>1.102664</td>\n",
              "    </tr>\n",
              "    <tr>\n",
              "      <th>26</th>\n",
              "      <td>(scone)</td>\n",
              "      <td>(coffee)</td>\n",
              "      <td>0.034548</td>\n",
              "      <td>0.478394</td>\n",
              "      <td>0.018067</td>\n",
              "      <td>0.522936</td>\n",
              "      <td>1.093107</td>\n",
              "      <td>0.001539</td>\n",
              "      <td>1.093366</td>\n",
              "    </tr>\n",
              "    <tr>\n",
              "      <th>12</th>\n",
              "      <td>(cookies)</td>\n",
              "      <td>(coffee)</td>\n",
              "      <td>0.054411</td>\n",
              "      <td>0.478394</td>\n",
              "      <td>0.028209</td>\n",
              "      <td>0.518447</td>\n",
              "      <td>1.083723</td>\n",
              "      <td>0.002179</td>\n",
              "      <td>1.083174</td>\n",
              "    </tr>\n",
              "    <tr>\n",
              "      <th>15</th>\n",
              "      <td>(hot chocolate)</td>\n",
              "      <td>(coffee)</td>\n",
              "      <td>0.058320</td>\n",
              "      <td>0.478394</td>\n",
              "      <td>0.029583</td>\n",
              "      <td>0.507246</td>\n",
              "      <td>1.060311</td>\n",
              "      <td>0.001683</td>\n",
              "      <td>1.058553</td>\n",
              "    </tr>\n",
              "  </tbody>\n",
              "</table>\n",
              "</div>"
            ],
            "text/plain": [
              "         antecedents consequents  ...  leverage  conviction\n",
              "31           (toast)    (coffee)  ...  0.007593    1.764582\n",
              "29  (spanish brunch)    (coffee)  ...  0.002189    1.300235\n",
              "18       (medialuna)    (coffee)  ...  0.005614    1.210871\n",
              "22          (pastry)    (coffee)  ...  0.006351    1.164682\n",
              "0        (alfajores)    (coffee)  ...  0.002264    1.135648\n",
              "16           (juice)    (coffee)  ...  0.002154    1.119919\n",
              "24        (sandwich)    (coffee)  ...  0.003877    1.115384\n",
              "6             (cake)    (coffee)  ...  0.005044    1.102664\n",
              "26           (scone)    (coffee)  ...  0.001539    1.093366\n",
              "12         (cookies)    (coffee)  ...  0.002179    1.083174\n",
              "15   (hot chocolate)    (coffee)  ...  0.001683    1.058553\n",
              "\n",
              "[11 rows x 9 columns]"
            ]
          },
          "metadata": {
            "tags": []
          },
          "execution_count": 146
        }
      ]
    },
    {
      "cell_type": "code",
      "metadata": {
        "id": "ezlsAF6L0ZLB",
        "colab": {
          "base_uri": "https://localhost:8080/",
          "height": 340
        },
        "outputId": "ea8de41c-2d20-4b95-d04a-ad8291f5e0ed"
      },
      "source": [
        "# Rare patterns\n",
        "frequent_itemsets = apriori(hot_encoded_df, min_support=0.002, use_colnames=True)\n",
        "rules = association_rules(frequent_itemsets, metric='lift', min_threshold=1)\n",
        "r=rules[ (rules['lift'] >= 1) & (rules['confidence'] >= 0.5)]\n",
        "r.sort_values(by=['confidence'],ascending=False)[:10]"
      ],
      "execution_count": null,
      "outputs": [
        {
          "output_type": "execute_result",
          "data": {
            "text/html": [
              "<div>\n",
              "<style scoped>\n",
              "    .dataframe tbody tr th:only-of-type {\n",
              "        vertical-align: middle;\n",
              "    }\n",
              "\n",
              "    .dataframe tbody tr th {\n",
              "        vertical-align: top;\n",
              "    }\n",
              "\n",
              "    .dataframe thead th {\n",
              "        text-align: right;\n",
              "    }\n",
              "</style>\n",
              "<table border=\"1\" class=\"dataframe\">\n",
              "  <thead>\n",
              "    <tr style=\"text-align: right;\">\n",
              "      <th></th>\n",
              "      <th>antecedents</th>\n",
              "      <th>consequents</th>\n",
              "      <th>antecedent support</th>\n",
              "      <th>consequent support</th>\n",
              "      <th>support</th>\n",
              "      <th>confidence</th>\n",
              "      <th>lift</th>\n",
              "      <th>leverage</th>\n",
              "      <th>conviction</th>\n",
              "    </tr>\n",
              "  </thead>\n",
              "  <tbody>\n",
              "    <tr>\n",
              "      <th>76</th>\n",
              "      <td>(extra salami or feta)</td>\n",
              "      <td>(coffee)</td>\n",
              "      <td>0.004015</td>\n",
              "      <td>0.478394</td>\n",
              "      <td>0.003275</td>\n",
              "      <td>0.815789</td>\n",
              "      <td>1.705267</td>\n",
              "      <td>0.001355</td>\n",
              "      <td>2.831575</td>\n",
              "    </tr>\n",
              "    <tr>\n",
              "      <th>89</th>\n",
              "      <td>(keeping it local)</td>\n",
              "      <td>(coffee)</td>\n",
              "      <td>0.006656</td>\n",
              "      <td>0.478394</td>\n",
              "      <td>0.005388</td>\n",
              "      <td>0.809524</td>\n",
              "      <td>1.692169</td>\n",
              "      <td>0.002204</td>\n",
              "      <td>2.738431</td>\n",
              "    </tr>\n",
              "    <tr>\n",
              "      <th>352</th>\n",
              "      <td>(juice, spanish brunch)</td>\n",
              "      <td>(coffee)</td>\n",
              "      <td>0.002747</td>\n",
              "      <td>0.478394</td>\n",
              "      <td>0.002007</td>\n",
              "      <td>0.730769</td>\n",
              "      <td>1.527547</td>\n",
              "      <td>0.000693</td>\n",
              "      <td>1.937393</td>\n",
              "    </tr>\n",
              "    <tr>\n",
              "      <th>113</th>\n",
              "      <td>(toast)</td>\n",
              "      <td>(coffee)</td>\n",
              "      <td>0.033597</td>\n",
              "      <td>0.478394</td>\n",
              "      <td>0.023666</td>\n",
              "      <td>0.704403</td>\n",
              "      <td>1.472431</td>\n",
              "      <td>0.007593</td>\n",
              "      <td>1.764582</td>\n",
              "    </tr>\n",
              "    <tr>\n",
              "      <th>276</th>\n",
              "      <td>(medialuna, cake)</td>\n",
              "      <td>(coffee)</td>\n",
              "      <td>0.003698</td>\n",
              "      <td>0.478394</td>\n",
              "      <td>0.002536</td>\n",
              "      <td>0.685714</td>\n",
              "      <td>1.433367</td>\n",
              "      <td>0.000767</td>\n",
              "      <td>1.659655</td>\n",
              "    </tr>\n",
              "    <tr>\n",
              "      <th>20</th>\n",
              "      <td>(art tray)</td>\n",
              "      <td>(coffee)</td>\n",
              "      <td>0.004015</td>\n",
              "      <td>0.478394</td>\n",
              "      <td>0.002747</td>\n",
              "      <td>0.684211</td>\n",
              "      <td>1.430224</td>\n",
              "      <td>0.000826</td>\n",
              "      <td>1.651752</td>\n",
              "    </tr>\n",
              "    <tr>\n",
              "      <th>285</th>\n",
              "      <td>(cake, sandwich)</td>\n",
              "      <td>(coffee)</td>\n",
              "      <td>0.006867</td>\n",
              "      <td>0.478394</td>\n",
              "      <td>0.004649</td>\n",
              "      <td>0.676923</td>\n",
              "      <td>1.414990</td>\n",
              "      <td>0.001363</td>\n",
              "      <td>1.614495</td>\n",
              "    </tr>\n",
              "    <tr>\n",
              "      <th>336</th>\n",
              "      <td>(hot chocolate, pastry)</td>\n",
              "      <td>(coffee)</td>\n",
              "      <td>0.005705</td>\n",
              "      <td>0.478394</td>\n",
              "      <td>0.003803</td>\n",
              "      <td>0.666667</td>\n",
              "      <td>1.393551</td>\n",
              "      <td>0.001074</td>\n",
              "      <td>1.564818</td>\n",
              "    </tr>\n",
              "    <tr>\n",
              "      <th>377</th>\n",
              "      <td>(soup, sandwich)</td>\n",
              "      <td>(coffee)</td>\n",
              "      <td>0.005494</td>\n",
              "      <td>0.478394</td>\n",
              "      <td>0.003592</td>\n",
              "      <td>0.653846</td>\n",
              "      <td>1.366752</td>\n",
              "      <td>0.000964</td>\n",
              "      <td>1.506862</td>\n",
              "    </tr>\n",
              "    <tr>\n",
              "      <th>330</th>\n",
              "      <td>(hot chocolate, medialuna)</td>\n",
              "      <td>(coffee)</td>\n",
              "      <td>0.004754</td>\n",
              "      <td>0.478394</td>\n",
              "      <td>0.003064</td>\n",
              "      <td>0.644444</td>\n",
              "      <td>1.347100</td>\n",
              "      <td>0.000789</td>\n",
              "      <td>1.467017</td>\n",
              "    </tr>\n",
              "  </tbody>\n",
              "</table>\n",
              "</div>"
            ],
            "text/plain": [
              "                    antecedents consequents  ...  leverage  conviction\n",
              "76       (extra salami or feta)    (coffee)  ...  0.001355    2.831575\n",
              "89           (keeping it local)    (coffee)  ...  0.002204    2.738431\n",
              "352     (juice, spanish brunch)    (coffee)  ...  0.000693    1.937393\n",
              "113                     (toast)    (coffee)  ...  0.007593    1.764582\n",
              "276           (medialuna, cake)    (coffee)  ...  0.000767    1.659655\n",
              "20                   (art tray)    (coffee)  ...  0.000826    1.651752\n",
              "285            (cake, sandwich)    (coffee)  ...  0.001363    1.614495\n",
              "336     (hot chocolate, pastry)    (coffee)  ...  0.001074    1.564818\n",
              "377            (soup, sandwich)    (coffee)  ...  0.000964    1.506862\n",
              "330  (hot chocolate, medialuna)    (coffee)  ...  0.000789    1.467017\n",
              "\n",
              "[10 rows x 9 columns]"
            ]
          },
          "metadata": {
            "tags": []
          },
          "execution_count": 14
        }
      ]
    },
    {
      "cell_type": "markdown",
      "metadata": {
        "id": "zgrYgrnLfLVT"
      },
      "source": [
        "1. So we can see that with cake and sandwich we can also recommand coffee in afternoon as in afternoon our sales increases for cake and sandwich\n",
        "2. medialuna,cake ,hot chocolate and coffee can be recommandand"
      ]
    },
    {
      "cell_type": "code",
      "metadata": {
        "id": "E-JrZT_sw5vh",
        "colab": {
          "base_uri": "https://localhost:8080/",
          "height": 47
        },
        "outputId": "b0e3f982-a466-4fe7-d6b5-bf9ebba7239b"
      },
      "source": [
        "# Negitive Patterns\n",
        "r=rules[ (rules['lift'] <1) &(rules['confidence'] >= 0.5)]\n",
        "r.sort_values(by=['confidence'],ascending=False)"
      ],
      "execution_count": null,
      "outputs": [
        {
          "output_type": "execute_result",
          "data": {
            "text/html": [
              "<div>\n",
              "<style scoped>\n",
              "    .dataframe tbody tr th:only-of-type {\n",
              "        vertical-align: middle;\n",
              "    }\n",
              "\n",
              "    .dataframe tbody tr th {\n",
              "        vertical-align: top;\n",
              "    }\n",
              "\n",
              "    .dataframe thead th {\n",
              "        text-align: right;\n",
              "    }\n",
              "</style>\n",
              "<table border=\"1\" class=\"dataframe\">\n",
              "  <thead>\n",
              "    <tr style=\"text-align: right;\">\n",
              "      <th></th>\n",
              "      <th>antecedents</th>\n",
              "      <th>consequents</th>\n",
              "      <th>antecedent support</th>\n",
              "      <th>consequent support</th>\n",
              "      <th>support</th>\n",
              "      <th>confidence</th>\n",
              "      <th>lift</th>\n",
              "      <th>leverage</th>\n",
              "      <th>conviction</th>\n",
              "    </tr>\n",
              "  </thead>\n",
              "  <tbody>\n",
              "  </tbody>\n",
              "</table>\n",
              "</div>"
            ],
            "text/plain": [
              "Empty DataFrame\n",
              "Columns: [antecedents, consequents, antecedent support, consequent support, support, confidence, lift, leverage, conviction]\n",
              "Index: []"
            ]
          },
          "metadata": {
            "tags": []
          },
          "execution_count": 17
        }
      ]
    },
    {
      "cell_type": "markdown",
      "metadata": {
        "id": "bitzc_6qgaFE"
      },
      "source": [
        "No negetive pattern"
      ]
    },
    {
      "cell_type": "markdown",
      "metadata": {
        "id": "bLjWpi2fgUsI"
      },
      "source": [
        "The FP-Growth Algorithm, proposed by Han, is an efficient and scalable method for mining the complete set of frequent patterns by pattern fragment growth, using an extended prefix-tree structure for storing compressed and crucial information about frequent patterns named frequent-pattern tree "
      ]
    },
    {
      "cell_type": "code",
      "metadata": {
        "id": "2HsQSZvTFe_T",
        "colab": {
          "base_uri": "https://localhost:8080/",
          "height": 52
        },
        "outputId": "9c8b1458-5f9f-46aa-b925-417f0b045d4f"
      },
      "source": [
        "from mlxtend.frequent_patterns import fpgrowth\n",
        "start_time = time.time()\n",
        "frequent_itemsets_FP=fpgrowth(hot_encoded_df, min_support=0.01, use_colnames=True)\n",
        "end_time = time.time()\n",
        "print('Time to find frequent itemset using FP-Growth')\n",
        "print(\"--- %s seconds ---\" % (end_time - start_time))"
      ],
      "execution_count": null,
      "outputs": [
        {
          "output_type": "stream",
          "text": [
            "Time to find frequent itemset using FP-Growth\n",
            "--- 0.36171674728393555 seconds ---\n"
          ],
          "name": "stdout"
        }
      ]
    },
    {
      "cell_type": "code",
      "metadata": {
        "id": "d-6TIfGbGSBc"
      },
      "source": [
        "rules_FP = association_rules(frequent_itemsets_FP, metric='lift', min_threshold=1)\n"
      ],
      "execution_count": null,
      "outputs": []
    },
    {
      "cell_type": "code",
      "metadata": {
        "id": "5qd7HJmEHHfI",
        "colab": {
          "base_uri": "https://localhost:8080/",
          "height": 370
        },
        "outputId": "c168d710-310b-42c4-dc7c-ed5989995ee0"
      },
      "source": [
        "FP=rules_FP[ (rules_FP['lift'] >= 1) & (rules_FP['confidence'] >= 0.5)]\n",
        "FP.sort_values(by=['confidence'],ascending=False)"
      ],
      "execution_count": null,
      "outputs": [
        {
          "output_type": "execute_result",
          "data": {
            "text/html": [
              "<div>\n",
              "<style scoped>\n",
              "    .dataframe tbody tr th:only-of-type {\n",
              "        vertical-align: middle;\n",
              "    }\n",
              "\n",
              "    .dataframe tbody tr th {\n",
              "        vertical-align: top;\n",
              "    }\n",
              "\n",
              "    .dataframe thead th {\n",
              "        text-align: right;\n",
              "    }\n",
              "</style>\n",
              "<table border=\"1\" class=\"dataframe\">\n",
              "  <thead>\n",
              "    <tr style=\"text-align: right;\">\n",
              "      <th></th>\n",
              "      <th>antecedents</th>\n",
              "      <th>consequents</th>\n",
              "      <th>antecedent support</th>\n",
              "      <th>consequent support</th>\n",
              "      <th>support</th>\n",
              "      <th>confidence</th>\n",
              "      <th>lift</th>\n",
              "      <th>leverage</th>\n",
              "      <th>conviction</th>\n",
              "    </tr>\n",
              "  </thead>\n",
              "  <tbody>\n",
              "    <tr>\n",
              "      <th>36</th>\n",
              "      <td>(toast)</td>\n",
              "      <td>(coffee)</td>\n",
              "      <td>0.033597</td>\n",
              "      <td>0.478394</td>\n",
              "      <td>0.023666</td>\n",
              "      <td>0.704403</td>\n",
              "      <td>1.472431</td>\n",
              "      <td>0.007593</td>\n",
              "      <td>1.764582</td>\n",
              "    </tr>\n",
              "    <tr>\n",
              "      <th>41</th>\n",
              "      <td>(spanish brunch)</td>\n",
              "      <td>(coffee)</td>\n",
              "      <td>0.018172</td>\n",
              "      <td>0.478394</td>\n",
              "      <td>0.010882</td>\n",
              "      <td>0.598837</td>\n",
              "      <td>1.251766</td>\n",
              "      <td>0.002189</td>\n",
              "      <td>1.300235</td>\n",
              "    </tr>\n",
              "    <tr>\n",
              "      <th>14</th>\n",
              "      <td>(medialuna)</td>\n",
              "      <td>(coffee)</td>\n",
              "      <td>0.061807</td>\n",
              "      <td>0.478394</td>\n",
              "      <td>0.035182</td>\n",
              "      <td>0.569231</td>\n",
              "      <td>1.189878</td>\n",
              "      <td>0.005614</td>\n",
              "      <td>1.210871</td>\n",
              "    </tr>\n",
              "    <tr>\n",
              "      <th>8</th>\n",
              "      <td>(pastry)</td>\n",
              "      <td>(coffee)</td>\n",
              "      <td>0.086107</td>\n",
              "      <td>0.478394</td>\n",
              "      <td>0.047544</td>\n",
              "      <td>0.552147</td>\n",
              "      <td>1.154168</td>\n",
              "      <td>0.006351</td>\n",
              "      <td>1.164682</td>\n",
              "    </tr>\n",
              "    <tr>\n",
              "      <th>32</th>\n",
              "      <td>(alfajores)</td>\n",
              "      <td>(coffee)</td>\n",
              "      <td>0.036344</td>\n",
              "      <td>0.478394</td>\n",
              "      <td>0.019651</td>\n",
              "      <td>0.540698</td>\n",
              "      <td>1.130235</td>\n",
              "      <td>0.002264</td>\n",
              "      <td>1.135648</td>\n",
              "    </tr>\n",
              "    <tr>\n",
              "      <th>16</th>\n",
              "      <td>(juice)</td>\n",
              "      <td>(coffee)</td>\n",
              "      <td>0.038563</td>\n",
              "      <td>0.478394</td>\n",
              "      <td>0.020602</td>\n",
              "      <td>0.534247</td>\n",
              "      <td>1.116750</td>\n",
              "      <td>0.002154</td>\n",
              "      <td>1.119919</td>\n",
              "    </tr>\n",
              "    <tr>\n",
              "      <th>30</th>\n",
              "      <td>(sandwich)</td>\n",
              "      <td>(coffee)</td>\n",
              "      <td>0.071844</td>\n",
              "      <td>0.478394</td>\n",
              "      <td>0.038246</td>\n",
              "      <td>0.532353</td>\n",
              "      <td>1.112792</td>\n",
              "      <td>0.003877</td>\n",
              "      <td>1.115384</td>\n",
              "    </tr>\n",
              "    <tr>\n",
              "      <th>18</th>\n",
              "      <td>(cake)</td>\n",
              "      <td>(coffee)</td>\n",
              "      <td>0.103856</td>\n",
              "      <td>0.478394</td>\n",
              "      <td>0.054728</td>\n",
              "      <td>0.526958</td>\n",
              "      <td>1.101515</td>\n",
              "      <td>0.005044</td>\n",
              "      <td>1.102664</td>\n",
              "    </tr>\n",
              "    <tr>\n",
              "      <th>38</th>\n",
              "      <td>(scone)</td>\n",
              "      <td>(coffee)</td>\n",
              "      <td>0.034548</td>\n",
              "      <td>0.478394</td>\n",
              "      <td>0.018067</td>\n",
              "      <td>0.522936</td>\n",
              "      <td>1.093107</td>\n",
              "      <td>0.001539</td>\n",
              "      <td>1.093366</td>\n",
              "    </tr>\n",
              "    <tr>\n",
              "      <th>4</th>\n",
              "      <td>(cookies)</td>\n",
              "      <td>(coffee)</td>\n",
              "      <td>0.054411</td>\n",
              "      <td>0.478394</td>\n",
              "      <td>0.028209</td>\n",
              "      <td>0.518447</td>\n",
              "      <td>1.083723</td>\n",
              "      <td>0.002179</td>\n",
              "      <td>1.083174</td>\n",
              "    </tr>\n",
              "    <tr>\n",
              "      <th>1</th>\n",
              "      <td>(hot chocolate)</td>\n",
              "      <td>(coffee)</td>\n",
              "      <td>0.058320</td>\n",
              "      <td>0.478394</td>\n",
              "      <td>0.029583</td>\n",
              "      <td>0.507246</td>\n",
              "      <td>1.060311</td>\n",
              "      <td>0.001683</td>\n",
              "      <td>1.058553</td>\n",
              "    </tr>\n",
              "  </tbody>\n",
              "</table>\n",
              "</div>"
            ],
            "text/plain": [
              "         antecedents consequents  ...  leverage  conviction\n",
              "36           (toast)    (coffee)  ...  0.007593    1.764582\n",
              "41  (spanish brunch)    (coffee)  ...  0.002189    1.300235\n",
              "14       (medialuna)    (coffee)  ...  0.005614    1.210871\n",
              "8           (pastry)    (coffee)  ...  0.006351    1.164682\n",
              "32       (alfajores)    (coffee)  ...  0.002264    1.135648\n",
              "16           (juice)    (coffee)  ...  0.002154    1.119919\n",
              "30        (sandwich)    (coffee)  ...  0.003877    1.115384\n",
              "18            (cake)    (coffee)  ...  0.005044    1.102664\n",
              "38           (scone)    (coffee)  ...  0.001539    1.093366\n",
              "4          (cookies)    (coffee)  ...  0.002179    1.083174\n",
              "1    (hot chocolate)    (coffee)  ...  0.001683    1.058553\n",
              "\n",
              "[11 rows x 9 columns]"
            ]
          },
          "metadata": {
            "tags": []
          },
          "execution_count": 115
        }
      ]
    },
    {
      "cell_type": "code",
      "metadata": {
        "id": "EGIQ9wqfHQZ_",
        "colab": {
          "base_uri": "https://localhost:8080/",
          "height": 52
        },
        "outputId": "87943b08-6748-44fa-b7e8-806ac1111a7f"
      },
      "source": [
        "from mlxtend.frequent_patterns import fpmax\n",
        "start_time = time.time()\n",
        "\n",
        "frequent_itemsets_max=fpmax(hot_encoded_df, min_support=0.01,use_colnames=True)\n",
        "end_time = time.time()\n",
        "print('Time to find frequent itemset using Max-Patterns')\n",
        "print(\"--- %s seconds ---\" % (end_time- start_time))"
      ],
      "execution_count": null,
      "outputs": [
        {
          "output_type": "stream",
          "text": [
            "Time to find frequent itemset using Max-Patterns\n",
            "--- 0.08535146713256836 seconds ---\n"
          ],
          "name": "stdout"
        }
      ]
    },
    {
      "cell_type": "code",
      "metadata": {
        "id": "udwLfBeNLDI9",
        "colab": {
          "base_uri": "https://localhost:8080/",
          "height": 370
        },
        "outputId": "2787b0c3-580b-4b42-bf21-3b3f83bf2a88"
      },
      "source": [
        "\n",
        "rules_max = association_rules(frequent_itemsets_FP, metric='lift', min_threshold=1)\n",
        "rules_max[ (rules_max['lift'] >= 1) & (rules_max['confidence'] >= 0.5)]"
      ],
      "execution_count": null,
      "outputs": [
        {
          "output_type": "execute_result",
          "data": {
            "text/html": [
              "<div>\n",
              "<style scoped>\n",
              "    .dataframe tbody tr th:only-of-type {\n",
              "        vertical-align: middle;\n",
              "    }\n",
              "\n",
              "    .dataframe tbody tr th {\n",
              "        vertical-align: top;\n",
              "    }\n",
              "\n",
              "    .dataframe thead th {\n",
              "        text-align: right;\n",
              "    }\n",
              "</style>\n",
              "<table border=\"1\" class=\"dataframe\">\n",
              "  <thead>\n",
              "    <tr style=\"text-align: right;\">\n",
              "      <th></th>\n",
              "      <th>antecedents</th>\n",
              "      <th>consequents</th>\n",
              "      <th>antecedent support</th>\n",
              "      <th>consequent support</th>\n",
              "      <th>support</th>\n",
              "      <th>confidence</th>\n",
              "      <th>lift</th>\n",
              "      <th>leverage</th>\n",
              "      <th>conviction</th>\n",
              "    </tr>\n",
              "  </thead>\n",
              "  <tbody>\n",
              "    <tr>\n",
              "      <th>1</th>\n",
              "      <td>(hot chocolate)</td>\n",
              "      <td>(coffee)</td>\n",
              "      <td>0.058320</td>\n",
              "      <td>0.478394</td>\n",
              "      <td>0.029583</td>\n",
              "      <td>0.507246</td>\n",
              "      <td>1.060311</td>\n",
              "      <td>0.001683</td>\n",
              "      <td>1.058553</td>\n",
              "    </tr>\n",
              "    <tr>\n",
              "      <th>4</th>\n",
              "      <td>(cookies)</td>\n",
              "      <td>(coffee)</td>\n",
              "      <td>0.054411</td>\n",
              "      <td>0.478394</td>\n",
              "      <td>0.028209</td>\n",
              "      <td>0.518447</td>\n",
              "      <td>1.083723</td>\n",
              "      <td>0.002179</td>\n",
              "      <td>1.083174</td>\n",
              "    </tr>\n",
              "    <tr>\n",
              "      <th>8</th>\n",
              "      <td>(pastry)</td>\n",
              "      <td>(coffee)</td>\n",
              "      <td>0.086107</td>\n",
              "      <td>0.478394</td>\n",
              "      <td>0.047544</td>\n",
              "      <td>0.552147</td>\n",
              "      <td>1.154168</td>\n",
              "      <td>0.006351</td>\n",
              "      <td>1.164682</td>\n",
              "    </tr>\n",
              "    <tr>\n",
              "      <th>14</th>\n",
              "      <td>(medialuna)</td>\n",
              "      <td>(coffee)</td>\n",
              "      <td>0.061807</td>\n",
              "      <td>0.478394</td>\n",
              "      <td>0.035182</td>\n",
              "      <td>0.569231</td>\n",
              "      <td>1.189878</td>\n",
              "      <td>0.005614</td>\n",
              "      <td>1.210871</td>\n",
              "    </tr>\n",
              "    <tr>\n",
              "      <th>16</th>\n",
              "      <td>(juice)</td>\n",
              "      <td>(coffee)</td>\n",
              "      <td>0.038563</td>\n",
              "      <td>0.478394</td>\n",
              "      <td>0.020602</td>\n",
              "      <td>0.534247</td>\n",
              "      <td>1.116750</td>\n",
              "      <td>0.002154</td>\n",
              "      <td>1.119919</td>\n",
              "    </tr>\n",
              "    <tr>\n",
              "      <th>18</th>\n",
              "      <td>(cake)</td>\n",
              "      <td>(coffee)</td>\n",
              "      <td>0.103856</td>\n",
              "      <td>0.478394</td>\n",
              "      <td>0.054728</td>\n",
              "      <td>0.526958</td>\n",
              "      <td>1.101515</td>\n",
              "      <td>0.005044</td>\n",
              "      <td>1.102664</td>\n",
              "    </tr>\n",
              "    <tr>\n",
              "      <th>30</th>\n",
              "      <td>(sandwich)</td>\n",
              "      <td>(coffee)</td>\n",
              "      <td>0.071844</td>\n",
              "      <td>0.478394</td>\n",
              "      <td>0.038246</td>\n",
              "      <td>0.532353</td>\n",
              "      <td>1.112792</td>\n",
              "      <td>0.003877</td>\n",
              "      <td>1.115384</td>\n",
              "    </tr>\n",
              "    <tr>\n",
              "      <th>32</th>\n",
              "      <td>(alfajores)</td>\n",
              "      <td>(coffee)</td>\n",
              "      <td>0.036344</td>\n",
              "      <td>0.478394</td>\n",
              "      <td>0.019651</td>\n",
              "      <td>0.540698</td>\n",
              "      <td>1.130235</td>\n",
              "      <td>0.002264</td>\n",
              "      <td>1.135648</td>\n",
              "    </tr>\n",
              "    <tr>\n",
              "      <th>36</th>\n",
              "      <td>(toast)</td>\n",
              "      <td>(coffee)</td>\n",
              "      <td>0.033597</td>\n",
              "      <td>0.478394</td>\n",
              "      <td>0.023666</td>\n",
              "      <td>0.704403</td>\n",
              "      <td>1.472431</td>\n",
              "      <td>0.007593</td>\n",
              "      <td>1.764582</td>\n",
              "    </tr>\n",
              "    <tr>\n",
              "      <th>38</th>\n",
              "      <td>(scone)</td>\n",
              "      <td>(coffee)</td>\n",
              "      <td>0.034548</td>\n",
              "      <td>0.478394</td>\n",
              "      <td>0.018067</td>\n",
              "      <td>0.522936</td>\n",
              "      <td>1.093107</td>\n",
              "      <td>0.001539</td>\n",
              "      <td>1.093366</td>\n",
              "    </tr>\n",
              "    <tr>\n",
              "      <th>41</th>\n",
              "      <td>(spanish brunch)</td>\n",
              "      <td>(coffee)</td>\n",
              "      <td>0.018172</td>\n",
              "      <td>0.478394</td>\n",
              "      <td>0.010882</td>\n",
              "      <td>0.598837</td>\n",
              "      <td>1.251766</td>\n",
              "      <td>0.002189</td>\n",
              "      <td>1.300235</td>\n",
              "    </tr>\n",
              "  </tbody>\n",
              "</table>\n",
              "</div>"
            ],
            "text/plain": [
              "         antecedents consequents  ...  leverage  conviction\n",
              "1    (hot chocolate)    (coffee)  ...  0.001683    1.058553\n",
              "4          (cookies)    (coffee)  ...  0.002179    1.083174\n",
              "8           (pastry)    (coffee)  ...  0.006351    1.164682\n",
              "14       (medialuna)    (coffee)  ...  0.005614    1.210871\n",
              "16           (juice)    (coffee)  ...  0.002154    1.119919\n",
              "18            (cake)    (coffee)  ...  0.005044    1.102664\n",
              "30        (sandwich)    (coffee)  ...  0.003877    1.115384\n",
              "32       (alfajores)    (coffee)  ...  0.002264    1.135648\n",
              "36           (toast)    (coffee)  ...  0.007593    1.764582\n",
              "38           (scone)    (coffee)  ...  0.001539    1.093366\n",
              "41  (spanish brunch)    (coffee)  ...  0.002189    1.300235\n",
              "\n",
              "[11 rows x 9 columns]"
            ]
          },
          "metadata": {
            "tags": []
          },
          "execution_count": 182
        }
      ]
    },
    {
      "cell_type": "code",
      "metadata": {
        "id": "IhFDroP_PBPY",
        "colab": {
          "base_uri": "https://localhost:8080/",
          "height": 1000
        },
        "outputId": "f808fc15-f50b-408d-e86a-8139647633c8"
      },
      "source": [
        "frequent"
      ],
      "execution_count": null,
      "outputs": [
        {
          "output_type": "execute_result",
          "data": {
            "text/html": [
              "<div>\n",
              "<style scoped>\n",
              "    .dataframe tbody tr th:only-of-type {\n",
              "        vertical-align: middle;\n",
              "    }\n",
              "\n",
              "    .dataframe tbody tr th {\n",
              "        vertical-align: top;\n",
              "    }\n",
              "\n",
              "    .dataframe thead th {\n",
              "        text-align: right;\n",
              "    }\n",
              "</style>\n",
              "<table border=\"1\" class=\"dataframe\">\n",
              "  <thead>\n",
              "    <tr style=\"text-align: right;\">\n",
              "      <th></th>\n",
              "      <th>antecedents</th>\n",
              "      <th>consequents</th>\n",
              "      <th>antecedent support</th>\n",
              "      <th>consequent support</th>\n",
              "      <th>support</th>\n",
              "      <th>confidence</th>\n",
              "      <th>lift</th>\n",
              "      <th>leverage</th>\n",
              "      <th>conviction</th>\n",
              "    </tr>\n",
              "  </thead>\n",
              "  <tbody>\n",
              "    <tr>\n",
              "      <th>0</th>\n",
              "      <td>(coffee)</td>\n",
              "      <td>(hot chocolate)</td>\n",
              "      <td>0.478394</td>\n",
              "      <td>0.058320</td>\n",
              "      <td>0.029583</td>\n",
              "      <td>0.061837</td>\n",
              "      <td>1.060311</td>\n",
              "      <td>0.001683</td>\n",
              "      <td>1.003749</td>\n",
              "    </tr>\n",
              "    <tr>\n",
              "      <th>1</th>\n",
              "      <td>(hot chocolate)</td>\n",
              "      <td>(coffee)</td>\n",
              "      <td>0.058320</td>\n",
              "      <td>0.478394</td>\n",
              "      <td>0.029583</td>\n",
              "      <td>0.507246</td>\n",
              "      <td>1.060311</td>\n",
              "      <td>0.001683</td>\n",
              "      <td>1.058553</td>\n",
              "    </tr>\n",
              "    <tr>\n",
              "      <th>2</th>\n",
              "      <td>(cake)</td>\n",
              "      <td>(hot chocolate)</td>\n",
              "      <td>0.103856</td>\n",
              "      <td>0.058320</td>\n",
              "      <td>0.011410</td>\n",
              "      <td>0.109868</td>\n",
              "      <td>1.883874</td>\n",
              "      <td>0.005354</td>\n",
              "      <td>1.057910</td>\n",
              "    </tr>\n",
              "    <tr>\n",
              "      <th>3</th>\n",
              "      <td>(hot chocolate)</td>\n",
              "      <td>(cake)</td>\n",
              "      <td>0.058320</td>\n",
              "      <td>0.103856</td>\n",
              "      <td>0.011410</td>\n",
              "      <td>0.195652</td>\n",
              "      <td>1.883874</td>\n",
              "      <td>0.005354</td>\n",
              "      <td>1.114125</td>\n",
              "    </tr>\n",
              "    <tr>\n",
              "      <th>4</th>\n",
              "      <td>(coffee)</td>\n",
              "      <td>(cookies)</td>\n",
              "      <td>0.478394</td>\n",
              "      <td>0.054411</td>\n",
              "      <td>0.028209</td>\n",
              "      <td>0.058966</td>\n",
              "      <td>1.083723</td>\n",
              "      <td>0.002179</td>\n",
              "      <td>1.004841</td>\n",
              "    </tr>\n",
              "    <tr>\n",
              "      <th>5</th>\n",
              "      <td>(cookies)</td>\n",
              "      <td>(coffee)</td>\n",
              "      <td>0.054411</td>\n",
              "      <td>0.478394</td>\n",
              "      <td>0.028209</td>\n",
              "      <td>0.518447</td>\n",
              "      <td>1.083723</td>\n",
              "      <td>0.002179</td>\n",
              "      <td>1.083174</td>\n",
              "    </tr>\n",
              "    <tr>\n",
              "      <th>6</th>\n",
              "      <td>(coffee)</td>\n",
              "      <td>(muffin)</td>\n",
              "      <td>0.478394</td>\n",
              "      <td>0.038457</td>\n",
              "      <td>0.018806</td>\n",
              "      <td>0.039311</td>\n",
              "      <td>1.022193</td>\n",
              "      <td>0.000408</td>\n",
              "      <td>1.000888</td>\n",
              "    </tr>\n",
              "    <tr>\n",
              "      <th>7</th>\n",
              "      <td>(muffin)</td>\n",
              "      <td>(coffee)</td>\n",
              "      <td>0.038457</td>\n",
              "      <td>0.478394</td>\n",
              "      <td>0.018806</td>\n",
              "      <td>0.489011</td>\n",
              "      <td>1.022193</td>\n",
              "      <td>0.000408</td>\n",
              "      <td>1.020777</td>\n",
              "    </tr>\n",
              "    <tr>\n",
              "      <th>8</th>\n",
              "      <td>(coffee)</td>\n",
              "      <td>(pastry)</td>\n",
              "      <td>0.478394</td>\n",
              "      <td>0.086107</td>\n",
              "      <td>0.047544</td>\n",
              "      <td>0.099382</td>\n",
              "      <td>1.154168</td>\n",
              "      <td>0.006351</td>\n",
              "      <td>1.014740</td>\n",
              "    </tr>\n",
              "    <tr>\n",
              "      <th>9</th>\n",
              "      <td>(pastry)</td>\n",
              "      <td>(coffee)</td>\n",
              "      <td>0.086107</td>\n",
              "      <td>0.478394</td>\n",
              "      <td>0.047544</td>\n",
              "      <td>0.552147</td>\n",
              "      <td>1.154168</td>\n",
              "      <td>0.006351</td>\n",
              "      <td>1.164682</td>\n",
              "    </tr>\n",
              "    <tr>\n",
              "      <th>10</th>\n",
              "      <td>(bread)</td>\n",
              "      <td>(pastry)</td>\n",
              "      <td>0.327205</td>\n",
              "      <td>0.086107</td>\n",
              "      <td>0.029160</td>\n",
              "      <td>0.089119</td>\n",
              "      <td>1.034977</td>\n",
              "      <td>0.000985</td>\n",
              "      <td>1.003306</td>\n",
              "    </tr>\n",
              "    <tr>\n",
              "      <th>11</th>\n",
              "      <td>(pastry)</td>\n",
              "      <td>(bread)</td>\n",
              "      <td>0.086107</td>\n",
              "      <td>0.327205</td>\n",
              "      <td>0.029160</td>\n",
              "      <td>0.338650</td>\n",
              "      <td>1.034977</td>\n",
              "      <td>0.000985</td>\n",
              "      <td>1.017305</td>\n",
              "    </tr>\n",
              "    <tr>\n",
              "      <th>12</th>\n",
              "      <td>(bread, coffee)</td>\n",
              "      <td>(pastry)</td>\n",
              "      <td>0.090016</td>\n",
              "      <td>0.086107</td>\n",
              "      <td>0.011199</td>\n",
              "      <td>0.124413</td>\n",
              "      <td>1.444872</td>\n",
              "      <td>0.003448</td>\n",
              "      <td>1.043749</td>\n",
              "    </tr>\n",
              "    <tr>\n",
              "      <th>13</th>\n",
              "      <td>(pastry)</td>\n",
              "      <td>(bread, coffee)</td>\n",
              "      <td>0.086107</td>\n",
              "      <td>0.090016</td>\n",
              "      <td>0.011199</td>\n",
              "      <td>0.130061</td>\n",
              "      <td>1.444872</td>\n",
              "      <td>0.003448</td>\n",
              "      <td>1.046033</td>\n",
              "    </tr>\n",
              "    <tr>\n",
              "      <th>14</th>\n",
              "      <td>(medialuna)</td>\n",
              "      <td>(coffee)</td>\n",
              "      <td>0.061807</td>\n",
              "      <td>0.478394</td>\n",
              "      <td>0.035182</td>\n",
              "      <td>0.569231</td>\n",
              "      <td>1.189878</td>\n",
              "      <td>0.005614</td>\n",
              "      <td>1.210871</td>\n",
              "    </tr>\n",
              "    <tr>\n",
              "      <th>15</th>\n",
              "      <td>(coffee)</td>\n",
              "      <td>(medialuna)</td>\n",
              "      <td>0.478394</td>\n",
              "      <td>0.061807</td>\n",
              "      <td>0.035182</td>\n",
              "      <td>0.073542</td>\n",
              "      <td>1.189878</td>\n",
              "      <td>0.005614</td>\n",
              "      <td>1.012667</td>\n",
              "    </tr>\n",
              "    <tr>\n",
              "      <th>16</th>\n",
              "      <td>(coffee)</td>\n",
              "      <td>(juice)</td>\n",
              "      <td>0.478394</td>\n",
              "      <td>0.038563</td>\n",
              "      <td>0.020602</td>\n",
              "      <td>0.043065</td>\n",
              "      <td>1.116750</td>\n",
              "      <td>0.002154</td>\n",
              "      <td>1.004705</td>\n",
              "    </tr>\n",
              "    <tr>\n",
              "      <th>17</th>\n",
              "      <td>(juice)</td>\n",
              "      <td>(coffee)</td>\n",
              "      <td>0.038563</td>\n",
              "      <td>0.478394</td>\n",
              "      <td>0.020602</td>\n",
              "      <td>0.534247</td>\n",
              "      <td>1.116750</td>\n",
              "      <td>0.002154</td>\n",
              "      <td>1.119919</td>\n",
              "    </tr>\n",
              "    <tr>\n",
              "      <th>18</th>\n",
              "      <td>(cake)</td>\n",
              "      <td>(coffee)</td>\n",
              "      <td>0.103856</td>\n",
              "      <td>0.478394</td>\n",
              "      <td>0.054728</td>\n",
              "      <td>0.526958</td>\n",
              "      <td>1.101515</td>\n",
              "      <td>0.005044</td>\n",
              "      <td>1.102664</td>\n",
              "    </tr>\n",
              "    <tr>\n",
              "      <th>19</th>\n",
              "      <td>(coffee)</td>\n",
              "      <td>(cake)</td>\n",
              "      <td>0.478394</td>\n",
              "      <td>0.103856</td>\n",
              "      <td>0.054728</td>\n",
              "      <td>0.114399</td>\n",
              "      <td>1.101515</td>\n",
              "      <td>0.005044</td>\n",
              "      <td>1.011905</td>\n",
              "    </tr>\n",
              "    <tr>\n",
              "      <th>20</th>\n",
              "      <td>(cake)</td>\n",
              "      <td>(tea)</td>\n",
              "      <td>0.103856</td>\n",
              "      <td>0.142631</td>\n",
              "      <td>0.023772</td>\n",
              "      <td>0.228891</td>\n",
              "      <td>1.604781</td>\n",
              "      <td>0.008959</td>\n",
              "      <td>1.111865</td>\n",
              "    </tr>\n",
              "    <tr>\n",
              "      <th>21</th>\n",
              "      <td>(tea)</td>\n",
              "      <td>(cake)</td>\n",
              "      <td>0.142631</td>\n",
              "      <td>0.103856</td>\n",
              "      <td>0.023772</td>\n",
              "      <td>0.166667</td>\n",
              "      <td>1.604781</td>\n",
              "      <td>0.008959</td>\n",
              "      <td>1.075372</td>\n",
              "    </tr>\n",
              "    <tr>\n",
              "      <th>22</th>\n",
              "      <td>(cake, coffee)</td>\n",
              "      <td>(tea)</td>\n",
              "      <td>0.054728</td>\n",
              "      <td>0.142631</td>\n",
              "      <td>0.010037</td>\n",
              "      <td>0.183398</td>\n",
              "      <td>1.285822</td>\n",
              "      <td>0.002231</td>\n",
              "      <td>1.049923</td>\n",
              "    </tr>\n",
              "    <tr>\n",
              "      <th>23</th>\n",
              "      <td>(coffee, tea)</td>\n",
              "      <td>(cake)</td>\n",
              "      <td>0.049868</td>\n",
              "      <td>0.103856</td>\n",
              "      <td>0.010037</td>\n",
              "      <td>0.201271</td>\n",
              "      <td>1.937977</td>\n",
              "      <td>0.004858</td>\n",
              "      <td>1.121962</td>\n",
              "    </tr>\n",
              "    <tr>\n",
              "      <th>24</th>\n",
              "      <td>(cake)</td>\n",
              "      <td>(coffee, tea)</td>\n",
              "      <td>0.103856</td>\n",
              "      <td>0.049868</td>\n",
              "      <td>0.010037</td>\n",
              "      <td>0.096643</td>\n",
              "      <td>1.937977</td>\n",
              "      <td>0.004858</td>\n",
              "      <td>1.051779</td>\n",
              "    </tr>\n",
              "    <tr>\n",
              "      <th>25</th>\n",
              "      <td>(tea)</td>\n",
              "      <td>(cake, coffee)</td>\n",
              "      <td>0.142631</td>\n",
              "      <td>0.054728</td>\n",
              "      <td>0.010037</td>\n",
              "      <td>0.070370</td>\n",
              "      <td>1.285822</td>\n",
              "      <td>0.002231</td>\n",
              "      <td>1.016827</td>\n",
              "    </tr>\n",
              "    <tr>\n",
              "      <th>26</th>\n",
              "      <td>(bread, coffee)</td>\n",
              "      <td>(cake)</td>\n",
              "      <td>0.090016</td>\n",
              "      <td>0.103856</td>\n",
              "      <td>0.010037</td>\n",
              "      <td>0.111502</td>\n",
              "      <td>1.073621</td>\n",
              "      <td>0.000688</td>\n",
              "      <td>1.008606</td>\n",
              "    </tr>\n",
              "    <tr>\n",
              "      <th>27</th>\n",
              "      <td>(cake)</td>\n",
              "      <td>(bread, coffee)</td>\n",
              "      <td>0.103856</td>\n",
              "      <td>0.090016</td>\n",
              "      <td>0.010037</td>\n",
              "      <td>0.096643</td>\n",
              "      <td>1.073621</td>\n",
              "      <td>0.000688</td>\n",
              "      <td>1.007336</td>\n",
              "    </tr>\n",
              "    <tr>\n",
              "      <th>28</th>\n",
              "      <td>(tea)</td>\n",
              "      <td>(sandwich)</td>\n",
              "      <td>0.142631</td>\n",
              "      <td>0.071844</td>\n",
              "      <td>0.014369</td>\n",
              "      <td>0.100741</td>\n",
              "      <td>1.402222</td>\n",
              "      <td>0.004122</td>\n",
              "      <td>1.032134</td>\n",
              "    </tr>\n",
              "    <tr>\n",
              "      <th>29</th>\n",
              "      <td>(sandwich)</td>\n",
              "      <td>(tea)</td>\n",
              "      <td>0.071844</td>\n",
              "      <td>0.142631</td>\n",
              "      <td>0.014369</td>\n",
              "      <td>0.200000</td>\n",
              "      <td>1.402222</td>\n",
              "      <td>0.004122</td>\n",
              "      <td>1.071712</td>\n",
              "    </tr>\n",
              "    <tr>\n",
              "      <th>30</th>\n",
              "      <td>(coffee)</td>\n",
              "      <td>(sandwich)</td>\n",
              "      <td>0.478394</td>\n",
              "      <td>0.071844</td>\n",
              "      <td>0.038246</td>\n",
              "      <td>0.079947</td>\n",
              "      <td>1.112792</td>\n",
              "      <td>0.003877</td>\n",
              "      <td>1.008807</td>\n",
              "    </tr>\n",
              "    <tr>\n",
              "      <th>31</th>\n",
              "      <td>(sandwich)</td>\n",
              "      <td>(coffee)</td>\n",
              "      <td>0.071844</td>\n",
              "      <td>0.478394</td>\n",
              "      <td>0.038246</td>\n",
              "      <td>0.532353</td>\n",
              "      <td>1.112792</td>\n",
              "      <td>0.003877</td>\n",
              "      <td>1.115384</td>\n",
              "    </tr>\n",
              "    <tr>\n",
              "      <th>32</th>\n",
              "      <td>(alfajores)</td>\n",
              "      <td>(coffee)</td>\n",
              "      <td>0.036344</td>\n",
              "      <td>0.478394</td>\n",
              "      <td>0.019651</td>\n",
              "      <td>0.540698</td>\n",
              "      <td>1.130235</td>\n",
              "      <td>0.002264</td>\n",
              "      <td>1.135648</td>\n",
              "    </tr>\n",
              "    <tr>\n",
              "      <th>33</th>\n",
              "      <td>(coffee)</td>\n",
              "      <td>(alfajores)</td>\n",
              "      <td>0.478394</td>\n",
              "      <td>0.036344</td>\n",
              "      <td>0.019651</td>\n",
              "      <td>0.041078</td>\n",
              "      <td>1.130235</td>\n",
              "      <td>0.002264</td>\n",
              "      <td>1.004936</td>\n",
              "    </tr>\n",
              "    <tr>\n",
              "      <th>34</th>\n",
              "      <td>(coffee)</td>\n",
              "      <td>(brownie)</td>\n",
              "      <td>0.478394</td>\n",
              "      <td>0.040042</td>\n",
              "      <td>0.019651</td>\n",
              "      <td>0.041078</td>\n",
              "      <td>1.025860</td>\n",
              "      <td>0.000495</td>\n",
              "      <td>1.001080</td>\n",
              "    </tr>\n",
              "    <tr>\n",
              "      <th>35</th>\n",
              "      <td>(brownie)</td>\n",
              "      <td>(coffee)</td>\n",
              "      <td>0.040042</td>\n",
              "      <td>0.478394</td>\n",
              "      <td>0.019651</td>\n",
              "      <td>0.490765</td>\n",
              "      <td>1.025860</td>\n",
              "      <td>0.000495</td>\n",
              "      <td>1.024293</td>\n",
              "    </tr>\n",
              "    <tr>\n",
              "      <th>36</th>\n",
              "      <td>(coffee)</td>\n",
              "      <td>(toast)</td>\n",
              "      <td>0.478394</td>\n",
              "      <td>0.033597</td>\n",
              "      <td>0.023666</td>\n",
              "      <td>0.049470</td>\n",
              "      <td>1.472431</td>\n",
              "      <td>0.007593</td>\n",
              "      <td>1.016699</td>\n",
              "    </tr>\n",
              "    <tr>\n",
              "      <th>37</th>\n",
              "      <td>(toast)</td>\n",
              "      <td>(coffee)</td>\n",
              "      <td>0.033597</td>\n",
              "      <td>0.478394</td>\n",
              "      <td>0.023666</td>\n",
              "      <td>0.704403</td>\n",
              "      <td>1.472431</td>\n",
              "      <td>0.007593</td>\n",
              "      <td>1.764582</td>\n",
              "    </tr>\n",
              "    <tr>\n",
              "      <th>38</th>\n",
              "      <td>(scone)</td>\n",
              "      <td>(coffee)</td>\n",
              "      <td>0.034548</td>\n",
              "      <td>0.478394</td>\n",
              "      <td>0.018067</td>\n",
              "      <td>0.522936</td>\n",
              "      <td>1.093107</td>\n",
              "      <td>0.001539</td>\n",
              "      <td>1.093366</td>\n",
              "    </tr>\n",
              "    <tr>\n",
              "      <th>39</th>\n",
              "      <td>(coffee)</td>\n",
              "      <td>(scone)</td>\n",
              "      <td>0.478394</td>\n",
              "      <td>0.034548</td>\n",
              "      <td>0.018067</td>\n",
              "      <td>0.037765</td>\n",
              "      <td>1.093107</td>\n",
              "      <td>0.001539</td>\n",
              "      <td>1.003343</td>\n",
              "    </tr>\n",
              "    <tr>\n",
              "      <th>40</th>\n",
              "      <td>(spanish brunch)</td>\n",
              "      <td>(coffee)</td>\n",
              "      <td>0.018172</td>\n",
              "      <td>0.478394</td>\n",
              "      <td>0.010882</td>\n",
              "      <td>0.598837</td>\n",
              "      <td>1.251766</td>\n",
              "      <td>0.002189</td>\n",
              "      <td>1.300235</td>\n",
              "    </tr>\n",
              "    <tr>\n",
              "      <th>41</th>\n",
              "      <td>(coffee)</td>\n",
              "      <td>(spanish brunch)</td>\n",
              "      <td>0.478394</td>\n",
              "      <td>0.018172</td>\n",
              "      <td>0.010882</td>\n",
              "      <td>0.022747</td>\n",
              "      <td>1.251766</td>\n",
              "      <td>0.002189</td>\n",
              "      <td>1.004682</td>\n",
              "    </tr>\n",
              "  </tbody>\n",
              "</table>\n",
              "</div>"
            ],
            "text/plain": [
              "         antecedents       consequents  ...  leverage  conviction\n",
              "0           (coffee)   (hot chocolate)  ...  0.001683    1.003749\n",
              "1    (hot chocolate)          (coffee)  ...  0.001683    1.058553\n",
              "2             (cake)   (hot chocolate)  ...  0.005354    1.057910\n",
              "3    (hot chocolate)            (cake)  ...  0.005354    1.114125\n",
              "4           (coffee)         (cookies)  ...  0.002179    1.004841\n",
              "5          (cookies)          (coffee)  ...  0.002179    1.083174\n",
              "6           (coffee)          (muffin)  ...  0.000408    1.000888\n",
              "7           (muffin)          (coffee)  ...  0.000408    1.020777\n",
              "8           (coffee)          (pastry)  ...  0.006351    1.014740\n",
              "9           (pastry)          (coffee)  ...  0.006351    1.164682\n",
              "10           (bread)          (pastry)  ...  0.000985    1.003306\n",
              "11          (pastry)           (bread)  ...  0.000985    1.017305\n",
              "12   (bread, coffee)          (pastry)  ...  0.003448    1.043749\n",
              "13          (pastry)   (bread, coffee)  ...  0.003448    1.046033\n",
              "14       (medialuna)          (coffee)  ...  0.005614    1.210871\n",
              "15          (coffee)       (medialuna)  ...  0.005614    1.012667\n",
              "16          (coffee)           (juice)  ...  0.002154    1.004705\n",
              "17           (juice)          (coffee)  ...  0.002154    1.119919\n",
              "18            (cake)          (coffee)  ...  0.005044    1.102664\n",
              "19          (coffee)            (cake)  ...  0.005044    1.011905\n",
              "20            (cake)             (tea)  ...  0.008959    1.111865\n",
              "21             (tea)            (cake)  ...  0.008959    1.075372\n",
              "22    (cake, coffee)             (tea)  ...  0.002231    1.049923\n",
              "23     (coffee, tea)            (cake)  ...  0.004858    1.121962\n",
              "24            (cake)     (coffee, tea)  ...  0.004858    1.051779\n",
              "25             (tea)    (cake, coffee)  ...  0.002231    1.016827\n",
              "26   (bread, coffee)            (cake)  ...  0.000688    1.008606\n",
              "27            (cake)   (bread, coffee)  ...  0.000688    1.007336\n",
              "28             (tea)        (sandwich)  ...  0.004122    1.032134\n",
              "29        (sandwich)             (tea)  ...  0.004122    1.071712\n",
              "30          (coffee)        (sandwich)  ...  0.003877    1.008807\n",
              "31        (sandwich)          (coffee)  ...  0.003877    1.115384\n",
              "32       (alfajores)          (coffee)  ...  0.002264    1.135648\n",
              "33          (coffee)       (alfajores)  ...  0.002264    1.004936\n",
              "34          (coffee)         (brownie)  ...  0.000495    1.001080\n",
              "35         (brownie)          (coffee)  ...  0.000495    1.024293\n",
              "36          (coffee)           (toast)  ...  0.007593    1.016699\n",
              "37           (toast)          (coffee)  ...  0.007593    1.764582\n",
              "38           (scone)          (coffee)  ...  0.001539    1.093366\n",
              "39          (coffee)           (scone)  ...  0.001539    1.003343\n",
              "40  (spanish brunch)          (coffee)  ...  0.002189    1.300235\n",
              "41          (coffee)  (spanish brunch)  ...  0.002189    1.004682\n",
              "\n",
              "[42 rows x 9 columns]"
            ]
          },
          "metadata": {
            "tags": []
          },
          "execution_count": 72
        }
      ]
    },
    {
      "cell_type": "code",
      "metadata": {
        "id": "vH0jMEBSLYwR",
        "colab": {
          "base_uri": "https://localhost:8080/",
          "height": 51
        },
        "outputId": "046e9fa4-ec14-4b51-ff54-5aba220e3129"
      },
      "source": [
        "\n",
        "##Close pattern Mining using FP growth\n",
        "frequent=fpgrowth(hot_encoded_df, min_support=0.001, use_colnames=True)\n",
        "su = frequent.support.unique()#all unique support count\n",
        "\n",
        "#Dictionay storing itemset with same support count key\n",
        "fredic = {}\n",
        "for i in range(len(su)):\n",
        "    inset = list(frequent.loc[frequent.support ==su[i]]['itemsets'])\n",
        "    fredic[su[i]] = inset\n",
        "\n",
        "\n",
        "    \n",
        "#Find Closed frequent itemset\n",
        "start_time = time.time()\n",
        "cl = []\n",
        "for index, row in frequent.iterrows():\n",
        "    isclose = True\n",
        "    cli = row['itemsets']\n",
        "    cls = row['support']\n",
        "    checkset = fredic[cls]\n",
        "    for i in checkset:\n",
        "        if (cli!=i):\n",
        "            if(frozenset.issubset(cli,i)):\n",
        "                isclose = False\n",
        "                break\n",
        "    \n",
        "    if(isclose):\n",
        "        cl.append(row['itemsets'])\n",
        "print('Time to find Close frequent itemset')\n",
        "print(\"--- %s seconds ---\" % (time.time() - start_time)) "
      ],
      "execution_count": null,
      "outputs": [
        {
          "output_type": "stream",
          "text": [
            "Time to find Close frequent itemset\n",
            "--- 0.05121135711669922 seconds ---\n"
          ],
          "name": "stdout"
        }
      ]
    },
    {
      "cell_type": "code",
      "metadata": {
        "id": "6Fpli9i7Oqfo",
        "colab": {
          "base_uri": "https://localhost:8080/",
          "height": 1000
        },
        "outputId": "3cf326a6-4332-4f8e-9eaa-3932111ddc62"
      },
      "source": [
        "cl"
      ],
      "execution_count": null,
      "outputs": [
        {
          "output_type": "execute_result",
          "data": {
            "text/plain": [
              "[frozenset({'bread'}),\n",
              " frozenset({'scandinavian'}),\n",
              " frozenset({'hot chocolate'}),\n",
              " frozenset({'cookies'}),\n",
              " frozenset({'jam'}),\n",
              " frozenset({'muffin'}),\n",
              " frozenset({'coffee'}),\n",
              " frozenset({'pastry'}),\n",
              " frozenset({'medialuna'}),\n",
              " frozenset({'tea'}),\n",
              " frozenset({'tartine'}),\n",
              " frozenset({'mineral water'}),\n",
              " frozenset({'farm house'}),\n",
              " frozenset({'fudge'}),\n",
              " frozenset({'juice'}),\n",
              " frozenset({\"ella's kitchen pouches\"}),\n",
              " frozenset({'hearty & seasonal'}),\n",
              " frozenset({'frittata'}),\n",
              " frozenset({'soup'}),\n",
              " frozenset({'smoothies'}),\n",
              " frozenset({'pick and mix bowls'}),\n",
              " frozenset({'cake'}),\n",
              " frozenset({'mighty protein'}),\n",
              " frozenset({'coke'}),\n",
              " frozenset({'my-5 fruit shoot'}),\n",
              " frozenset({'focaccia'}),\n",
              " frozenset({'sandwich'}),\n",
              " frozenset({'alfajores'}),\n",
              " frozenset({'eggs'}),\n",
              " frozenset({'brownie'}),\n",
              " frozenset({'dulce de leche'}),\n",
              " frozenset({'granola'}),\n",
              " frozenset({'keeping it local'}),\n",
              " frozenset({'art tray'}),\n",
              " frozenset({'truffles'}),\n",
              " frozenset({'kids biscuit'}),\n",
              " frozenset({'jammie dodgers'}),\n",
              " frozenset({'tiffin'}),\n",
              " frozenset({'the nomad'}),\n",
              " frozenset({'bakewell'}),\n",
              " frozenset({'toast'}),\n",
              " frozenset({'scone'}),\n",
              " frozenset({'vegan mincepie'}),\n",
              " frozenset({'crisps'}),\n",
              " frozenset({'afternoon with the baker'}),\n",
              " frozenset({'salad'}),\n",
              " frozenset({'chicken stew'}),\n",
              " frozenset({'spanish brunch'}),\n",
              " frozenset({'extra salami or feta'}),\n",
              " frozenset({'duck egg'}),\n",
              " frozenset({'baguette'}),\n",
              " frozenset({\"valentine's card\"}),\n",
              " frozenset({'tshirt'}),\n",
              " frozenset({'vegan feast'}),\n",
              " frozenset({'postcard'}),\n",
              " frozenset({'christmas common'}),\n",
              " frozenset({'tacos/fajita'}),\n",
              " frozenset({'bread', 'coffee'}),\n",
              " frozenset({'medialuna', 'scandinavian'}),\n",
              " frozenset({'muffin', 'scandinavian'}),\n",
              " frozenset({'coffee', 'scandinavian'}),\n",
              " frozenset({'bread', 'scandinavian'}),\n",
              " frozenset({'pastry', 'scandinavian'}),\n",
              " frozenset({'farm house', 'scandinavian'}),\n",
              " frozenset({'alfajores', 'scandinavian'}),\n",
              " frozenset({'cake', 'scandinavian'}),\n",
              " frozenset({'bread', 'coffee', 'scandinavian'}),\n",
              " frozenset({'coffee', 'hot chocolate'}),\n",
              " frozenset({'hot chocolate', 'medialuna'}),\n",
              " frozenset({'hot chocolate', 'tea'}),\n",
              " frozenset({'bread', 'hot chocolate'}),\n",
              " frozenset({'cake', 'hot chocolate'}),\n",
              " frozenset({'hot chocolate', 'pastry'}),\n",
              " frozenset({'hot chocolate', 'sandwich'}),\n",
              " frozenset({'coffee', 'hot chocolate', 'medialuna'}),\n",
              " frozenset({'bread', 'hot chocolate', 'medialuna'}),\n",
              " frozenset({'coffee', 'hot chocolate', 'tea'}),\n",
              " frozenset({'bread', 'hot chocolate', 'tea'}),\n",
              " frozenset({'cake', 'hot chocolate', 'tea'}),\n",
              " frozenset({'bread', 'coffee', 'hot chocolate'}),\n",
              " frozenset({'cake', 'coffee', 'hot chocolate'}),\n",
              " frozenset({'bread', 'cake', 'hot chocolate'}),\n",
              " frozenset({'coffee', 'hot chocolate', 'pastry'}),\n",
              " frozenset({'bread', 'hot chocolate', 'pastry'}),\n",
              " frozenset({'bread', 'coffee', 'hot chocolate', 'pastry'}),\n",
              " frozenset({'coffee', 'hot chocolate', 'sandwich'}),\n",
              " frozenset({'cookies', 'hot chocolate'}),\n",
              " frozenset({'coffee', 'cookies'}),\n",
              " frozenset({'cake', 'cookies'}),\n",
              " frozenset({'cookies', 'tea'}),\n",
              " frozenset({'cookies', 'pastry'}),\n",
              " frozenset({'bread', 'cookies'}),\n",
              " frozenset({'cookies', 'medialuna'}),\n",
              " frozenset({'cookies', 'sandwich'}),\n",
              " frozenset({'bread', 'cookies', 'hot chocolate'}),\n",
              " frozenset({'coffee', 'cookies', 'hot chocolate'}),\n",
              " frozenset({'cake', 'coffee', 'cookies'}),\n",
              " frozenset({'bread', 'cake', 'cookies'}),\n",
              " frozenset({'cake', 'cookies', 'tea'}),\n",
              " frozenset({'coffee', 'cookies', 'tea'}),\n",
              " frozenset({'bread', 'cookies', 'tea'}),\n",
              " frozenset({'coffee', 'cookies', 'pastry'}),\n",
              " frozenset({'bread', 'coffee', 'cookies'}),\n",
              " frozenset({'coffee', 'cookies', 'medialuna'}),\n",
              " frozenset({'coffee', 'cookies', 'sandwich'}),\n",
              " frozenset({'coffee', 'jam'}),\n",
              " frozenset({'jam', 'pastry'}),\n",
              " frozenset({'jam', 'tea'}),\n",
              " frozenset({'bread', 'jam'}),\n",
              " frozenset({'bread', 'coffee', 'jam'}),\n",
              " frozenset({'muffin', 'pastry'}),\n",
              " frozenset({'medialuna', 'muffin'}),\n",
              " frozenset({'bread', 'muffin'}),\n",
              " frozenset({'coffee', 'muffin'}),\n",
              " frozenset({'juice', 'muffin'}),\n",
              " frozenset({'muffin', 'tea'}),\n",
              " frozenset({'cookies', 'muffin'}),\n",
              " frozenset({'muffin', 'sandwich'}),\n",
              " frozenset({'cake', 'muffin'}),\n",
              " frozenset({'hot chocolate', 'muffin'}),\n",
              " frozenset({'brownie', 'muffin'}),\n",
              " frozenset({'coffee', 'muffin', 'pastry'}),\n",
              " frozenset({'coffee', 'medialuna', 'muffin'}),\n",
              " frozenset({'bread', 'coffee', 'muffin'}),\n",
              " frozenset({'coffee', 'juice', 'muffin'}),\n",
              " frozenset({'coffee', 'muffin', 'tea'}),\n",
              " frozenset({'coffee', 'muffin', 'sandwich'}),\n",
              " frozenset({'cake', 'coffee', 'muffin'}),\n",
              " frozenset({'cake', 'muffin', 'tea'}),\n",
              " frozenset({'coffee', 'hot chocolate', 'muffin'}),\n",
              " frozenset({'bread', 'hot chocolate', 'muffin'}),\n",
              " frozenset({'coffee', 'pastry'}),\n",
              " frozenset({'bread', 'pastry'}),\n",
              " frozenset({'pastry', 'tea'}),\n",
              " frozenset({'cake', 'pastry'}),\n",
              " frozenset({'bread', 'coffee', 'pastry'}),\n",
              " frozenset({'coffee', 'pastry', 'tea'}),\n",
              " frozenset({'bread', 'pastry', 'tea'}),\n",
              " frozenset({'cake', 'coffee', 'pastry'}),\n",
              " frozenset({'bread', 'cake', 'pastry'}),\n",
              " frozenset({'cake', 'pastry', 'tea'}),\n",
              " frozenset({'medialuna', 'pastry'}),\n",
              " frozenset({'coffee', 'medialuna'}),\n",
              " frozenset({'medialuna', 'tea'}),\n",
              " frozenset({'bread', 'medialuna'}),\n",
              " frozenset({'cake', 'medialuna'}),\n",
              " frozenset({'medialuna', 'sandwich'}),\n",
              " frozenset({'coffee', 'medialuna', 'pastry'}),\n",
              " frozenset({'bread', 'medialuna', 'pastry'}),\n",
              " frozenset({'bread', 'coffee', 'medialuna', 'pastry'}),\n",
              " frozenset({'coffee', 'medialuna', 'tea'}),\n",
              " frozenset({'bread', 'medialuna', 'tea'}),\n",
              " frozenset({'bread', 'coffee', 'medialuna'}),\n",
              " frozenset({'cake', 'coffee', 'medialuna'}),\n",
              " frozenset({'cake', 'medialuna', 'tea'}),\n",
              " frozenset({'coffee', 'medialuna', 'sandwich'}),\n",
              " frozenset({'coffee', 'tea'}),\n",
              " frozenset({'bread', 'tea'}),\n",
              " frozenset({'bread', 'coffee', 'tea'}),\n",
              " frozenset({'coffee', 'tartine'}),\n",
              " frozenset({'mineral water', 'sandwich'}),\n",
              " frozenset({'bread', 'mineral water'}),\n",
              " frozenset({'mineral water', 'soup'}),\n",
              " frozenset({'juice', 'mineral water'}),\n",
              " frozenset({'coffee', 'mineral water'}),\n",
              " frozenset({'cookies', 'mineral water'}),\n",
              " frozenset({'alfajores', 'mineral water'}),\n",
              " frozenset({'coke', 'mineral water'}),\n",
              " frozenset({'mineral water', 'tea'}),\n",
              " frozenset({'cake', 'mineral water'}),\n",
              " frozenset({'mineral water', 'truffles'}),\n",
              " frozenset({'coffee', 'mineral water', 'sandwich'}),\n",
              " frozenset({'bread', 'coffee', 'mineral water'}),\n",
              " frozenset({'bread', 'farm house'}),\n",
              " frozenset({'farm house', 'pastry'}),\n",
              " frozenset({'farm house', 'tea'}),\n",
              " frozenset({'coffee', 'farm house'}),\n",
              " frozenset({'cookies', 'farm house'}),\n",
              " frozenset({'brownie', 'farm house'}),\n",
              " frozenset({'farm house', 'medialuna'}),\n",
              " frozenset({'cake', 'farm house'}),\n",
              " frozenset({'bread', 'coffee', 'farm house'}),\n",
              " frozenset({'coffee', 'farm house', 'pastry'}),\n",
              " frozenset({'coffee', 'farm house', 'medialuna'}),\n",
              " frozenset({'coffee', 'fudge'}),\n",
              " frozenset({'fudge', 'tea'}),\n",
              " frozenset({'bread', 'fudge'}),\n",
              " frozenset({'fudge', 'jam'}),\n",
              " frozenset({'fudge', 'sandwich'}),\n",
              " frozenset({'coffee', 'juice'}),\n",
              " frozenset({'bread', 'juice'}),\n",
              " frozenset({'cookies', 'juice'}),\n",
              " frozenset({'juice', 'pastry'}),\n",
              " frozenset({'juice', 'tea'}),\n",
              " frozenset({'brownie', 'juice'}),\n",
              " frozenset({'juice', 'sandwich'}),\n",
              " frozenset({'hot chocolate', 'juice'}),\n",
              " frozenset({'juice', 'medialuna'}),\n",
              " frozenset({'cake', 'juice'}),\n",
              " frozenset({'bread', 'coffee', 'juice'}),\n",
              " frozenset({'coffee', 'cookies', 'juice'}),\n",
              " frozenset({'cookies', 'juice', 'tea'}),\n",
              " frozenset({'bread', 'cookies', 'juice'}),\n",
              " frozenset({'cake', 'cookies', 'juice'}),\n",
              " frozenset({'coffee', 'juice', 'pastry'}),\n",
              " frozenset({'coffee', 'juice', 'tea'}),\n",
              " frozenset({'brownie', 'coffee', 'juice'}),\n",
              " frozenset({'coffee', 'juice', 'sandwich'}),\n",
              " frozenset({'bread', 'juice', 'sandwich'}),\n",
              " frozenset({'coffee', 'hot chocolate', 'juice'}),\n",
              " frozenset({'coffee', 'juice', 'medialuna'}),\n",
              " frozenset({'cake', 'juice', 'tea'}),\n",
              " frozenset({'cake', 'coffee', 'juice'}),\n",
              " frozenset({'bread', 'cake', 'juice'}),\n",
              " frozenset({'coffee', 'hearty & seasonal'}),\n",
              " frozenset({'hearty & seasonal', 'tea'}),\n",
              " frozenset({'hearty & seasonal', 'soup'}),\n",
              " frozenset({'bread', 'hearty & seasonal'}),\n",
              " frozenset({'hearty & seasonal', 'sandwich'}),\n",
              " frozenset({'bread', 'coffee', 'hearty & seasonal'}),\n",
              " frozenset({'coffee', 'hearty & seasonal', 'sandwich'}),\n",
              " frozenset({'coffee', 'frittata'}),\n",
              " frozenset({'frittata', 'tea'}),\n",
              " frozenset({'bread', 'frittata'}),\n",
              " frozenset({'bread', 'coffee', 'frittata'}),\n",
              " frozenset({'soup', 'tea'}),\n",
              " frozenset({'coffee', 'soup'}),\n",
              " frozenset({'sandwich', 'soup'}),\n",
              " frozenset({'bread', 'soup'}),\n",
              " frozenset({'cake', 'soup'}),\n",
              " frozenset({'muffin', 'soup'}),\n",
              " frozenset({'juice', 'soup'}),\n",
              " frozenset({'cookies', 'soup'}),\n",
              " frozenset({'brownie', 'soup'}),\n",
              " frozenset({'scone', 'soup'}),\n",
              " frozenset({'coffee', 'soup', 'tea'}),\n",
              " frozenset({'sandwich', 'soup', 'tea'}),\n",
              " frozenset({'coffee', 'sandwich', 'soup'}),\n",
              " frozenset({'bread', 'sandwich', 'soup'}),\n",
              " frozenset({'bread', 'coffee', 'soup'}),\n",
              " frozenset({'bread', 'soup', 'tea'}),\n",
              " frozenset({'cake', 'coffee', 'soup'}),\n",
              " frozenset({'cake', 'sandwich', 'soup'}),\n",
              " frozenset({'bread', 'cake', 'soup'}),\n",
              " frozenset({'cake', 'soup', 'tea'}),\n",
              " frozenset({'coffee', 'smoothies'}),\n",
              " frozenset({'bread', 'smoothies'}),\n",
              " frozenset({'sandwich', 'smoothies'}),\n",
              " frozenset({'cake', 'smoothies'}),\n",
              " frozenset({'bread', 'coffee', 'smoothies'}),\n",
              " frozenset({'cake', 'coffee', 'smoothies'}),\n",
              " frozenset({'cake', 'coffee'}),\n",
              " frozenset({'cake', 'tea'}),\n",
              " frozenset({'bread', 'cake'}),\n",
              " frozenset({'cake', 'coffee', 'tea'}),\n",
              " frozenset({'bread', 'cake', 'coffee'}),\n",
              " frozenset({'bread', 'cake', 'tea'}),\n",
              " frozenset({'bread', 'cake', 'coffee', 'tea'}),\n",
              " frozenset({'bread', 'coke'}),\n",
              " frozenset({'coke', 'soup'}),\n",
              " frozenset({'coffee', 'coke'}),\n",
              " frozenset({'coke', 'sandwich'}),\n",
              " frozenset({'brownie', 'coke'}),\n",
              " frozenset({'coke', 'juice'}),\n",
              " frozenset({'cake', 'coke'}),\n",
              " frozenset({'coke', 'truffles'}),\n",
              " frozenset({'coke', 'tea'}),\n",
              " frozenset({'coffee', 'coke', 'sandwich'}),\n",
              " frozenset({'coffee', 'coke', 'juice'}),\n",
              " frozenset({'coke', 'juice', 'sandwich'}),\n",
              " frozenset({'bread', 'focaccia'}),\n",
              " frozenset({'sandwich', 'tea'}),\n",
              " frozenset({'bread', 'sandwich'}),\n",
              " frozenset({'coffee', 'sandwich'}),\n",
              " frozenset({'cake', 'sandwich'}),\n",
              " frozenset({'pastry', 'sandwich'}),\n",
              " frozenset({'bread', 'sandwich', 'tea'}),\n",
              " frozenset({'coffee', 'sandwich', 'tea'}),\n",
              " frozenset({'bread', 'coffee', 'sandwich'}),\n",
              " frozenset({'cake', 'coffee', 'sandwich'}),\n",
              " frozenset({'bread', 'cake', 'sandwich'}),\n",
              " frozenset({'cake', 'sandwich', 'tea'}),\n",
              " frozenset({'cake', 'coffee', 'sandwich', 'tea'}),\n",
              " frozenset({'alfajores', 'coffee'}),\n",
              " frozenset({'alfajores', 'tea'}),\n",
              " frozenset({'alfajores', 'juice'}),\n",
              " frozenset({'alfajores', 'bread'}),\n",
              " frozenset({'alfajores', 'cookies'}),\n",
              " frozenset({'alfajores', 'brownie'}),\n",
              " frozenset({'alfajores', 'hot chocolate'}),\n",
              " frozenset({'alfajores', 'medialuna'}),\n",
              " frozenset({'alfajores', 'pastry'}),\n",
              " frozenset({'alfajores', 'cake'}),\n",
              " frozenset({'alfajores', 'muffin'}),\n",
              " frozenset({'alfajores', 'sandwich'}),\n",
              " frozenset({'alfajores', 'coffee', 'tea'}),\n",
              " frozenset({'alfajores', 'bread', 'tea'}),\n",
              " frozenset({'alfajores', 'coffee', 'juice'}),\n",
              " frozenset({'alfajores', 'bread', 'coffee'}),\n",
              " frozenset({'alfajores', 'cookies', 'juice'}),\n",
              " frozenset({'alfajores', 'coffee', 'cookies'}),\n",
              " frozenset({'alfajores', 'brownie', 'coffee'}),\n",
              " frozenset({'alfajores', 'bread', 'brownie'}),\n",
              " frozenset({'alfajores', 'coffee', 'hot chocolate'}),\n",
              " frozenset({'alfajores', 'hot chocolate', 'tea'}),\n",
              " frozenset({'alfajores', 'coffee', 'medialuna'}),\n",
              " frozenset({'alfajores', 'bread', 'medialuna'}),\n",
              " frozenset({'alfajores', 'coffee', 'pastry'}),\n",
              " frozenset({'alfajores', 'pastry', 'tea'}),\n",
              " frozenset({'alfajores', 'cake', 'coffee'}),\n",
              " frozenset({'alfajores', 'coffee', 'sandwich'}),\n",
              " frozenset({'bread', 'eggs'}),\n",
              " frozenset({'brownie', 'coffee'}),\n",
              " frozenset({'brownie', 'sandwich'}),\n",
              " frozenset({'brownie', 'cookies'}),\n",
              " frozenset({'brownie', 'pastry'}),\n",
              " frozenset({'brownie', 'cake'}),\n",
              " frozenset({'bread', 'brownie'}),\n",
              " frozenset({'brownie', 'hot chocolate'}),\n",
              " frozenset({'brownie', 'tea'}),\n",
              " frozenset({'brownie', 'medialuna'}),\n",
              " frozenset({'brownie', 'coffee', 'sandwich'}),\n",
              " frozenset({'brownie', 'coffee', 'cookies'}),\n",
              " frozenset({'brownie', 'cake', 'tea'}),\n",
              " frozenset({'brownie', 'cake', 'coffee'}),\n",
              " frozenset({'bread', 'brownie', 'coffee'}),\n",
              " frozenset({'brownie', 'coffee', 'hot chocolate'}),\n",
              " frozenset({'brownie', 'coffee', 'tea'}),\n",
              " frozenset({'bread', 'brownie', 'tea'}),\n",
              " frozenset({'brownie', 'coffee', 'medialuna'}),\n",
              " frozenset({'coffee', 'granola'}),\n",
              " frozenset({'coffee', 'keeping it local'}),\n",
              " frozenset({'keeping it local', 'tea'}),\n",
              " frozenset({'bread', 'keeping it local'}),\n",
              " frozenset({'coffee', 'keeping it local', 'tea'}),\n",
              " frozenset({'bread', 'coffee', 'keeping it local'}),\n",
              " frozenset({'art tray', 'coffee'}),\n",
              " frozenset({'art tray', 'tea'}),\n",
              " frozenset({'coffee', 'truffles'}),\n",
              " frozenset({'bread', 'truffles'}),\n",
              " frozenset({'brownie', 'truffles'}),\n",
              " frozenset({'tea', 'truffles'}),\n",
              " frozenset({'alfajores', 'truffles'}),\n",
              " frozenset({'medialuna', 'truffles'}),\n",
              " frozenset({'pastry', 'truffles'}),\n",
              " frozenset({'cake', 'truffles'}),\n",
              " frozenset({'juice', 'truffles'}),\n",
              " frozenset({'sandwich', 'truffles'}),\n",
              " frozenset({'soup', 'truffles'}),\n",
              " frozenset({'bread', 'coffee', 'truffles'}),\n",
              " frozenset({'cake', 'coffee', 'truffles'}),\n",
              " frozenset({'coffee', 'juice', 'truffles'}),\n",
              " frozenset({'coffee', 'sandwich', 'truffles'}),\n",
              " frozenset({'coffee', 'jammie dodgers'}),\n",
              " frozenset({'hot chocolate', 'jammie dodgers'}),\n",
              " frozenset({'cookies', 'jammie dodgers'}),\n",
              " frozenset({'bread', 'jammie dodgers'}),\n",
              " frozenset({'jammie dodgers', 'juice'}),\n",
              " frozenset({'jammie dodgers', 'tea'}),\n",
              " frozenset({'cake', 'jammie dodgers'}),\n",
              " frozenset({'jammie dodgers', 'tiffin'}),\n",
              " frozenset({'bread', 'coffee', 'jammie dodgers'}),\n",
              " frozenset({'coffee', 'jammie dodgers', 'juice'}),\n",
              " frozenset({'coffee', 'jammie dodgers', 'tea'}),\n",
              " frozenset({'bread', 'jammie dodgers', 'tea'}),\n",
              " frozenset({'bread', 'cake', 'jammie dodgers'}),\n",
              " frozenset({'cake', 'coffee', 'jammie dodgers'}),\n",
              " frozenset({'coffee', 'tiffin'}),\n",
              " frozenset({'bread', 'tiffin'}),\n",
              " frozenset({'tea', 'tiffin'}),\n",
              " frozenset({'cake', 'tiffin'}),\n",
              " frozenset({'cookies', 'tiffin'}),\n",
              " frozenset({'hot chocolate', 'tiffin'}),\n",
              " frozenset({'bread', 'coffee', 'tiffin'}),\n",
              " frozenset({'coffee', 'tea', 'tiffin'}),\n",
              " frozenset({'bread', 'tea', 'tiffin'}),\n",
              " frozenset({'cake', 'coffee', 'tiffin'}),\n",
              " frozenset({'tea', 'the nomad'}),\n",
              " frozenset({'bread', 'the nomad'}),\n",
              " frozenset({'coffee', 'the nomad'}),\n",
              " frozenset({'bakewell', 'coffee'}),\n",
              " frozenset({'bakewell', 'tea'}),\n",
              " frozenset({'bakewell', 'bread'}),\n",
              " frozenset({'hot chocolate', 'toast'}),\n",
              " frozenset({'bread', 'toast'}),\n",
              " frozenset({'medialuna', 'toast'}),\n",
              " frozenset({'coffee', 'toast'}),\n",
              " frozenset({'pastry', 'toast'}),\n",
              " frozenset({'juice', 'toast'}),\n",
              " frozenset({'tea', 'toast'}),\n",
              " frozenset({'cookies', 'toast'}),\n",
              " frozenset({'sandwich', 'toast'}),\n",
              " frozenset({'cake', 'toast'}),\n",
              " frozenset({'coffee', 'hot chocolate', 'toast'}),\n",
              " frozenset({'bread', 'coffee', 'toast'}),\n",
              " frozenset({'coffee', 'medialuna', 'toast'}),\n",
              " frozenset({'coffee', 'pastry', 'toast'}),\n",
              " frozenset({'coffee', 'juice', 'toast'}),\n",
              " frozenset({'coffee', 'tea', 'toast'}),\n",
              " frozenset({'bread', 'tea', 'toast'}),\n",
              " frozenset({'coffee', 'cookies', 'toast'}),\n",
              " frozenset({'cake', 'coffee', 'toast'}),\n",
              " frozenset({'sandwich', 'scone'}),\n",
              " frozenset({'bread', 'scone'}),\n",
              " frozenset({'hot chocolate', 'scone'}),\n",
              " frozenset({'cookies', 'scone'}),\n",
              " frozenset({'coffee', 'scone'}),\n",
              " frozenset({'scone', 'tea'}),\n",
              " frozenset({'alfajores', 'scone'}),\n",
              " frozenset({'cake', 'scone'}),\n",
              " frozenset({'pastry', 'scone'}),\n",
              " frozenset({'juice', 'scone'}),\n",
              " frozenset({'brownie', 'scone'}),\n",
              " frozenset({'medialuna', 'scone'}),\n",
              " frozenset({'bread', 'coffee', 'scone'}),\n",
              " frozenset({'coffee', 'hot chocolate', 'scone'}),\n",
              " frozenset({'bread', 'hot chocolate', 'scone'}),\n",
              " frozenset({'coffee', 'cookies', 'scone'}),\n",
              " frozenset({'coffee', 'scone', 'tea'}),\n",
              " frozenset({'bread', 'scone', 'tea'}),\n",
              " frozenset({'cake', 'coffee', 'scone'}),\n",
              " frozenset({'cake', 'scone', 'tea'}),\n",
              " frozenset({'coffee', 'pastry', 'scone'}),\n",
              " frozenset({'coffee', 'juice', 'scone'}),\n",
              " frozenset({'coffee', 'vegan mincepie'}),\n",
              " frozenset({'cake', 'vegan mincepie'}),\n",
              " frozenset({'bread', 'vegan mincepie'}),\n",
              " frozenset({'cake', 'coffee', 'vegan mincepie'}),\n",
              " frozenset({'coffee', 'salad'}),\n",
              " frozenset({'bread', 'salad'}),\n",
              " frozenset({'salad', 'tea'}),\n",
              " frozenset({'salad', 'sandwich'}),\n",
              " frozenset({'salad', 'soup'}),\n",
              " frozenset({'salad', 'spanish brunch'}),\n",
              " frozenset({'juice', 'salad'}),\n",
              " frozenset({'cake', 'salad'}),\n",
              " frozenset({'bread', 'coffee', 'salad'}),\n",
              " frozenset({'coffee', 'salad', 'sandwich'}),\n",
              " frozenset({'cake', 'coffee', 'salad'}),\n",
              " frozenset({'chicken stew', 'coffee'}),\n",
              " frozenset({'chicken stew', 'tea'}),\n",
              " frozenset({'bread', 'chicken stew'}),\n",
              " frozenset({'cake', 'chicken stew'}),\n",
              " frozenset({'chicken stew', 'soup'}),\n",
              " frozenset({'chicken stew', 'juice'}),\n",
              " frozenset({'chicken stew', 'coke'}),\n",
              " frozenset({'chicken stew', 'truffles'}),\n",
              " frozenset({'chicken stew', 'sandwich'}),\n",
              " frozenset({'chicken stew', 'spanish brunch'}),\n",
              " frozenset({'chicken stew', 'coffee', 'sandwich'}),\n",
              " frozenset({'spanish brunch', 'tea'}),\n",
              " frozenset({'sandwich', 'spanish brunch'}),\n",
              " frozenset({'alfajores', 'spanish brunch'}),\n",
              " frozenset({'coffee', 'spanish brunch'}),\n",
              " frozenset({'spanish brunch', 'truffles'}),\n",
              " frozenset({'bread', 'spanish brunch'}),\n",
              " frozenset({'cake', 'spanish brunch'}),\n",
              " frozenset({'juice', 'spanish brunch'}),\n",
              " frozenset({'spanish brunch', 'toast'}),\n",
              " frozenset({'soup', 'spanish brunch'}),\n",
              " frozenset({'coffee', 'spanish brunch', 'tea'}),\n",
              " frozenset({'coffee', 'sandwich', 'spanish brunch'}),\n",
              " frozenset({'bread', 'coffee', 'spanish brunch'}),\n",
              " frozenset({'cake', 'coffee', 'spanish brunch'}),\n",
              " frozenset({'coffee', 'juice', 'spanish brunch'}),\n",
              " frozenset({'bread', 'extra salami or feta'}),\n",
              " frozenset({'coffee', 'extra salami or feta'}),\n",
              " frozenset({'extra salami or feta', 'salad'}),\n",
              " frozenset({'coffee', 'extra salami or feta', 'salad'}),\n",
              " frozenset({'baguette', 'bread'}),\n",
              " frozenset({'baguette', 'coffee'})]"
            ]
          },
          "metadata": {
            "tags": []
          },
          "execution_count": 80
        }
      ]
    },
    {
      "cell_type": "code",
      "metadata": {
        "id": "eY4CGdpimTNr"
      },
      "source": [
        "def all_con(rule):\n",
        "  s=list()\n",
        "  for i in range(len(rule)):\n",
        "    sup_A=rule.iloc[i]['antecedent support'] sup(x)\n",
        "    sup_B=rule.iloc[i]['consequent support'] sup(y)\n",
        "    supA_B=rule.iloc[i]['support'] sup(xu y)\n",
        "    s.append(supA_B/max(sup_A,sup_B))\n",
        "  return s\n"
      ],
      "execution_count": null,
      "outputs": []
    },
    {
      "cell_type": "code",
      "metadata": {
        "id": "c-ReZrKW6EpD"
      },
      "source": [
        "s=all_con(rules_max)"
      ],
      "execution_count": null,
      "outputs": []
    },
    {
      "cell_type": "code",
      "metadata": {
        "id": "T5frfs7G89WW",
        "colab": {
          "base_uri": "https://localhost:8080/",
          "height": 1000
        },
        "outputId": "8ff118eb-63fa-4746-e2aa-44c8c9b7acd1"
      },
      "source": [
        "s"
      ],
      "execution_count": null,
      "outputs": [
        {
          "output_type": "execute_result",
          "data": {
            "text/plain": [
              "[0.1881625441696113,\n",
              " 0.1881625441696113,\n",
              " 0.061837455830388695,\n",
              " 0.061837455830388695,\n",
              " 0.04100742654181466,\n",
              " 0.04100742654181466,\n",
              " 0.1098677517802645,\n",
              " 0.1098677517802645,\n",
              " 0.05896643109540636,\n",
              " 0.05896643109540636,\n",
              " 0.0442363577655796,\n",
              " 0.0442363577655796,\n",
              " 0.03931095406360424,\n",
              " 0.03931095406360424,\n",
              " 0.09938162544169611,\n",
              " 0.09938162544169611,\n",
              " 0.08911850177591218,\n",
              " 0.08911850177591218,\n",
              " 0.12441314553990611,\n",
              " 0.023409893992932862,\n",
              " 0.034226670971908305,\n",
              " 0.034226670971908305,\n",
              " 0.023409893992932862,\n",
              " 0.12441314553990611,\n",
              " 0.07354240282685512,\n",
              " 0.07354240282685512,\n",
              " 0.051662899580238945,\n",
              " 0.051662899580238945,\n",
              " 0.10424028268551237,\n",
              " 0.10424028268551237,\n",
              " 0.08588957055214724,\n",
              " 0.08588957055214724,\n",
              " 0.04306537102473498,\n",
              " 0.04306537102473498,\n",
              " 0.03312720848056537,\n",
              " 0.03312720848056537,\n",
              " 0.11439929328621908,\n",
              " 0.11439929328621908,\n",
              " 0.16666666666666669,\n",
              " 0.16666666666666669,\n",
              " 0.07135938004520505,\n",
              " 0.07135938004520505,\n",
              " 0.07037037037037037,\n",
              " 0.09664292980671414,\n",
              " 0.020980565371024735,\n",
              " 0.020980565371024735,\n",
              " 0.09664292980671414,\n",
              " 0.07037037037037037,\n",
              " 0.020980565371024735,\n",
              " 0.09664292980671414,\n",
              " 0.030674846625766874,\n",
              " 0.030674846625766874,\n",
              " 0.09664292980671414,\n",
              " 0.020980565371024735,\n",
              " 0.10074074074074074,\n",
              " 0.10074074074074074,\n",
              " 0.05198579270261544,\n",
              " 0.05198579270261544,\n",
              " 0.0799469964664311,\n",
              " 0.0799469964664311,\n",
              " 0.04107773851590106,\n",
              " 0.04107773851590106,\n",
              " 0.031643525992896354,\n",
              " 0.031643525992896354,\n",
              " 0.04107773851590106,\n",
              " 0.04107773851590106,\n",
              " 0.03293509848240233,\n",
              " 0.03293509848240233,\n",
              " 0.04946996466431095,\n",
              " 0.04946996466431095,\n",
              " 0.03776501766784452,\n",
              " 0.03776501766784452,\n",
              " 0.022747349823321553,\n",
              " 0.022747349823321553]"
            ]
          },
          "metadata": {
            "tags": []
          },
          "execution_count": 122
        }
      ]
    },
    {
      "cell_type": "code",
      "metadata": {
        "id": "ok8Pt4vIJ80D"
      },
      "source": [
        ""
      ],
      "execution_count": null,
      "outputs": []
    },
    {
      "cell_type": "markdown",
      "metadata": {
        "id": "O9YVJ2bZJ9mQ"
      },
      "source": [
        "# **Forcasting**"
      ]
    },
    {
      "cell_type": "code",
      "metadata": {
        "id": "zLAX6BajEP6B"
      },
      "source": [
        "df['datetime'] = pd.to_datetime(df['Date']+\" \"+df['Time'])\n",
        "df['Week'] = df['datetime'].dt.week\n",
        "df['Month'] = df['datetime'].dt.month\n",
        "df['Weekday'] = df['datetime'].dt.weekday\n",
        "df['Hours'] = df['datetime'].dt.hour\n",
        "df1=df[['Date','Transaction', 'Month','Week', 'Weekday','Hours','Item']]"
      ],
      "execution_count": null,
      "outputs": []
    },
    {
      "cell_type": "code",
      "metadata": {
        "id": "79dpj8UJZN7f"
      },
      "source": [
        "dfs = df.groupby(['Date', 'Item'])['Item'].count().unstack().reset_index().fillna(0).set_index('Date')"
      ],
      "execution_count": null,
      "outputs": []
    },
    {
      "cell_type": "code",
      "metadata": {
        "id": "ZjUViPc8ZSy2",
        "colab": {
          "base_uri": "https://localhost:8080/",
          "height": 238
        },
        "outputId": "37c6c092-c987-47b3-d56e-ffb4f80d8a45"
      },
      "source": [
        "dfs.iloc[1]"
      ],
      "execution_count": null,
      "outputs": [
        {
          "output_type": "execute_result",
          "data": {
            "text/plain": [
              "Item\n",
              "adjustment                  0.0\n",
              "afternoon with the baker    0.0\n",
              "alfajores                   0.0\n",
              "argentina night             0.0\n",
              "art tray                    0.0\n",
              "                           ... \n",
              "tshirt                      0.0\n",
              "valentine's card            0.0\n",
              "vegan feast                 0.0\n",
              "vegan mincepie              0.0\n",
              "victorian sponge            0.0\n",
              "Name: 2016-10-31, Length: 94, dtype: float64"
            ]
          },
          "metadata": {
            "tags": []
          },
          "execution_count": 46
        }
      ]
    },
    {
      "cell_type": "code",
      "metadata": {
        "id": "yEOzSONLZTio"
      },
      "source": [
        "l=list()\n",
        "for i in range(len(dfs)):\n",
        "  l.append(sum(dfs.iloc[i]))"
      ],
      "execution_count": null,
      "outputs": []
    },
    {
      "cell_type": "code",
      "metadata": {
        "id": "gtHz7Pfqdna6"
      },
      "source": [
        "dfs['transcation']=l"
      ],
      "execution_count": null,
      "outputs": []
    },
    {
      "cell_type": "code",
      "metadata": {
        "id": "3NAS8caSeBA1"
      },
      "source": [
        "dfs.to_csv('data.csv')"
      ],
      "execution_count": null,
      "outputs": []
    },
    {
      "cell_type": "markdown",
      "metadata": {
        "id": "MuA4y2ZdKC_U"
      },
      "source": [
        "Downloading the CSV file and then used Tableau for Forcasting"
      ]
    },
    {
      "cell_type": "code",
      "metadata": {
        "id": "DRX67dumeB9K",
        "colab": {
          "base_uri": "https://localhost:8080/",
          "height": 946
        },
        "outputId": "6b12dddf-0c2f-4c9e-c936-07c242b511a9"
      },
      "source": [
        "from IPython.display import IFrame\n",
        "IFrame('https://public.tableau.com/views/forcast_16017292572350/Sheet1?:language=en&:display_count=y&publish=yes&:origin=viz_share_link:showVizHome=no&:embed=true', width=1000, height=925)"
      ],
      "execution_count": null,
      "outputs": [
        {
          "output_type": "execute_result",
          "data": {
            "text/html": [
              "\n",
              "        <iframe\n",
              "            width=\"1000\"\n",
              "            height=\"925\"\n",
              "            src=\"https://public.tableau.com/views/forcast_16017292572350/Sheet1?:language=en&:display_count=y&publish=yes&:origin=viz_share_link:showVizHome=no&:embed=true\"\n",
              "            frameborder=\"0\"\n",
              "            allowfullscreen\n",
              "        ></iframe>\n",
              "        "
            ],
            "text/plain": [
              "<IPython.lib.display.IFrame at 0x7f1439fc5e48>"
            ]
          },
          "metadata": {
            "tags": []
          },
          "execution_count": 56
        }
      ]
    },
    {
      "cell_type": "markdown",
      "metadata": {
        "id": "4db74FCM8Qi3"
      },
      "source": [
        ": As it is time-series dataset we can apply forecasting as see the future sells .On this dataset we can’t apply clustering, classification or regression it is only suited for forecasting .So I have used Tableau and connect with python notebook to perform the forecasting as it has the option of forecasting.\n",
        "1.\tI first grouped by data on date and items and then save it in the csv file and used that file to forecast the future.\n",
        "2.\tSo on the basis of date i.e. abstraction level of date I have forcasted the data and found out that from 9 April 2017 to 12 April 2017 our transcation will go down and then from 13 April it will starting to increase and sales became moderate on 15th April 2017.\n",
        "\n",
        "\n",
        "# Thank You\n",
        "# Made By Anshu Pandey \n",
        "# 18csu026"
      ]
    },
    {
      "cell_type": "markdown",
      "metadata": {
        "id": "CJ6dCcC49l3G"
      },
      "source": [
        "# **RULES**\n",
        "1. From my point of view this bakery should provide the different variants of coffee as it is of high sales and the area in which this bakery is situated is of coffee lover so people would buy different coffee to tasty\n",
        "2. In morning we should recommend cookies with coffee as in morning we have less cookies, toast sold so we can have some discount as cookies complement coffee and it is very light to eat in morning.\n",
        "3. We would recommend bread with that but we would not give them on discount\n",
        "4. In afternoon we should apply discount on the food items which is expensive but not sold much and which is heavy to fill the empty stomach.\n",
        "5. From 10:00 -3:00 we should have more employees as people are more so that don't have to wait as people get annoyed if they have to wait.\n",
        "6. In winter season we should promote new dishes as it will be bought as in winter, we have high sales.\n",
        "7. In weekends we can apply discount or buy one get one as there are more tourist.\n",
        "\n",
        "\n",
        "8. So we can see that with cake and sandwich we can also recommand coffee in afternoon as in afternoon our sales increases for cake and sandwich\n",
        "medialuna,cake ,hot chocolate and coffee can be recommandand\n",
        "**Rule I have chosen to show my client: **\n",
        "1.\tSpanish Brunch  Coffee [support :0.01,confidence: 0.59,lift:1.25]\n",
        "2.\tPastry   Coffee [support :0.04,confidence: 0.55,lift:1.15]\n",
        "3.\tJuice  Coffee [support :0.02,confidence: 0.53,lift:1.11]\n",
        "4.\tHot chocolate  Coffee [support :0.02,confidence: 0.50,lift:1.06]\n",
        "**Reason is:**\n",
        "1.\tFirst, these have high confidence and lift i.e. there are highly correlated \n",
        "2.\tSecondly, all the rules how pass the interestingness round as not interesting. The interestingness of the rule is subjective so I would not suggest to promote toast, sandwiches, cookies with coffee because it is very common that person who takes coffee will likely to take these items but it is interesting that juice and coffee goes together , Spanish Brunch and coffee goes together it is interesting to know.\n",
        "\n",
        "\n"
      ]
    },
    {
      "cell_type": "code",
      "metadata": {
        "id": "LPI12fG79lJk"
      },
      "source": [
        ""
      ],
      "execution_count": null,
      "outputs": []
    },
    {
      "cell_type": "code",
      "metadata": {
        "id": "hY-0FuXWgrOR"
      },
      "source": [
        ""
      ],
      "execution_count": null,
      "outputs": []
    }
  ]
}