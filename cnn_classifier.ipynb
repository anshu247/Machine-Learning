{
  "nbformat": 4,
  "nbformat_minor": 0,
  "metadata": {
    "colab": {
      "name": "cnn dc .ipynb",
      "provenance": [],
      "collapsed_sections": [],
      "authorship_tag": "ABX9TyOs6tXfogSgUM3lPgvIsbdN",
      "include_colab_link": true
    },
    "kernelspec": {
      "name": "python3",
      "display_name": "Python 3"
    }
  },
  "cells": [
    {
      "cell_type": "markdown",
      "metadata": {
        "id": "view-in-github",
        "colab_type": "text"
      },
      "source": [
        "<a href=\"https://colab.research.google.com/github/anshu247/Machine-Learning/blob/master/cnn_classifier.ipynb\" target=\"_parent\"><img src=\"https://colab.research.google.com/assets/colab-badge.svg\" alt=\"Open In Colab\"/></a>"
      ]
    },
    {
      "cell_type": "code",
      "metadata": {
        "id": "TDoojQ7ixnvF",
        "colab_type": "code",
        "outputId": "9a607281-8e76-4327-b712-2a17f29a5063",
        "colab": {
          "base_uri": "https://localhost:8080/",
          "height": 384
        }
      },
      "source": [
        "# downloading the data from dropbox\n",
        "!wget https://www.dropbox.com/sh/2idnozs4741hzkr/AABXTlPlU-1f4L_VdS4wY06ca?dl=0"
      ],
      "execution_count": 54,
      "outputs": [
        {
          "output_type": "stream",
          "text": [
            "--2020-06-16 02:43:14--  https://www.dropbox.com/sh/2idnozs4741hzkr/AABXTlPlU-1f4L_VdS4wY06ca?dl=0\n",
            "Resolving www.dropbox.com (www.dropbox.com)... 162.125.5.1, 2620:100:601d:1::a27d:501\n",
            "Connecting to www.dropbox.com (www.dropbox.com)|162.125.5.1|:443... connected.\n",
            "HTTP request sent, awaiting response... 301 Moved Permanently\n",
            "Location: /sh/raw/2idnozs4741hzkr/AABXTlPlU-1f4L_VdS4wY06ca [following]\n",
            "--2020-06-16 02:43:14--  https://www.dropbox.com/sh/raw/2idnozs4741hzkr/AABXTlPlU-1f4L_VdS4wY06ca\n",
            "Reusing existing connection to www.dropbox.com:443.\n",
            "HTTP request sent, awaiting response... 302 Found\n",
            "Location: https://ucf084303aeac7ebd610121be5ef.dl.dropboxusercontent.com/zip_download_get/AdIaQ7j7wwI0ZKAPjCi8sDooIhLe_PCiEQwicops5hIO3DmYRYUhG1_N0NKwDuwT97PsVVhgb-GBUX8pDSUDLLxZ3nyVi4gVdw61AQEGRFhQ1Q [following]\n",
            "--2020-06-16 02:43:15--  https://ucf084303aeac7ebd610121be5ef.dl.dropboxusercontent.com/zip_download_get/AdIaQ7j7wwI0ZKAPjCi8sDooIhLe_PCiEQwicops5hIO3DmYRYUhG1_N0NKwDuwT97PsVVhgb-GBUX8pDSUDLLxZ3nyVi4gVdw61AQEGRFhQ1Q\n",
            "Resolving ucf084303aeac7ebd610121be5ef.dl.dropboxusercontent.com (ucf084303aeac7ebd610121be5ef.dl.dropboxusercontent.com)... 162.125.5.15, 2620:100:601d:15::a27d:50f\n",
            "Connecting to ucf084303aeac7ebd610121be5ef.dl.dropboxusercontent.com (ucf084303aeac7ebd610121be5ef.dl.dropboxusercontent.com)|162.125.5.15|:443... connected.\n",
            "HTTP request sent, awaiting response... 200 OK\n",
            "Length: 20870908 (20M) [application/zip]\n",
            "Saving to: ‘AABXTlPlU-1f4L_VdS4wY06ca?dl=0.1’\n",
            "\n",
            "AABXTlPlU-1f4L_VdS4 100%[===================>]  19.90M   595KB/s    in 39s     \n",
            "\n",
            "2020-06-16 02:43:55 (525 KB/s) - ‘AABXTlPlU-1f4L_VdS4wY06ca?dl=0.1’ saved [20870908/20870908]\n",
            "\n"
          ],
          "name": "stdout"
        }
      ]
    },
    {
      "cell_type": "code",
      "metadata": {
        "id": "BC05B7OVxu_4",
        "colab_type": "code",
        "outputId": "1460fb23-aaf4-43bc-d972-71240a7acb29",
        "colab": {
          "base_uri": "https://localhost:8080/",
          "height": 1000
        }
      },
      "source": [
        "# unzip the file \n",
        "!unzip AABXTlPlU-1f4L_VdS4wY06ca?dl=0"
      ],
      "execution_count": 55,
      "outputs": [
        {
          "output_type": "stream",
          "text": [
            "Archive:  AABXTlPlU-1f4L_VdS4wY06ca?dl=0\n",
            "warning:  stripped absolute path spec from /\n",
            "mapname:  conversion of  failed\n",
            "replace Images/cats/cat.3.jpg? [y]es, [n]o, [A]ll, [N]one, [r]ename: A\n",
            " extracting: Images/cats/cat.3.jpg   \n",
            " extracting: Images/dogs/dog.3.jpg   \n",
            " extracting: Images/cats/cat.8.jpg   \n",
            " extracting: Images/dogs/dog.8.jpg   \n",
            " extracting: Images/cats/cat.5.jpg   \n",
            " extracting: Images/dogs/dog.5.jpg   \n",
            " extracting: Images/cats/cat.6.jpg   \n",
            " extracting: Images/dogs/dog.2.jpg   \n",
            " extracting: Images/dogs/dog.9.jpg   \n",
            " extracting: Images/dogs/dog.4.jpg   \n",
            " extracting: Images/cats/cat.1.jpg   \n",
            " extracting: Images/cats/cat.9.jpg   \n",
            " extracting: Images/dogs/dog.7.jpg   \n",
            " extracting: Images/cats/cat.4.jpg   \n",
            " extracting: Images/dogs/dog.6.jpg   \n",
            " extracting: Images/cats/cat.7.jpg   \n",
            " extracting: Images/dogs/dog.1.jpg   \n",
            " extracting: Images/cats/cat.2.jpg   \n",
            " extracting: Images/dogs/dog.82.jpg  \n",
            " extracting: Images/cats/cat.75.jpg  \n",
            " extracting: Images/cats/cat.45.jpg  \n",
            " extracting: Images/dogs/dog.51.jpg  \n",
            " extracting: Images/dogs/dog.43.jpg  \n",
            " extracting: Images/cats/cat.30.jpg  \n",
            " extracting: Images/dogs/dog.79.jpg  \n",
            " extracting: Images/cats/cat.44.jpg  \n",
            " extracting: Images/dogs/dog.38.jpg  \n",
            " extracting: Images/dogs/dog.29.jpg  \n",
            " extracting: Images/dogs/dog.71.jpg  \n",
            " extracting: Images/dogs/dog.99.jpg  \n",
            " extracting: Images/cats/cat.86.jpg  \n",
            " extracting: Images/dogs/dog.13.jpg  \n",
            " extracting: Images/dogs/dog.48.jpg  \n",
            " extracting: Images/dogs/dog.55.jpg  \n",
            " extracting: Images/dogs/dog.20.jpg  \n",
            " extracting: Images/dogs/dog.94.jpg  \n",
            " extracting: Images/dogs/dog.80.jpg  \n",
            " extracting: Images/cats/cat.49.jpg  \n",
            " extracting: Images/cats/cat.53.jpg  \n",
            " extracting: Images/cats/cat.25.jpg  \n",
            " extracting: Images/dogs/dog.32.jpg  \n",
            " extracting: Images/dogs/dog.46.jpg  \n",
            " extracting: Images/dogs/dog.92.jpg  \n",
            " extracting: Images/cats/cat.60.jpg  \n",
            " extracting: Images/dogs/dog.87.jpg  \n",
            " extracting: Images/cats/cat.33.jpg  \n",
            " extracting: Images/dogs/dog.63.jpg  \n",
            " extracting: Images/dogs/dog.50.jpg  \n",
            " extracting: Images/cats/cat.43.jpg  \n",
            " extracting: Images/cats/cat.57.jpg  \n",
            " extracting: Images/cats/cat.99.jpg  \n",
            " extracting: Images/dogs/dog.78.jpg  \n",
            " extracting: Images/cats/cat.54.jpg  \n",
            " extracting: Images/cats/cat.95.jpg  \n",
            " extracting: Images/dogs/dog.56.jpg  \n",
            " extracting: Images/dogs/dog.11.jpg  \n",
            " extracting: Images/cats/cat.73.jpg  \n",
            " extracting: Images/dogs/dog.67.jpg  \n",
            " extracting: Images/cats/cat.11.jpg  \n",
            " extracting: Images/cats/cat.84.jpg  \n",
            " extracting: Images/cats/cat.61.jpg  \n",
            " extracting: Images/cats/cat.59.jpg  \n",
            " extracting: Images/dogs/dog.93.jpg  \n",
            " extracting: Images/dogs/dog.16.jpg  \n",
            " extracting: Images/dogs/dog.19.jpg  \n",
            " extracting: Images/cats/cat.52.jpg  \n",
            " extracting: Images/cats/cat.68.jpg  \n",
            " extracting: Images/cats/cat.79.jpg  \n",
            " extracting: Images/dogs/dog.91.jpg  \n",
            " extracting: Images/cats/cat.70.jpg  \n",
            " extracting: Images/cats/cat.88.jpg  \n",
            " extracting: Images/cats/cat.91.jpg  \n",
            " extracting: Images/dogs/dog.17.jpg  \n",
            " extracting: Images/dogs/dog.88.jpg  \n",
            " extracting: Images/cats/cat.67.jpg  \n",
            " extracting: Images/dogs/dog.44.jpg  \n",
            " extracting: Images/dogs/dog.62.jpg  \n",
            " extracting: Images/cats/cat.18.jpg  \n",
            " extracting: Images/dogs/dog.54.jpg  \n",
            " extracting: Images/cats/cat.76.jpg  \n",
            " extracting: Images/cats/cat.81.jpg  \n",
            " extracting: Images/dogs/dog.31.jpg  \n",
            " extracting: Images/dogs/dog.37.jpg  \n",
            " extracting: Images/dogs/dog.72.jpg  \n",
            " extracting: Images/cats/cat.80.jpg  \n",
            " extracting: Images/dogs/dog.10.jpg  \n",
            " extracting: Images/cats/cat.39.jpg  \n",
            " extracting: Images/cats/cat.21.jpg  \n",
            " extracting: Images/dogs/dog.73.jpg  \n",
            " extracting: Images/cats/cat.50.jpg  \n",
            " extracting: Images/dogs/dog.95.jpg  \n",
            " extracting: Images/cats/cat.89.jpg  \n",
            " extracting: Images/dogs/dog.74.jpg  \n",
            " extracting: Images/dogs/dog.64.jpg  \n",
            " extracting: Images/dogs/dog.36.jpg  \n",
            " extracting: Images/dogs/dog.40.jpg  \n",
            " extracting: Images/cats/cat.83.jpg  \n",
            " extracting: Images/dogs/dog.18.jpg  \n",
            " extracting: Images/dogs/dog.84.jpg  \n",
            " extracting: Images/dogs/dog.90.jpg  \n",
            " extracting: Images/cats/cat.28.jpg  \n",
            " extracting: Images/cats/cat.10.jpg  \n",
            " extracting: Images/dogs/dog.89.jpg  \n",
            " extracting: Images/dogs/dog.69.jpg  \n",
            " extracting: Images/cats/cat.85.jpg  \n",
            " extracting: Images/cats/cat.58.jpg  \n",
            " extracting: Images/dogs/dog.30.jpg  \n",
            " extracting: Images/cats/cat.24.jpg  \n",
            " extracting: Images/cats/cat.51.jpg  \n",
            " extracting: Images/cats/cat.71.jpg  \n",
            " extracting: Images/cats/cat.29.jpg  \n",
            " extracting: Images/dogs/dog.26.jpg  \n",
            " extracting: Images/cats/cat.20.jpg  \n",
            " extracting: Images/cats/cat.77.jpg  \n",
            " extracting: Images/dogs/dog.53.jpg  \n",
            " extracting: Images/cats/cat.15.jpg  \n",
            " extracting: Images/cats/cat.17.jpg  \n",
            " extracting: Images/dogs/dog.75.jpg  \n",
            " extracting: Images/dogs/dog.85.jpg  \n",
            " extracting: Images/dogs/dog.68.jpg  \n",
            " extracting: Images/dogs/dog.25.jpg  \n",
            " extracting: Images/cats/cat.96.jpg  \n",
            " extracting: Images/cats/cat.23.jpg  \n",
            " extracting: Images/cats/cat.35.jpg  \n",
            " extracting: Images/cats/cat.38.jpg  \n",
            " extracting: Images/cats/cat.19.jpg  \n",
            " extracting: Images/dogs/dog.45.jpg  \n",
            " extracting: Images/cats/cat.66.jpg  \n",
            " extracting: Images/cats/cat.31.jpg  \n",
            " extracting: Images/dogs/dog.47.jpg  \n",
            " extracting: Images/dogs/dog.52.jpg  \n",
            " extracting: Images/cats/cat.32.jpg  \n",
            " extracting: Images/cats/cat.46.jpg  \n",
            " extracting: Images/dogs/dog.96.jpg  \n",
            " extracting: Images/dogs/dog.77.jpg  \n",
            " extracting: Images/dogs/dog.65.jpg  \n",
            " extracting: Images/cats/cat.56.jpg  \n",
            " extracting: Images/dogs/dog.41.jpg  \n",
            " extracting: Images/cats/cat.92.jpg  \n",
            " extracting: Images/dogs/dog.22.jpg  \n",
            " extracting: Images/dogs/dog.70.jpg  \n",
            " extracting: Images/cats/cat.34.jpg  \n",
            " extracting: Images/cats/cat.94.jpg  \n",
            " extracting: Images/dogs/dog.59.jpg  \n",
            " extracting: Images/cats/cat.62.jpg  \n",
            " extracting: Images/dogs/dog.60.jpg  \n",
            " extracting: Images/cats/cat.47.jpg  \n",
            " extracting: Images/cats/cat.22.jpg  \n",
            " extracting: Images/cats/cat.55.jpg  \n",
            " extracting: Images/cats/cat.64.jpg  \n",
            " extracting: Images/cats/cat.87.jpg  \n",
            " extracting: Images/cats/cat.41.jpg  \n",
            " extracting: Images/dogs/dog.58.jpg  \n",
            " extracting: Images/dogs/dog.97.jpg  \n",
            " extracting: Images/dogs/dog.76.jpg  \n",
            " extracting: Images/cats/cat.36.jpg  \n",
            " extracting: Images/dogs/dog.23.jpg  \n",
            " extracting: Images/dogs/dog.49.jpg  \n",
            " extracting: Images/cats/cat.13.jpg  \n",
            " extracting: Images/cats/cat.82.jpg  \n",
            " extracting: Images/cats/cat.97.jpg  \n",
            " extracting: Images/dogs/dog.15.jpg  \n",
            " extracting: Images/cats/cat.93.jpg  \n",
            " extracting: Images/dogs/dog.24.jpg  \n",
            " extracting: Images/cats/cat.63.jpg  \n",
            " extracting: Images/dogs/dog.42.jpg  \n",
            " extracting: Images/dogs/dog.39.jpg  \n",
            " extracting: Images/dogs/dog.83.jpg  \n",
            " extracting: Images/cats/cat.69.jpg  \n",
            " extracting: Images/dogs/dog.98.jpg  \n",
            " extracting: Images/cats/cat.98.jpg  \n",
            " extracting: Images/dogs/dog.35.jpg  \n",
            " extracting: Images/cats/cat.26.jpg  \n",
            " extracting: Images/cats/cat.48.jpg  \n",
            " extracting: Images/dogs/dog.14.jpg  \n",
            " extracting: Images/cats/cat.42.jpg  \n",
            " extracting: Images/cats/cat.40.jpg  \n",
            " extracting: Images/cats/cat.37.jpg  \n",
            " extracting: Images/dogs/dog.33.jpg  \n",
            " extracting: Images/dogs/dog.86.jpg  \n",
            " extracting: Images/cats/cat.72.jpg  \n",
            " extracting: Images/dogs/dog.81.jpg  \n",
            " extracting: Images/dogs/dog.21.jpg  \n",
            " extracting: Images/cats/cat.65.jpg  \n",
            " extracting: Images/cats/cat.74.jpg  \n",
            " extracting: Images/dogs/dog.57.jpg  \n",
            " extracting: Images/dogs/dog.12.jpg  \n",
            " extracting: Images/dogs/dog.28.jpg  \n",
            " extracting: Images/cats/cat.16.jpg  \n",
            " extracting: Images/cats/cat.14.jpg  \n",
            " extracting: Images/cats/cat.90.jpg  \n",
            " extracting: Images/dogs/dog.66.jpg  \n",
            " extracting: Images/cats/cat.78.jpg  \n",
            " extracting: Images/dogs/dog.61.jpg  \n",
            " extracting: Images/cats/cat.27.jpg  \n",
            " extracting: Images/dogs/dog.27.jpg  \n",
            " extracting: Images/dogs/dog.34.jpg  \n",
            " extracting: Images/cats/cat.12.jpg  \n",
            " extracting: Images/dogs/dog.120.jpg  \n",
            " extracting: Images/dogs/dog.115.jpg  \n",
            " extracting: Images/cats/cat.200.jpg  \n",
            " extracting: Images/dogs/dog.168.jpg  \n",
            " extracting: Images/cats/cat.198.jpg  \n",
            " extracting: Images/dogs/dog.197.jpg  \n",
            " extracting: Images/dogs/dog.134.jpg  \n",
            " extracting: Images/cats/cat.102.jpg  \n",
            " extracting: Images/dogs/dog.133.jpg  \n",
            " extracting: Images/cats/cat.113.jpg  \n",
            " extracting: Images/cats/cat.171.jpg  \n",
            " extracting: Images/cats/cat.103.jpg  \n",
            " extracting: Images/cats/cat.193.jpg  \n",
            " extracting: Images/dogs/dog.163.jpg  \n",
            " extracting: Images/cats/cat.117.jpg  \n",
            " extracting: Images/cats/cat.174.jpg  \n",
            " extracting: Images/dogs/dog.142.jpg  \n",
            " extracting: Images/cats/cat.124.jpg  \n",
            " extracting: Images/cats/cat.151.jpg  \n",
            " extracting: Images/dogs/dog.150.jpg  \n",
            " extracting: Images/dogs/dog.155.jpg  \n",
            " extracting: Images/dogs/dog.102.jpg  \n",
            " extracting: Images/cats/cat.125.jpg  \n",
            " extracting: Images/cats/cat.137.jpg  \n",
            " extracting: Images/dogs/dog.185.jpg  \n",
            " extracting: Images/cats/cat.177.jpg  \n",
            " extracting: Images/dogs/dog.144.jpg  \n",
            " extracting: Images/cats/cat.197.jpg  \n",
            " extracting: Images/cats/cat.119.jpg  \n",
            " extracting: Images/dogs/dog.156.jpg  \n",
            " extracting: Images/cats/cat.127.jpg  \n",
            " extracting: Images/cats/cat.183.jpg  \n",
            " extracting: Images/cats/cat.190.jpg  \n",
            " extracting: Images/dogs/dog.174.jpg  \n",
            " extracting: Images/cats/cat.156.jpg  \n",
            " extracting: Images/dogs/dog.126.jpg  \n",
            " extracting: Images/cats/cat.175.jpg  \n",
            " extracting: Images/cats/cat.178.jpg  \n",
            " extracting: Images/dogs/dog.195.jpg  \n",
            " extracting: Images/cats/cat.123.jpg  \n",
            " extracting: Images/dogs/dog.113.jpg  \n",
            " extracting: Images/dogs/dog.103.jpg  \n",
            " extracting: Images/cats/cat.168.jpg  \n",
            " extracting: Images/dogs/dog.121.jpg  \n",
            " extracting: Images/cats/cat.140.jpg  \n",
            " extracting: Images/cats/cat.154.jpg  \n",
            " extracting: Images/dogs/dog.196.jpg  \n",
            " extracting: Images/dogs/dog.135.jpg  \n",
            " extracting: Images/cats/cat.104.jpg  \n",
            " extracting: Images/cats/cat.184.jpg  \n",
            " extracting: Images/cats/cat.201.jpg  \n",
            " extracting: Images/cats/cat.196.jpg  \n",
            " extracting: Images/cats/cat.166.jpg  \n",
            " extracting: Images/cats/cat.188.jpg  \n",
            " extracting: Images/cats/cat.162.jpg  \n",
            " extracting: Images/dogs/dog.108.jpg  \n",
            " extracting: Images/cats/cat.133.jpg  \n",
            " extracting: Images/dogs/dog.173.jpg  \n",
            " extracting: Images/cats/cat.134.jpg  \n",
            " extracting: Images/cats/cat.182.jpg  \n",
            " extracting: Images/dogs/dog.169.jpg  \n",
            " extracting: Images/cats/cat.199.jpg  \n",
            " extracting: Images/dogs/dog.166.jpg  \n",
            " extracting: Images/dogs/dog.159.jpg  \n",
            " extracting: Images/cats/cat.122.jpg  \n",
            " extracting: Images/dogs/dog.130.jpg  \n",
            " extracting: Images/cats/cat.107.jpg  \n",
            " extracting: Images/dogs/dog.178.jpg  \n",
            " extracting: Images/dogs/dog.175.jpg  \n",
            " extracting: Images/dogs/dog.116.jpg  \n",
            " extracting: Images/cats/cat.150.jpg  \n",
            " extracting: Images/dogs/dog.145.jpg  \n",
            " extracting: Images/dogs/dog.151.jpg  \n",
            " extracting: Images/dogs/dog.112.jpg  \n",
            " extracting: Images/dogs/dog.194.jpg  \n",
            " extracting: Images/dogs/dog.160.jpg  \n",
            " extracting: Images/cats/cat.142.jpg  \n",
            " extracting: Images/cats/cat.118.jpg  \n",
            " extracting: Images/cats/cat.164.jpg  \n",
            " extracting: Images/cats/cat.141.jpg  \n",
            " extracting: Images/cats/cat.179.jpg  \n",
            " extracting: Images/cats/cat.155.jpg  \n",
            " extracting: Images/cats/cat.116.jpg  \n",
            " extracting: Images/cats/cat.195.jpg  \n",
            " extracting: Images/dogs/dog.119.jpg  \n",
            " extracting: Images/cats/cat.189.jpg  \n",
            " extracting: Images/dogs/dog.146.jpg  \n",
            " extracting: Images/cats/cat.159.jpg  \n",
            " extracting: Images/cats/cat.110.jpg  \n",
            " extracting: Images/dogs/dog.179.jpg  \n",
            " extracting: Images/cats/cat.144.jpg  \n",
            " extracting: Images/dogs/dog.172.jpg  \n",
            " extracting: Images/cats/cat.147.jpg  \n",
            " extracting: Images/dogs/dog.186.jpg  \n",
            " extracting: Images/cats/cat.120.jpg  \n",
            " extracting: Images/cats/cat.187.jpg  \n",
            " extracting: Images/dogs/dog.109.jpg  \n",
            " extracting: Images/dogs/dog.191.jpg  \n",
            " extracting: Images/dogs/dog.180.jpg  \n",
            " extracting: Images/dogs/dog.127.jpg  \n",
            " extracting: Images/dogs/dog.111.jpg  \n",
            " extracting: Images/dogs/dog.158.jpg  \n",
            " extracting: Images/dogs/dog.100.jpg  \n",
            " extracting: Images/dogs/dog.125.jpg  \n",
            " extracting: Images/cats/cat.176.jpg  \n",
            " extracting: Images/dogs/dog.176.jpg  \n",
            " extracting: Images/dogs/dog.167.jpg  \n",
            " extracting: Images/dogs/dog.117.jpg  \n",
            " extracting: Images/cats/cat.163.jpg  \n",
            " extracting: Images/cats/cat.126.jpg  \n",
            " extracting: Images/cats/cat.202.jpg  \n",
            " extracting: Images/cats/cat.167.jpg  \n",
            " extracting: Images/dogs/dog.136.jpg  \n",
            " extracting: Images/dogs/dog.128.jpg  \n",
            " extracting: Images/dogs/dog.161.jpg  \n",
            " extracting: Images/dogs/dog.157.jpg  \n",
            " extracting: Images/cats/cat.143.jpg  \n",
            " extracting: Images/dogs/dog.181.jpg  \n",
            " extracting: Images/dogs/dog.201.jpg  \n",
            " extracting: Images/dogs/dog.183.jpg  \n",
            " extracting: Images/dogs/dog.202.jpg  \n",
            " extracting: Images/dogs/dog.170.jpg  \n",
            " extracting: Images/cats/cat.153.jpg  \n",
            " extracting: Images/cats/cat.128.jpg  \n",
            " extracting: Images/dogs/dog.131.jpg  \n",
            " extracting: Images/dogs/dog.140.jpg  \n",
            " extracting: Images/dogs/dog.190.jpg  \n",
            " extracting: Images/dogs/dog.124.jpg  \n",
            " extracting: Images/dogs/dog.129.jpg  \n",
            " extracting: Images/dogs/dog.118.jpg  \n",
            " extracting: Images/dogs/dog.147.jpg  \n",
            " extracting: Images/cats/cat.121.jpg  \n",
            " extracting: Images/cats/cat.181.jpg  \n",
            " extracting: Images/cats/cat.186.jpg  \n",
            " extracting: Images/cats/cat.135.jpg  \n",
            " extracting: Images/cats/cat.158.jpg  \n",
            " extracting: Images/dogs/dog.148.jpg  \n",
            " extracting: Images/dogs/dog.137.jpg  \n",
            " extracting: Images/cats/cat.111.jpg  \n",
            " extracting: Images/cats/cat.146.jpg  \n",
            " extracting: Images/cats/cat.160.jpg  \n",
            " extracting: Images/dogs/dog.101.jpg  \n",
            " extracting: Images/dogs/dog.122.jpg  \n",
            " extracting: Images/dogs/dog.149.jpg  \n",
            " extracting: Images/cats/cat.192.jpg  \n",
            " extracting: Images/cats/cat.165.jpg  \n",
            " extracting: Images/cats/cat.173.jpg  \n",
            " extracting: Images/dogs/dog.199.jpg  \n",
            " extracting: Images/dogs/dog.154.jpg  \n",
            " extracting: Images/cats/cat.194.jpg  \n",
            " extracting: Images/dogs/dog.187.jpg  \n",
            " extracting: Images/cats/cat.157.jpg  \n",
            " extracting: Images/dogs/dog.152.jpg  \n",
            " extracting: Images/dogs/dog.200.jpg  \n",
            " extracting: Images/cats/cat.152.jpg  \n",
            " extracting: Images/dogs/dog.110.jpg  \n",
            " extracting: Images/dogs/dog.188.jpg  \n",
            " extracting: Images/cats/cat.106.jpg  \n",
            " extracting: Images/cats/cat.109.jpg  \n",
            " extracting: Images/cats/cat.185.jpg  \n",
            " extracting: Images/dogs/dog.164.jpg  \n",
            " extracting: Images/dogs/dog.192.jpg  \n",
            " extracting: Images/dogs/dog.182.jpg  \n",
            " extracting: Images/cats/cat.131.jpg  \n",
            " extracting: Images/dogs/dog.104.jpg  \n",
            " extracting: Images/dogs/dog.138.jpg  \n",
            " extracting: Images/cats/cat.149.jpg  \n",
            " extracting: Images/dogs/dog.105.jpg  \n",
            " extracting: Images/dogs/dog.177.jpg  \n",
            " extracting: Images/cats/cat.105.jpg  \n",
            " extracting: Images/cats/cat.180.jpg  \n",
            " extracting: Images/cats/cat.112.jpg  \n",
            " extracting: Images/cats/cat.130.jpg  \n",
            " extracting: Images/dogs/dog.114.jpg  \n",
            " extracting: Images/cats/cat.132.jpg  \n",
            " extracting: Images/dogs/dog.132.jpg  \n",
            " extracting: Images/cats/cat.114.jpg  \n",
            " extracting: Images/cats/cat.100.jpg  \n",
            " extracting: Images/cats/cat.136.jpg  \n",
            " extracting: Images/dogs/dog.193.jpg  \n",
            " extracting: Images/dogs/dog.198.jpg  \n",
            " extracting: Images/cats/cat.108.jpg  \n",
            " extracting: Images/cats/cat.172.jpg  \n",
            " extracting: Images/cats/cat.139.jpg  \n",
            " extracting: Images/cats/cat.161.jpg  \n",
            " extracting: Images/dogs/dog.153.jpg  \n",
            " extracting: Images/cats/cat.169.jpg  \n",
            " extracting: Images/dogs/dog.123.jpg  \n",
            " extracting: Images/dogs/dog.141.jpg  \n",
            " extracting: Images/cats/cat.115.jpg  \n",
            " extracting: Images/cats/cat.170.jpg  \n",
            " extracting: Images/cats/cat.138.jpg  \n",
            " extracting: Images/dogs/dog.143.jpg  \n",
            " extracting: Images/dogs/dog.162.jpg  \n",
            " extracting: Images/cats/cat.191.jpg  \n",
            " extracting: Images/dogs/dog.189.jpg  \n",
            " extracting: Images/cats/cat.129.jpg  \n",
            " extracting: Images/dogs/dog.106.jpg  \n",
            " extracting: Images/dogs/dog.139.jpg  \n",
            " extracting: Images/cats/cat.145.jpg  \n",
            " extracting: Images/dogs/dog.107.jpg  \n",
            " extracting: Images/cats/cat.148.jpg  \n",
            " extracting: Images/cats/cat.101.jpg  \n",
            " extracting: Images/dogs/dog.184.jpg  \n",
            " extracting: Images/dogs/dog.171.jpg  \n",
            " extracting: Images/dogs/dog.165.jpg  \n",
            " extracting: Images/humans/rider-4.jpg  \n",
            " extracting: Images/horses/horse-1.jpg  \n",
            " extracting: Images/humans/rider-2.jpg  \n",
            " extracting: Images/horses/horse-5.jpg  \n",
            " extracting: Images/horses/horse-3.jpg  \n",
            " extracting: Images/horses/horse-4.jpg  \n",
            " extracting: Images/horses/horse-9.jpg  \n",
            " extracting: Images/humans/rider-3.jpg  \n",
            " extracting: Images/humans/rider-7.jpg  \n",
            " extracting: Images/horses/horse-2.jpg  \n",
            " extracting: Images/horses/horse-8.jpg  \n",
            " extracting: Images/humans/rider-9.jpg  \n",
            " extracting: Images/humans/rider-6.jpg  \n",
            " extracting: Images/humans/rider-1.jpg  \n",
            " extracting: Images/horses/horse-7.jpg  \n",
            " extracting: Images/humans/rider-8.jpg  \n",
            " extracting: Images/humans/rider-5.jpg  \n",
            " extracting: Images/horses/horse-6.jpg  \n",
            " extracting: Images/humans/rider-74.jpg  \n",
            " extracting: Images/horses/horse-45.jpg  \n",
            " extracting: Images/humans/rider-68.jpg  \n",
            " extracting: Images/horses/horse-27.jpg  \n",
            " extracting: Images/horses/horse-36.jpg  \n",
            " extracting: Images/humans/rider-81.jpg  \n",
            " extracting: Images/humans/rider-95.jpg  \n",
            " extracting: Images/humans/rider-98.jpg  \n",
            " extracting: Images/horses/horse-73.jpg  \n",
            " extracting: Images/humans/rider-73.jpg  \n",
            " extracting: Images/humans/rider-63.jpg  \n",
            " extracting: Images/horses/horse-46.jpg  \n",
            " extracting: Images/horses/horse-79.jpg  \n",
            " extracting: Images/horses/horse-68.jpg  \n",
            " extracting: Images/horses/horse-29.jpg  \n",
            " extracting: Images/horses/horse-40.jpg  \n",
            " extracting: Images/horses/horse-96.jpg  \n",
            " extracting: Images/horses/horse-82.jpg  \n",
            " extracting: Images/humans/rider-34.jpg  \n",
            " extracting: Images/horses/horse-74.jpg  \n",
            " extracting: Images/horses/horse-94.jpg  \n",
            " extracting: Images/humans/rider-66.jpg  \n",
            " extracting: Images/humans/rider-50.jpg  \n",
            " extracting: Images/horses/horse-69.jpg  \n",
            " extracting: Images/horses/horse-58.jpg  \n",
            " extracting: Images/humans/rider-48.jpg  \n",
            " extracting: Images/horses/horse-84.jpg  \n",
            " extracting: Images/humans/rider-26.jpg  \n",
            " extracting: Images/horses/horse-23.jpg  \n",
            " extracting: Images/horses/horse-99.jpg  \n",
            " extracting: Images/humans/rider-84.jpg  \n",
            " extracting: Images/humans/rider-80.jpg  \n",
            " extracting: Images/humans/rider-43.jpg  \n",
            " extracting: Images/horses/horse-13.jpg  \n",
            " extracting: Images/humans/rider-32.jpg  \n",
            " extracting: Images/horses/horse-28.jpg  \n",
            " extracting: Images/horses/horse-89.jpg  \n",
            " extracting: Images/horses/horse-12.jpg  \n",
            " extracting: Images/humans/rider-46.jpg  \n",
            " extracting: Images/horses/horse-32.jpg  \n",
            " extracting: Images/horses/horse-24.jpg  \n",
            " extracting: Images/humans/rider-27.jpg  \n",
            " extracting: Images/horses/horse-16.jpg  \n",
            " extracting: Images/horses/horse-75.jpg  \n",
            " extracting: Images/horses/horse-98.jpg  \n",
            " extracting: Images/horses/horse-95.jpg  \n",
            " extracting: Images/humans/rider-10.jpg  \n",
            " extracting: Images/horses/horse-54.jpg  \n",
            " extracting: Images/humans/rider-75.jpg  \n",
            " extracting: Images/humans/rider-16.jpg  \n",
            " extracting: Images/humans/rider-83.jpg  \n",
            " extracting: Images/humans/rider-96.jpg  \n",
            " extracting: Images/humans/rider-77.jpg  \n",
            " extracting: Images/horses/horse-93.jpg  \n",
            " extracting: Images/humans/rider-56.jpg  \n",
            " extracting: Images/humans/rider-99.jpg  \n",
            " extracting: Images/humans/rider-28.jpg  \n",
            " extracting: Images/humans/rider-85.jpg  \n",
            " extracting: Images/horses/horse-78.jpg  \n",
            " extracting: Images/horses/horse-49.jpg  \n",
            " extracting: Images/humans/rider-38.jpg  \n",
            " extracting: Images/horses/horse-67.jpg  \n",
            " extracting: Images/humans/rider-60.jpg  \n",
            " extracting: Images/humans/rider-33.jpg  \n",
            " extracting: Images/humans/rider-45.jpg  \n",
            " extracting: Images/humans/rider-51.jpg  \n",
            " extracting: Images/humans/rider-17.jpg  \n",
            " extracting: Images/horses/horse-61.jpg  \n",
            " extracting: Images/horses/horse-83.jpg  \n",
            " extracting: Images/horses/horse-51.jpg  \n",
            " extracting: Images/horses/horse-55.jpg  \n",
            " extracting: Images/humans/rider-88.jpg  \n",
            " extracting: Images/humans/rider-23.jpg  \n",
            " extracting: Images/humans/rider-15.jpg  \n",
            " extracting: Images/horses/horse-88.jpg  \n",
            " extracting: Images/horses/horse-77.jpg  \n",
            " extracting: Images/humans/rider-67.jpg  \n",
            " extracting: Images/humans/rider-57.jpg  \n",
            " extracting: Images/horses/horse-25.jpg  \n",
            " extracting: Images/humans/rider-76.jpg  \n",
            " extracting: Images/horses/horse-38.jpg  \n",
            " extracting: Images/horses/horse-47.jpg  \n",
            " extracting: Images/horses/horse-71.jpg  \n",
            " extracting: Images/horses/horse-11.jpg  \n",
            " extracting: Images/horses/horse-66.jpg  \n",
            " extracting: Images/horses/horse-87.jpg  \n",
            " extracting: Images/humans/rider-61.jpg  \n",
            " extracting: Images/horses/horse-53.jpg  \n",
            " extracting: Images/humans/rider-39.jpg  \n",
            " extracting: Images/horses/horse-48.jpg  \n",
            " extracting: Images/humans/rider-97.jpg  \n",
            " extracting: Images/humans/rider-70.jpg  \n",
            " extracting: Images/humans/rider-59.jpg  \n",
            " extracting: Images/humans/rider-11.jpg  \n",
            " extracting: Images/horses/horse-92.jpg  \n",
            " extracting: Images/humans/rider-40.jpg  \n",
            " extracting: Images/horses/horse-19.jpg  \n",
            " extracting: Images/horses/horse-70.jpg  \n",
            " extracting: Images/humans/rider-82.jpg  \n",
            " extracting: Images/horses/horse-10.jpg  \n",
            " extracting: Images/humans/rider-21.jpg  \n",
            " extracting: Images/humans/rider-36.jpg  \n",
            " extracting: Images/horses/horse-76.jpg  \n",
            " extracting: Images/humans/rider-22.jpg  \n",
            " extracting: Images/humans/rider-89.jpg  \n",
            " extracting: Images/humans/rider-14.jpg  \n",
            " extracting: Images/humans/rider-92.jpg  \n",
            " extracting: Images/horses/horse-60.jpg  \n",
            " extracting: Images/horses/horse-72.jpg  \n",
            " extracting: Images/humans/rider-29.jpg  \n",
            " extracting: Images/humans/rider-18.jpg  \n",
            " extracting: Images/horses/horse-57.jpg  \n",
            " extracting: Images/horses/horse-86.jpg  \n",
            " extracting: Images/humans/rider-24.jpg  \n",
            " extracting: Images/horses/horse-15.jpg  \n",
            " extracting: Images/humans/rider-93.jpg  \n",
            " extracting: Images/horses/horse-42.jpg  \n",
            " extracting: Images/humans/rider-47.jpg  \n",
            " extracting: Images/horses/horse-34.jpg  \n",
            " extracting: Images/humans/rider-86.jpg  \n",
            " extracting: Images/humans/rider-64.jpg  \n",
            " extracting: Images/horses/horse-39.jpg  \n",
            " extracting: Images/humans/rider-52.jpg  \n",
            " extracting: Images/horses/horse-30.jpg  \n",
            " extracting: Images/horses/horse-33.jpg  \n",
            " extracting: Images/horses/horse-21.jpg  \n",
            " extracting: Images/horses/horse-17.jpg  \n",
            " extracting: Images/humans/rider-41.jpg  \n",
            " extracting: Images/humans/rider-58.jpg  \n",
            " extracting: Images/horses/horse-18.jpg  \n",
            " extracting: Images/humans/rider-35.jpg  \n",
            " extracting: Images/humans/rider-71.jpg  \n",
            " extracting: Images/humans/rider-20.jpg  \n",
            " extracting: Images/humans/rider-69.jpg  \n",
            " extracting: Images/humans/rider-78.jpg  \n",
            " extracting: Images/horses/horse-43.jpg  \n",
            " extracting: Images/humans/rider-54.jpg  \n",
            " extracting: Images/humans/rider-30.jpg  \n",
            " extracting: Images/horses/horse-35.jpg  \n",
            " extracting: Images/humans/rider-90.jpg  \n",
            " extracting: Images/horses/horse-63.jpg  \n",
            " extracting: Images/humans/rider-91.jpg  \n",
            " extracting: Images/humans/rider-12.jpg  \n",
            " extracting: Images/horses/horse-91.jpg  \n",
            " extracting: Images/humans/rider-19.jpg  \n",
            " extracting: Images/horses/horse-22.jpg  \n",
            " extracting: Images/humans/rider-37.jpg  \n",
            " extracting: Images/horses/horse-65.jpg  \n",
            " extracting: Images/horses/horse-14.jpg  \n",
            " extracting: Images/horses/horse-44.jpg  \n",
            " extracting: Images/horses/horse-97.jpg  \n",
            " extracting: Images/humans/rider-72.jpg  \n",
            " extracting: Images/horses/horse-80.jpg  \n",
            " extracting: Images/humans/rider-87.jpg  \n",
            " extracting: Images/horses/horse-90.jpg  \n",
            " extracting: Images/horses/horse-20.jpg  \n",
            " extracting: Images/humans/rider-62.jpg  \n",
            " extracting: Images/humans/rider-65.jpg  \n",
            " extracting: Images/horses/horse-26.jpg  \n",
            " extracting: Images/humans/rider-25.jpg  \n",
            " extracting: Images/humans/rider-31.jpg  \n",
            " extracting: Images/horses/horse-41.jpg  \n",
            " extracting: Images/horses/horse-64.jpg  \n",
            " extracting: Images/humans/rider-53.jpg  \n",
            " extracting: Images/humans/rider-42.jpg  \n",
            " extracting: Images/horses/horse-56.jpg  \n",
            " extracting: Images/horses/horse-52.jpg  \n",
            " extracting: Images/horses/horse-37.jpg  \n",
            " extracting: Images/humans/rider-55.jpg  \n",
            " extracting: Images/humans/rider-94.jpg  \n",
            " extracting: Images/humans/rider-13.jpg  \n",
            " extracting: Images/horses/horse-62.jpg  \n",
            " extracting: Images/humans/rider-79.jpg  \n",
            " extracting: Images/humans/rider-49.jpg  \n",
            " extracting: Images/humans/rider-44.jpg  \n",
            " extracting: Images/horses/horse-59.jpg  \n",
            " extracting: Images/horses/horse-31.jpg  \n",
            " extracting: Images/horses/horse-85.jpg  \n",
            " extracting: Images/horses/horse-81.jpg  \n",
            " extracting: Images/horses/horse-50.jpg  \n",
            " extracting: Images/horses/horse-146.jpg  \n",
            " extracting: Images/humans/rider-185.jpg  \n",
            " extracting: Images/humans/rider-192.jpg  \n",
            " extracting: Images/humans/rider-154.jpg  \n",
            " extracting: Images/horses/horse-158.jpg  \n",
            " extracting: Images/horses/horse-127.jpg  \n",
            " extracting: Images/humans/rider-183.jpg  \n",
            " extracting: Images/humans/rider-102.jpg  \n",
            " extracting: Images/horses/horse-119.jpg  \n",
            " extracting: Images/humans/rider-103.jpg  \n",
            " extracting: Images/horses/horse-152.jpg  \n",
            " extracting: Images/humans/rider-202.jpg  \n",
            " extracting: Images/humans/rider-135.jpg  \n",
            " extracting: Images/humans/rider-124.jpg  \n",
            " extracting: Images/horses/horse-168.jpg  \n",
            " extracting: Images/humans/rider-140.jpg  \n",
            " extracting: Images/humans/rider-151.jpg  \n",
            " extracting: Images/humans/rider-119.jpg  \n",
            " extracting: Images/horses/horse-121.jpg  \n",
            " extracting: Images/horses/horse-106.jpg  \n",
            " extracting: Images/humans/rider-130.jpg  \n",
            " extracting: Images/horses/horse-148.jpg  \n",
            " extracting: Images/humans/rider-137.jpg  \n",
            " extracting: Images/humans/rider-157.jpg  \n",
            " extracting: Images/humans/rider-201.jpg  \n",
            " extracting: Images/humans/rider-190.jpg  \n",
            " extracting: Images/humans/rider-149.jpg  \n",
            " extracting: Images/horses/horse-180.jpg  \n",
            " extracting: Images/horses/horse-118.jpg  \n",
            " extracting: Images/humans/rider-109.jpg  \n",
            " extracting: Images/humans/rider-144.jpg  \n",
            " extracting: Images/horses/horse-177.jpg  \n",
            " extracting: Images/humans/rider-177.jpg  \n",
            " extracting: Images/humans/rider-197.jpg  \n",
            " extracting: Images/horses/horse-192.jpg  \n",
            " extracting: Images/humans/rider-198.jpg  \n",
            " extracting: Images/horses/horse-114.jpg  \n",
            " extracting: Images/humans/rider-171.jpg  \n",
            " extracting: Images/horses/horse-136.jpg  \n",
            " extracting: Images/horses/horse-185.jpg  \n",
            " extracting: Images/humans/rider-114.jpg  \n",
            " extracting: Images/humans/rider-106.jpg  \n",
            " extracting: Images/humans/rider-196.jpg  \n",
            " extracting: Images/horses/horse-103.jpg  \n",
            " extracting: Images/horses/horse-159.jpg  \n",
            " extracting: Images/humans/rider-168.jpg  \n",
            " extracting: Images/horses/horse-189.jpg  \n",
            " extracting: Images/humans/rider-141.jpg  \n",
            " extracting: Images/humans/rider-148.jpg  \n",
            " extracting: Images/horses/horse-102.jpg  \n",
            " extracting: Images/humans/rider-155.jpg  \n",
            " extracting: Images/horses/horse-170.jpg  \n",
            " extracting: Images/horses/horse-124.jpg  \n",
            " extracting: Images/humans/rider-113.jpg  \n",
            " extracting: Images/horses/horse-139.jpg  \n",
            " extracting: Images/horses/horse-157.jpg  \n",
            " extracting: Images/horses/horse-197.jpg  \n",
            " extracting: Images/humans/rider-122.jpg  \n",
            " extracting: Images/humans/rider-191.jpg  \n",
            " extracting: Images/horses/horse-143.jpg  \n",
            " extracting: Images/humans/rider-180.jpg  \n",
            " extracting: Images/humans/rider-107.jpg  \n",
            " extracting: Images/humans/rider-125.jpg  \n",
            " extracting: Images/horses/horse-133.jpg  \n",
            " extracting: Images/horses/horse-155.jpg  \n",
            " extracting: Images/humans/rider-131.jpg  \n",
            " extracting: Images/horses/horse-176.jpg  \n",
            " extracting: Images/horses/horse-149.jpg  \n",
            " extracting: Images/humans/rider-115.jpg  \n",
            " extracting: Images/horses/horse-111.jpg  \n",
            " extracting: Images/horses/horse-115.jpg  \n",
            " extracting: Images/horses/horse-120.jpg  \n",
            " extracting: Images/horses/horse-129.jpg  \n",
            " extracting: Images/humans/rider-147.jpg  \n",
            " extracting: Images/horses/horse-145.jpg  \n",
            " extracting: Images/humans/rider-163.jpg  \n",
            " extracting: Images/horses/horse-161.jpg  \n",
            " extracting: Images/humans/rider-199.jpg  \n",
            " extracting: Images/horses/horse-138.jpg  \n",
            " extracting: Images/horses/horse-101.jpg  \n",
            " extracting: Images/horses/horse-100.jpg  \n",
            " extracting: Images/horses/horse-188.jpg  \n",
            " extracting: Images/horses/horse-199.jpg  \n",
            " extracting: Images/horses/horse-166.jpg  \n",
            " extracting: Images/humans/rider-187.jpg  \n",
            " extracting: Images/horses/horse-123.jpg  \n",
            " extracting: Images/humans/rider-176.jpg  \n",
            " extracting: Images/horses/horse-171.jpg  \n",
            " extracting: Images/humans/rider-169.jpg  \n",
            " extracting: Images/humans/rider-134.jpg  \n",
            " extracting: Images/horses/horse-151.jpg  \n",
            " extracting: Images/horses/horse-156.jpg  \n",
            " extracting: Images/humans/rider-166.jpg  \n",
            " extracting: Images/humans/rider-152.jpg  \n",
            " extracting: Images/humans/rider-142.jpg  \n",
            " extracting: Images/horses/horse-196.jpg  \n",
            " extracting: Images/horses/horse-160.jpg  \n",
            " extracting: Images/horses/horse-200.jpg  \n",
            " extracting: Images/horses/horse-108.jpg  \n",
            " extracting: Images/horses/horse-174.jpg  \n",
            " extracting: Images/humans/rider-186.jpg  \n",
            " extracting: Images/humans/rider-167.jpg  \n",
            " extracting: Images/horses/horse-142.jpg  \n",
            " extracting: Images/horses/horse-110.jpg  \n",
            " extracting: Images/humans/rider-128.jpg  \n",
            " extracting: Images/humans/rider-129.jpg  \n",
            " extracting: Images/horses/horse-135.jpg  \n",
            " extracting: Images/horses/horse-144.jpg  \n",
            " extracting: Images/horses/horse-201.jpg  \n",
            " extracting: Images/humans/rider-172.jpg  \n",
            " extracting: Images/humans/rider-110.jpg  \n",
            " extracting: Images/horses/horse-182.jpg  \n",
            " extracting: Images/horses/horse-153.jpg  \n",
            " extracting: Images/horses/horse-128.jpg  \n",
            " extracting: Images/humans/rider-178.jpg  \n",
            " extracting: Images/humans/rider-153.jpg  \n",
            " extracting: Images/horses/horse-122.jpg  \n",
            " extracting: Images/horses/horse-173.jpg  \n",
            " extracting: Images/humans/rider-146.jpg  \n",
            " extracting: Images/horses/horse-132.jpg  \n",
            " extracting: Images/humans/rider-123.jpg  \n",
            " extracting: Images/humans/rider-104.jpg  \n",
            " extracting: Images/humans/rider-158.jpg  \n",
            " extracting: Images/horses/horse-125.jpg  \n",
            " extracting: Images/humans/rider-121.jpg  \n",
            " extracting: Images/humans/rider-181.jpg  \n",
            " extracting: Images/horses/horse-109.jpg  \n",
            " extracting: Images/horses/horse-104.jpg  \n",
            " extracting: Images/humans/rider-164.jpg  \n",
            " extracting: Images/horses/horse-150.jpg  \n",
            " extracting: Images/humans/rider-165.jpg  \n",
            " extracting: Images/humans/rider-132.jpg  \n",
            " extracting: Images/humans/rider-143.jpg  \n",
            " extracting: Images/horses/horse-134.jpg  \n",
            " extracting: Images/humans/rider-188.jpg  \n",
            " extracting: Images/horses/horse-116.jpg  \n",
            " extracting: Images/humans/rider-173.jpg  \n",
            " extracting: Images/humans/rider-116.jpg  \n",
            " extracting: Images/humans/rider-111.jpg  \n",
            " extracting: Images/humans/rider-159.jpg  \n",
            " extracting: Images/horses/horse-117.jpg  \n",
            " extracting: Images/horses/horse-165.jpg  \n",
            " extracting: Images/humans/rider-139.jpg  \n",
            " extracting: Images/humans/rider-120.jpg  \n",
            " extracting: Images/horses/horse-141.jpg  \n",
            " extracting: Images/humans/rider-194.jpg  \n",
            " extracting: Images/horses/horse-195.jpg  \n",
            " extracting: Images/horses/horse-198.jpg  \n",
            " extracting: Images/humans/rider-160.jpg  \n",
            " extracting: Images/humans/rider-133.jpg  \n",
            " extracting: Images/humans/rider-162.jpg  \n",
            " extracting: Images/horses/horse-163.jpg  \n",
            " extracting: Images/horses/horse-183.jpg  \n",
            " extracting: Images/horses/horse-179.jpg  \n",
            " extracting: Images/humans/rider-126.jpg  \n",
            " extracting: Images/humans/rider-105.jpg  \n",
            " extracting: Images/humans/rider-189.jpg  \n",
            " extracting: Images/horses/horse-137.jpg  \n",
            " extracting: Images/humans/rider-179.jpg  \n",
            " extracting: Images/horses/horse-113.jpg  \n",
            " extracting: Images/horses/horse-175.jpg  \n",
            " extracting: Images/humans/rider-195.jpg  \n",
            " extracting: Images/horses/horse-131.jpg  \n",
            " extracting: Images/humans/rider-108.jpg  \n",
            " extracting: Images/horses/horse-194.jpg  \n",
            " extracting: Images/humans/rider-175.jpg  \n",
            " extracting: Images/humans/rider-161.jpg  \n",
            " extracting: Images/humans/rider-182.jpg  \n",
            " extracting: Images/humans/rider-117.jpg  \n",
            " extracting: Images/humans/rider-100.jpg  \n",
            " extracting: Images/humans/rider-156.jpg  \n",
            " extracting: Images/humans/rider-193.jpg  \n",
            " extracting: Images/humans/rider-138.jpg  \n",
            " extracting: Images/horses/horse-187.jpg  \n",
            " extracting: Images/horses/horse-107.jpg  \n",
            " extracting: Images/horses/horse-181.jpg  \n",
            " extracting: Images/humans/rider-200.jpg  \n",
            " extracting: Images/horses/horse-126.jpg  \n",
            " extracting: Images/horses/horse-193.jpg  \n",
            " extracting: Images/horses/horse-167.jpg  \n",
            " extracting: Images/humans/rider-145.jpg  \n",
            " extracting: Images/horses/horse-202.jpg  \n",
            " extracting: Images/humans/rider-101.jpg  \n",
            " extracting: Images/horses/horse-147.jpg  \n",
            " extracting: Images/horses/horse-164.jpg  \n",
            " extracting: Images/horses/horse-105.jpg  \n",
            " extracting: Images/humans/rider-184.jpg  \n",
            " extracting: Images/horses/horse-112.jpg  \n",
            " extracting: Images/horses/horse-169.jpg  \n",
            " extracting: Images/horses/horse-162.jpg  \n",
            " extracting: Images/humans/rider-118.jpg  \n",
            " extracting: Images/humans/rider-136.jpg  \n",
            " extracting: Images/horses/horse-172.jpg  \n",
            " extracting: Images/horses/horse-140.jpg  \n",
            " extracting: Images/horses/horse-186.jpg  \n",
            " extracting: Images/horses/horse-191.jpg  \n",
            " extracting: Images/humans/rider-112.jpg  \n",
            " extracting: Images/horses/horse-190.jpg  \n",
            " extracting: Images/horses/horse-184.jpg  \n",
            " extracting: Images/horses/horse-130.jpg  \n",
            " extracting: Images/humans/rider-150.jpg  \n",
            " extracting: Images/horses/horse-154.jpg  \n",
            " extracting: Images/humans/rider-170.jpg  \n",
            " extracting: Images/humans/rider-174.jpg  \n",
            " extracting: Images/humans/rider-127.jpg  \n",
            " extracting: Images/horses/horse-178.jpg  \n",
            "\n",
            "1 archive had fatal errors.\n"
          ],
          "name": "stdout"
        }
      ]
    },
    {
      "cell_type": "code",
      "metadata": {
        "id": "WvV016-xyACR",
        "colab_type": "code",
        "outputId": "8e76d34d-e342-4443-c048-a4ab3701b30b",
        "colab": {
          "base_uri": "https://localhost:8080/",
          "height": 52
        }
      },
      "source": [
        "!ls"
      ],
      "execution_count": 56,
      "outputs": [
        {
          "output_type": "stream",
          "text": [
            "'AABXTlPlU-1f4L_VdS4wY06ca?dl=0'   sample_data\t val_images\n",
            " Images\t\t\t\t   test_images\n"
          ],
          "name": "stdout"
        }
      ]
    },
    {
      "cell_type": "code",
      "metadata": {
        "id": "1adeOTVbyEDJ",
        "colab_type": "code",
        "colab": {}
      },
      "source": [
        "import os\n",
        "folder=os.listdir(\"Images\")"
      ],
      "execution_count": 0,
      "outputs": []
    },
    {
      "cell_type": "code",
      "metadata": {
        "id": "xFRjTlNRyH5k",
        "colab_type": "code",
        "outputId": "7ee41b4b-796b-4d7a-e739-8d32cbbca35e",
        "colab": {
          "base_uri": "https://localhost:8080/",
          "height": 87
        }
      },
      "source": [
        "for f in folder:\n",
        "  path=\"Images/\"+f\n",
        "  print(f,\": \"+str(len(os.listdir(path))))"
      ],
      "execution_count": 58,
      "outputs": [
        {
          "output_type": "stream",
          "text": [
            "cats : 202\n",
            "dogs : 202\n",
            "humans : 202\n",
            "horses : 202\n"
          ],
          "name": "stdout"
        }
      ]
    },
    {
      "cell_type": "markdown",
      "metadata": {
        "id": "69978u_CyN3-",
        "colab_type": "text"
      },
      "source": [
        "So, there is no class imbalance problem"
      ]
    },
    {
      "cell_type": "code",
      "metadata": {
        "id": "CxxmCCKYyKF5",
        "colab_type": "code",
        "outputId": "3391f749-b6d5-483e-f55d-684766fdaf71",
        "colab": {
          "base_uri": "https://localhost:8080/",
          "height": 229
        }
      },
      "source": [
        "# to show an image\n",
        "from keras.preprocessing import image\n",
        "sample_path=\"Images/horses/horse-114.jpg\"\n",
        "img=image.load_img(sample_path)\n",
        "print(type(img))\n",
        "img"
      ],
      "execution_count": 59,
      "outputs": [
        {
          "output_type": "stream",
          "text": [
            "<class 'PIL.JpegImagePlugin.JpegImageFile'>\n"
          ],
          "name": "stdout"
        },
        {
          "output_type": "execute_result",
          "data": {
            "image/png": "[encoded data removed]",
            "text/plain": [
              "<PIL.JpegImagePlugin.JpegImageFile image mode=RGB size=259x194 at 0x7F866C514940>"
            ]
          },
          "metadata": {
            "tags": []
          },
          "execution_count": 59
        }
      ]
    },
    {
      "cell_type": "code",
      "metadata": {
        "id": "I-QmKb2e1CDy",
        "colab_type": "code",
        "outputId": "1d8e64be-94d0-4402-a7fa-73d90427a98c",
        "colab": {
          "base_uri": "https://localhost:8080/",
          "height": 287
        }
      },
      "source": [
        "import matplotlib.pyplot as plt\n",
        "x=image.img_to_array(img)/255.0\n",
        "plt.imshow(x)"
      ],
      "execution_count": 60,
      "outputs": [
        {
          "output_type": "execute_result",
          "data": {
            "text/plain": [
              "<matplotlib.image.AxesImage at 0x7f866c4c3fd0>"
            ]
          },
          "metadata": {
            "tags": []
          },
          "execution_count": 60
        },
        {
          "output_type": "display_data",
          "data": {
            "image/png": "[encoded data removed]",
            "text/plain": [
              "<Figure size 432x288 with 1 Axes>"
            ]
          },
          "metadata": {
            "tags": [],
            "needs_background": "light"
          }
        }
      ]
    },
    {
      "cell_type": "code",
      "metadata": {
        "id": "xVapccFE1HvI",
        "colab_type": "code",
        "outputId": "22618dc0-bda8-4838-892e-1ff620b1b06d",
        "colab": {
          "base_uri": "https://localhost:8080/",
          "height": 537
        }
      },
      "source": [
        "# model\n",
        "from keras.layers import *\n",
        "from keras.models import Sequential\n",
        "model=Sequential()\n",
        "model.add(Conv2D(32,(3,3),activation=\"relu\",input_shape=(150,150,3)))\n",
        "model.add(MaxPool2D((2,2)))\n",
        "model.add(Conv2D(64,(3,3),activation=\"relu\",input_shape=(28,28,1)))\n",
        "model.add(MaxPool2D((2,2)))\n",
        "model.add(Conv2D(128,(3,3),activation=\"relu\",input_shape=(28,28,1)))\n",
        "model.add(MaxPool2D((2,2)))\n",
        "model.add(Conv2D(128,(3,3),activation=\"relu\",input_shape=(28,28,1)))\n",
        "model.add(MaxPool2D((2,2)))\n",
        "model.add(Flatten())\n",
        "model.add(Dense(64,activation='relu'))\n",
        "model.add(Dense(4,activation='softmax'))# no of output classes is 4\n",
        "model.summary()"
      ],
      "execution_count": 61,
      "outputs": [
        {
          "output_type": "stream",
          "text": [
            "Model: \"sequential_2\"\n",
            "_________________________________________________________________\n",
            "Layer (type)                 Output Shape              Param #   \n",
            "=================================================================\n",
            "conv2d_5 (Conv2D)            (None, 148, 148, 32)      896       \n",
            "_________________________________________________________________\n",
            "max_pooling2d_5 (MaxPooling2 (None, 74, 74, 32)        0         \n",
            "_________________________________________________________________\n",
            "conv2d_6 (Conv2D)            (None, 72, 72, 64)        18496     \n",
            "_________________________________________________________________\n",
            "max_pooling2d_6 (MaxPooling2 (None, 36, 36, 64)        0         \n",
            "_________________________________________________________________\n",
            "conv2d_7 (Conv2D)            (None, 34, 34, 128)       73856     \n",
            "_________________________________________________________________\n",
            "max_pooling2d_7 (MaxPooling2 (None, 17, 17, 128)       0         \n",
            "_________________________________________________________________\n",
            "conv2d_8 (Conv2D)            (None, 15, 15, 128)       147584    \n",
            "_________________________________________________________________\n",
            "max_pooling2d_8 (MaxPooling2 (None, 7, 7, 128)         0         \n",
            "_________________________________________________________________\n",
            "flatten_2 (Flatten)          (None, 6272)              0         \n",
            "_________________________________________________________________\n",
            "dense_3 (Dense)              (None, 64)                401472    \n",
            "_________________________________________________________________\n",
            "dense_4 (Dense)              (None, 4)                 260       \n",
            "=================================================================\n",
            "Total params: 642,564\n",
            "Trainable params: 642,564\n",
            "Non-trainable params: 0\n",
            "_________________________________________________________________\n"
          ],
          "name": "stdout"
        }
      ]
    },
    {
      "cell_type": "code",
      "metadata": {
        "id": "SpwmjxK61OIH",
        "colab_type": "code",
        "colab": {}
      },
      "source": [
        "from keras import optimizers\n",
        "adam=optimizers.adam(lr=1e-4)\n",
        "model.compile(loss='categorical_crossentropy',optimizer=adam,metrics=['acc'])"
      ],
      "execution_count": 0,
      "outputs": []
    },
    {
      "cell_type": "code",
      "metadata": {
        "id": "kOIZBqKT1QFi",
        "colab_type": "code",
        "colab": {}
      },
      "source": [
        "#model.fit()# useful when dataset is small and it can fit inside the memory"
      ],
      "execution_count": 0,
      "outputs": []
    },
    {
      "cell_type": "code",
      "metadata": {
        "id": "wST7Ftu71TNr",
        "colab_type": "code",
        "outputId": "6f5f07bf-10d3-46d5-ab01-d1bbad2c356b",
        "colab": {
          "base_uri": "https://localhost:8080/",
          "height": 52
        }
      },
      "source": [
        "import os,shutil\n",
        "folders=os.listdir('Images')\n",
        "if not os.path.isdir('val_images'):\n",
        "  os.mkdir('val_images')\n",
        "classes=['dogs','cats','horses','humans']\n",
        "!ls"
      ],
      "execution_count": 64,
      "outputs": [
        {
          "output_type": "stream",
          "text": [
            "'AABXTlPlU-1f4L_VdS4wY06ca?dl=0'   sample_data\t val_images\n",
            " Images\t\t\t\t   test_images\n"
          ],
          "name": "stdout"
        }
      ]
    },
    {
      "cell_type": "code",
      "metadata": {
        "id": "HWUUlV5X1WJ5",
        "colab_type": "code",
        "outputId": "2d5a8e7d-da9f-47f8-8969-9df41d6c21e9",
        "colab": {
          "base_uri": "https://localhost:8080/",
          "height": 87
        }
      },
      "source": [
        "\n",
        "for c in classes:\n",
        "  p=os.path.join('val_images',c)\n",
        "  print(p)\n",
        "  #os.mkdir(p)\n",
        "  if not p:\n",
        "    os.mkdir(p)\n",
        "    "
      ],
      "execution_count": 66,
      "outputs": [
        {
          "output_type": "stream",
          "text": [
            "val_images/dogs\n",
            "val_images/cats\n",
            "val_images/horses\n",
            "val_images/humans\n"
          ],
          "name": "stdout"
        }
      ]
    },
    {
      "cell_type": "code",
      "metadata": {
        "id": "_xrgXjL-1Y4x",
        "colab_type": "code",
        "outputId": "c3068125-3c05-43f6-8dbc-491dfa98f1c5",
        "colab": {
          "base_uri": "https://localhost:8080/",
          "height": 87
        }
      },
      "source": [
        "# we don't have validation set so we have to create one!\n",
        "\n",
        "SPLIT=0.9\n",
        "for f in os.listdir('Images'):\n",
        "  path='Images/'+f\n",
        "  imgs=os.listdir(path)\n",
        "  split_size=int(SPLIT*len(imgs))\n",
        "  files_to_move=imgs[split_size:]\n",
        "  print(len(files_to_move))\n",
        "  for img_f in files_to_move:\n",
        "    src=os.path.join(path,img_f)\n",
        "    dest=os.path.join('val_images/'+f,img_f)\n",
        "    shutil.move(src,dest)\n",
        "    "
      ],
      "execution_count": 67,
      "outputs": [
        {
          "output_type": "stream",
          "text": [
            "21\n",
            "21\n",
            "21\n",
            "21\n"
          ],
          "name": "stdout"
        }
      ]
    },
    {
      "cell_type": "code",
      "metadata": {
        "id": "48vXhhYs1e0M",
        "colab_type": "code",
        "outputId": "8665bee1-f2fb-4df2-9df7-2b4657217172",
        "colab": {
          "base_uri": "https://localhost:8080/",
          "height": 87
        }
      },
      "source": [
        "if not os.path.isdir('test_images'):\n",
        "  os.mkdir('test_images')\n",
        "classes=['dogs','cats','horses','humans']\n",
        "for c in classes:\n",
        "  p=os.path.join('test_images',c)\n",
        "  #os.mkdir(p)\n",
        "  if not p:\n",
        "    os.mkdir(p)\n",
        "\n",
        "SPLIT=0.8\n",
        "for f in os.listdir('Images'):\n",
        "  path='Images/'+f\n",
        "  imgs=os.listdir(path)\n",
        "  split_size=int(SPLIT*len(imgs))\n",
        "  files_to_move=imgs[split_size:]\n",
        "  print(len(files_to_move))\n",
        "  for img_f in files_to_move:\n",
        "    src=os.path.join(path,img_f)\n",
        "    dest=os.path.join('test_images/'+f,img_f)\n",
        "    shutil.move(src,dest)"
      ],
      "execution_count": 69,
      "outputs": [
        {
          "output_type": "stream",
          "text": [
            "37\n",
            "37\n",
            "37\n",
            "37\n"
          ],
          "name": "stdout"
        }
      ]
    },
    {
      "cell_type": "code",
      "metadata": {
        "id": "fn2P-lDc1x0r",
        "colab_type": "code",
        "outputId": "314d7af6-fbee-44be-f9fc-de82f0d7a0e3",
        "colab": {
          "base_uri": "https://localhost:8080/",
          "height": 52
        }
      },
      "source": [
        "from keras.preprocessing.image import ImageDataGenerator\n",
        "train_gen=ImageDataGenerator(rescale=1.0/255)# rescale the image by dividing pixle by 255\n",
        "train_generator=train_gen.flow_from_directory(\n",
        "    \"Images/\",\n",
        "    target_size=(150,150),\n",
        "    batch_size=32,\n",
        "    class_mode='categorical'\n",
        ")\n",
        "val_gen=ImageDataGenerator(rescale=1.0/255)# rescale the image by dividing pixle by 255\n",
        "val_generator=val_gen.flow_from_directory(\n",
        "    \"val_images/\",\n",
        "    target_size=(150,150),\n",
        "    batch_size=32,\n",
        "    class_mode='categorical'\n",
        ")\n"
      ],
      "execution_count": 70,
      "outputs": [
        {
          "output_type": "stream",
          "text": [
            "Found 576 images belonging to 4 classes.\n",
            "Found 84 images belonging to 4 classes.\n"
          ],
          "name": "stdout"
        }
      ]
    },
    {
      "cell_type": "code",
      "metadata": {
        "id": "gHSQ_8H515iR",
        "colab_type": "code",
        "outputId": "47476f29-a7f5-4892-b10f-43af4cee24b3",
        "colab": {
          "base_uri": "https://localhost:8080/",
          "height": 35
        }
      },
      "source": [
        "X,y=train_generator.next()[0].shape,train_generator.next()[1].shape\n",
        "X,y"
      ],
      "execution_count": 71,
      "outputs": [
        {
          "output_type": "execute_result",
          "data": {
            "text/plain": [
              "((32, 150, 150, 3), (32, 4))"
            ]
          },
          "metadata": {
            "tags": []
          },
          "execution_count": 71
        }
      ]
    },
    {
      "cell_type": "markdown",
      "metadata": {
        "id": "IyIkq2WQ2BcC",
        "colab_type": "text"
      },
      "source": [
        "- y- there are 32 tuples in 1 batch means 32 labels and classes are one hot encodoed so 4 columns\n",
        "- X- there are 32 images of size 150*150 which is RGB "
      ]
    },
    {
      "cell_type": "code",
      "metadata": {
        "id": "d2W9CpkC1-1Q",
        "colab_type": "code",
        "outputId": "52434765-983f-4bbd-995b-1a3b472bd93e",
        "colab": {
          "base_uri": "https://localhost:8080/",
          "height": 1000
        }
      },
      "source": [
        " history=model.fit_generator(\n",
        "     train_generator,\n",
        "     epochs=100,\n",
        "     steps_per_epoch= 7,\n",
        "     validation_data=val_generator,\n",
        "     validation_steps=4,\n",
        "      \n",
        "\n",
        "     \n",
        " )"
      ],
      "execution_count": 72,
      "outputs": [
        {
          "output_type": "stream",
          "text": [
            "Epoch 1/100\n",
            "7/7 [==============================] - 12s 2s/step - loss: 1.3875 - acc: 0.2277 - val_loss: 1.3818 - val_acc: 0.2586\n",
            "Epoch 2/100\n",
            "7/7 [==============================] - 11s 2s/step - loss: 1.3804 - acc: 0.2679 - val_loss: 1.3799 - val_acc: 0.2500\n",
            "Epoch 3/100\n",
            "7/7 [==============================] - 12s 2s/step - loss: 1.3897 - acc: 0.2634 - val_loss: 1.3713 - val_acc: 0.3750\n",
            "Epoch 4/100\n",
            "7/7 [==============================] - 11s 2s/step - loss: 1.3693 - acc: 0.3839 - val_loss: 1.3687 - val_acc: 0.3707\n",
            "Epoch 5/100\n",
            "7/7 [==============================] - 11s 2s/step - loss: 1.3626 - acc: 0.3839 - val_loss: 1.3539 - val_acc: 0.3793\n",
            "Epoch 6/100\n",
            "7/7 [==============================] - 12s 2s/step - loss: 1.3473 - acc: 0.2902 - val_loss: 1.3178 - val_acc: 0.2788\n",
            "Epoch 7/100\n",
            "7/7 [==============================] - 11s 2s/step - loss: 1.3393 - acc: 0.4241 - val_loss: 1.2987 - val_acc: 0.4914\n",
            "Epoch 8/100\n",
            "7/7 [==============================] - 12s 2s/step - loss: 1.3100 - acc: 0.4375 - val_loss: 1.2754 - val_acc: 0.4310\n",
            "Epoch 9/100\n",
            "7/7 [==============================] - 11s 2s/step - loss: 1.2765 - acc: 0.3839 - val_loss: 1.2804 - val_acc: 0.3846\n",
            "Epoch 10/100\n",
            "7/7 [==============================] - 11s 2s/step - loss: 1.2594 - acc: 0.4777 - val_loss: 1.2577 - val_acc: 0.3966\n",
            "Epoch 11/100\n",
            "7/7 [==============================] - 12s 2s/step - loss: 1.2414 - acc: 0.4643 - val_loss: 1.1440 - val_acc: 0.5776\n",
            "Epoch 12/100\n",
            "7/7 [==============================] - 11s 2s/step - loss: 1.1738 - acc: 0.5134 - val_loss: 1.0804 - val_acc: 0.4519\n",
            "Epoch 13/100\n",
            "7/7 [==============================] - 12s 2s/step - loss: 1.1459 - acc: 0.5536 - val_loss: 1.1882 - val_acc: 0.4741\n",
            "Epoch 14/100\n",
            "7/7 [==============================] - 11s 2s/step - loss: 1.1019 - acc: 0.5670 - val_loss: 0.9587 - val_acc: 0.5862\n",
            "Epoch 15/100\n",
            "7/7 [==============================] - 11s 2s/step - loss: 1.1025 - acc: 0.5402 - val_loss: 1.0565 - val_acc: 0.5769\n",
            "Epoch 16/100\n",
            "7/7 [==============================] - 12s 2s/step - loss: 1.0063 - acc: 0.5491 - val_loss: 0.9763 - val_acc: 0.5259\n",
            "Epoch 17/100\n",
            "7/7 [==============================] - 11s 2s/step - loss: 1.0249 - acc: 0.5625 - val_loss: 1.0154 - val_acc: 0.5603\n",
            "Epoch 18/100\n",
            "7/7 [==============================] - 11s 2s/step - loss: 1.0338 - acc: 0.5446 - val_loss: 0.8607 - val_acc: 0.5962\n",
            "Epoch 19/100\n",
            "7/7 [==============================] - 11s 2s/step - loss: 1.0016 - acc: 0.5893 - val_loss: 0.9870 - val_acc: 0.4741\n",
            "Epoch 20/100\n",
            "7/7 [==============================] - 11s 2s/step - loss: 0.9604 - acc: 0.5893 - val_loss: 0.9867 - val_acc: 0.5948\n",
            "Epoch 21/100\n",
            "7/7 [==============================] - 12s 2s/step - loss: 1.0106 - acc: 0.5982 - val_loss: 0.8709 - val_acc: 0.5000\n",
            "Epoch 22/100\n",
            "7/7 [==============================] - 11s 2s/step - loss: 0.9550 - acc: 0.5848 - val_loss: 0.8636 - val_acc: 0.5690\n",
            "Epoch 23/100\n",
            "7/7 [==============================] - 11s 2s/step - loss: 0.9580 - acc: 0.5982 - val_loss: 0.8548 - val_acc: 0.5086\n",
            "Epoch 24/100\n",
            "7/7 [==============================] - 12s 2s/step - loss: 0.9754 - acc: 0.6027 - val_loss: 1.0881 - val_acc: 0.6154\n",
            "Epoch 25/100\n",
            "7/7 [==============================] - 11s 2s/step - loss: 0.8979 - acc: 0.6250 - val_loss: 0.8085 - val_acc: 0.5690\n",
            "Epoch 26/100\n",
            "7/7 [==============================] - 12s 2s/step - loss: 0.8421 - acc: 0.6696 - val_loss: 0.9101 - val_acc: 0.5086\n",
            "Epoch 27/100\n",
            "7/7 [==============================] - 11s 2s/step - loss: 0.7592 - acc: 0.7366 - val_loss: 0.9467 - val_acc: 0.6538\n",
            "Epoch 28/100\n",
            "7/7 [==============================] - 11s 2s/step - loss: 0.8836 - acc: 0.6295 - val_loss: 0.8694 - val_acc: 0.5345\n",
            "Epoch 29/100\n",
            "7/7 [==============================] - 12s 2s/step - loss: 0.8276 - acc: 0.6875 - val_loss: 1.0333 - val_acc: 0.6121\n",
            "Epoch 30/100\n",
            "7/7 [==============================] - 11s 2s/step - loss: 0.7180 - acc: 0.7366 - val_loss: 0.8676 - val_acc: 0.5192\n",
            "Epoch 31/100\n",
            "7/7 [==============================] - 12s 2s/step - loss: 0.8717 - acc: 0.6250 - val_loss: 0.9959 - val_acc: 0.6293\n",
            "Epoch 32/100\n",
            "7/7 [==============================] - 11s 2s/step - loss: 0.8249 - acc: 0.6786 - val_loss: 0.7625 - val_acc: 0.5345\n",
            "Epoch 33/100\n",
            "7/7 [==============================] - 11s 2s/step - loss: 0.7582 - acc: 0.7098 - val_loss: 0.6619 - val_acc: 0.6442\n",
            "Epoch 34/100\n",
            "7/7 [==============================] - 12s 2s/step - loss: 0.6910 - acc: 0.7634 - val_loss: 0.6764 - val_acc: 0.5948\n",
            "Epoch 35/100\n",
            "7/7 [==============================] - 11s 2s/step - loss: 0.7072 - acc: 0.7098 - val_loss: 0.9316 - val_acc: 0.6034\n",
            "Epoch 36/100\n",
            "7/7 [==============================] - 11s 2s/step - loss: 0.7316 - acc: 0.6920 - val_loss: 1.1723 - val_acc: 0.5962\n",
            "Epoch 37/100\n",
            "7/7 [==============================] - 11s 2s/step - loss: 0.6870 - acc: 0.7188 - val_loss: 0.8267 - val_acc: 0.5862\n",
            "Epoch 38/100\n",
            "7/7 [==============================] - 11s 2s/step - loss: 0.7740 - acc: 0.6786 - val_loss: 0.9328 - val_acc: 0.5690\n",
            "Epoch 39/100\n",
            "7/7 [==============================] - 12s 2s/step - loss: 0.6177 - acc: 0.7812 - val_loss: 0.6688 - val_acc: 0.5865\n",
            "Epoch 40/100\n",
            "7/7 [==============================] - 11s 2s/step - loss: 0.6454 - acc: 0.7321 - val_loss: 0.7245 - val_acc: 0.6121\n",
            "Epoch 41/100\n",
            "7/7 [==============================] - 11s 2s/step - loss: 0.7124 - acc: 0.6920 - val_loss: 1.1730 - val_acc: 0.6121\n",
            "Epoch 42/100\n",
            "7/7 [==============================] - 12s 2s/step - loss: 0.6549 - acc: 0.7366 - val_loss: 0.8222 - val_acc: 0.5481\n",
            "Epoch 43/100\n",
            "7/7 [==============================] - 11s 2s/step - loss: 0.5986 - acc: 0.7723 - val_loss: 1.1502 - val_acc: 0.6034\n",
            "Epoch 44/100\n",
            "7/7 [==============================] - 12s 2s/step - loss: 0.5766 - acc: 0.7902 - val_loss: 0.9036 - val_acc: 0.6466\n",
            "Epoch 45/100\n",
            "7/7 [==============================] - 11s 2s/step - loss: 0.5503 - acc: 0.8036 - val_loss: 0.8929 - val_acc: 0.5865\n",
            "Epoch 46/100\n",
            "7/7 [==============================] - 11s 2s/step - loss: 0.5874 - acc: 0.7902 - val_loss: 0.7226 - val_acc: 0.6724\n",
            "Epoch 47/100\n",
            "7/7 [==============================] - 12s 2s/step - loss: 0.5394 - acc: 0.7812 - val_loss: 0.8359 - val_acc: 0.5776\n",
            "Epoch 48/100\n",
            "7/7 [==============================] - 11s 2s/step - loss: 0.5330 - acc: 0.7812 - val_loss: 0.6888 - val_acc: 0.6346\n",
            "Epoch 49/100\n",
            "7/7 [==============================] - 12s 2s/step - loss: 0.5389 - acc: 0.7946 - val_loss: 1.1019 - val_acc: 0.6034\n",
            "Epoch 50/100\n",
            "7/7 [==============================] - 11s 2s/step - loss: 0.4972 - acc: 0.8214 - val_loss: 0.8657 - val_acc: 0.6724\n",
            "Epoch 51/100\n",
            "7/7 [==============================] - 11s 2s/step - loss: 0.4826 - acc: 0.8080 - val_loss: 1.1463 - val_acc: 0.6346\n",
            "Epoch 52/100\n",
            "7/7 [==============================] - 12s 2s/step - loss: 0.5242 - acc: 0.7634 - val_loss: 1.2479 - val_acc: 0.6207\n",
            "Epoch 53/100\n",
            "7/7 [==============================] - 11s 2s/step - loss: 0.4395 - acc: 0.8393 - val_loss: 0.6139 - val_acc: 0.6724\n",
            "Epoch 54/100\n",
            "7/7 [==============================] - 11s 2s/step - loss: 0.4593 - acc: 0.8125 - val_loss: 0.9082 - val_acc: 0.6250\n",
            "Epoch 55/100\n",
            "7/7 [==============================] - 11s 2s/step - loss: 0.4014 - acc: 0.8438 - val_loss: 0.9787 - val_acc: 0.5948\n",
            "Epoch 56/100\n",
            "7/7 [==============================] - 11s 2s/step - loss: 0.4675 - acc: 0.8482 - val_loss: 0.9559 - val_acc: 0.5862\n",
            "Epoch 57/100\n",
            "7/7 [==============================] - 12s 2s/step - loss: 0.4416 - acc: 0.8616 - val_loss: 1.0079 - val_acc: 0.6154\n",
            "Epoch 58/100\n",
            "7/7 [==============================] - 11s 2s/step - loss: 0.4483 - acc: 0.8348 - val_loss: 0.9473 - val_acc: 0.6034\n",
            "Epoch 59/100\n",
            "7/7 [==============================] - 11s 2s/step - loss: 0.3734 - acc: 0.8571 - val_loss: 1.1501 - val_acc: 0.6379\n",
            "Epoch 60/100\n",
            "7/7 [==============================] - 12s 2s/step - loss: 0.4490 - acc: 0.8482 - val_loss: 0.7288 - val_acc: 0.6154\n",
            "Epoch 61/100\n",
            "7/7 [==============================] - 11s 2s/step - loss: 0.3144 - acc: 0.9241 - val_loss: 0.8562 - val_acc: 0.6552\n",
            "Epoch 62/100\n",
            "7/7 [==============================] - 12s 2s/step - loss: 0.3355 - acc: 0.9062 - val_loss: 1.0998 - val_acc: 0.6552\n",
            "Epoch 63/100\n",
            "7/7 [==============================] - 11s 2s/step - loss: 0.3341 - acc: 0.8929 - val_loss: 0.4345 - val_acc: 0.6538\n",
            "Epoch 64/100\n",
            "7/7 [==============================] - 11s 2s/step - loss: 0.3629 - acc: 0.8795 - val_loss: 1.0147 - val_acc: 0.6724\n",
            "Epoch 65/100\n",
            "7/7 [==============================] - 12s 2s/step - loss: 0.3557 - acc: 0.8795 - val_loss: 0.7495 - val_acc: 0.7328\n",
            "Epoch 66/100\n",
            "7/7 [==============================] - 11s 2s/step - loss: 0.3299 - acc: 0.8884 - val_loss: 0.6737 - val_acc: 0.5962\n",
            "Epoch 67/100\n",
            "7/7 [==============================] - 12s 2s/step - loss: 0.3654 - acc: 0.8795 - val_loss: 0.9785 - val_acc: 0.6638\n",
            "Epoch 68/100\n",
            "7/7 [==============================] - 11s 2s/step - loss: 0.2722 - acc: 0.9196 - val_loss: 0.8416 - val_acc: 0.6983\n",
            "Epoch 69/100\n",
            "7/7 [==============================] - 11s 2s/step - loss: 0.2844 - acc: 0.9375 - val_loss: 0.7922 - val_acc: 0.7019\n",
            "Epoch 70/100\n",
            "7/7 [==============================] - 12s 2s/step - loss: 0.2873 - acc: 0.8973 - val_loss: 0.7004 - val_acc: 0.7155\n",
            "Epoch 71/100\n",
            "7/7 [==============================] - 11s 2s/step - loss: 0.2846 - acc: 0.9018 - val_loss: 1.0919 - val_acc: 0.6638\n",
            "Epoch 72/100\n",
            "7/7 [==============================] - 12s 2s/step - loss: 0.2680 - acc: 0.9152 - val_loss: 0.8644 - val_acc: 0.7019\n",
            "Epoch 73/100\n",
            "7/7 [==============================] - 11s 2s/step - loss: 0.2320 - acc: 0.9509 - val_loss: 0.6524 - val_acc: 0.7069\n",
            "Epoch 74/100\n",
            "7/7 [==============================] - 11s 2s/step - loss: 0.2432 - acc: 0.9420 - val_loss: 0.9716 - val_acc: 0.6897\n",
            "Epoch 75/100\n",
            "7/7 [==============================] - 12s 2s/step - loss: 0.2317 - acc: 0.9464 - val_loss: 1.5577 - val_acc: 0.6538\n",
            "Epoch 76/100\n",
            "7/7 [==============================] - 11s 2s/step - loss: 0.2324 - acc: 0.9464 - val_loss: 1.2864 - val_acc: 0.6638\n",
            "Epoch 77/100\n",
            "7/7 [==============================] - 11s 2s/step - loss: 0.2744 - acc: 0.8973 - val_loss: 0.9384 - val_acc: 0.7069\n",
            "Epoch 78/100\n",
            "7/7 [==============================] - 12s 2s/step - loss: 0.2465 - acc: 0.9330 - val_loss: 0.7722 - val_acc: 0.6538\n",
            "Epoch 79/100\n",
            "7/7 [==============================] - 11s 2s/step - loss: 0.2538 - acc: 0.8973 - val_loss: 1.2602 - val_acc: 0.6207\n",
            "Epoch 80/100\n",
            "7/7 [==============================] - 12s 2s/step - loss: 0.2573 - acc: 0.9286 - val_loss: 0.8240 - val_acc: 0.6897\n",
            "Epoch 81/100\n",
            "7/7 [==============================] - 11s 2s/step - loss: 0.1817 - acc: 0.9732 - val_loss: 0.4670 - val_acc: 0.6827\n",
            "Epoch 82/100\n",
            "7/7 [==============================] - 11s 2s/step - loss: 0.2116 - acc: 0.9509 - val_loss: 1.0638 - val_acc: 0.6724\n",
            "Epoch 83/100\n",
            "7/7 [==============================] - 12s 2s/step - loss: 0.1800 - acc: 0.9509 - val_loss: 0.6934 - val_acc: 0.7069\n",
            "Epoch 84/100\n",
            "7/7 [==============================] - 11s 2s/step - loss: 0.1709 - acc: 0.9598 - val_loss: 1.4109 - val_acc: 0.6538\n",
            "Epoch 85/100\n",
            "7/7 [==============================] - 12s 2s/step - loss: 0.1900 - acc: 0.9688 - val_loss: 1.1632 - val_acc: 0.6810\n",
            "Epoch 86/100\n",
            "7/7 [==============================] - 11s 2s/step - loss: 0.1337 - acc: 0.9866 - val_loss: 1.4186 - val_acc: 0.6552\n",
            "Epoch 87/100\n",
            "7/7 [==============================] - 11s 2s/step - loss: 0.1861 - acc: 0.9330 - val_loss: 0.6021 - val_acc: 0.6538\n",
            "Epoch 88/100\n",
            "7/7 [==============================] - 12s 2s/step - loss: 0.1943 - acc: 0.9330 - val_loss: 0.9592 - val_acc: 0.7155\n",
            "Epoch 89/100\n",
            "7/7 [==============================] - 11s 2s/step - loss: 0.1546 - acc: 0.9554 - val_loss: 1.4957 - val_acc: 0.6552\n",
            "Epoch 90/100\n",
            "7/7 [==============================] - 11s 2s/step - loss: 0.1632 - acc: 0.9643 - val_loss: 0.7334 - val_acc: 0.6538\n",
            "Epoch 91/100\n",
            "7/7 [==============================] - 11s 2s/step - loss: 0.1188 - acc: 0.9911 - val_loss: 1.0479 - val_acc: 0.6810\n",
            "Epoch 92/100\n",
            "7/7 [==============================] - 15s 2s/step - loss: 0.1214 - acc: 0.9732 - val_loss: 0.9248 - val_acc: 0.6810\n",
            "Epoch 93/100\n",
            "7/7 [==============================] - 12s 2s/step - loss: 0.1271 - acc: 0.9866 - val_loss: 1.3973 - val_acc: 0.6538\n",
            "Epoch 94/100\n",
            "7/7 [==============================] - 11s 2s/step - loss: 0.1097 - acc: 0.9911 - val_loss: 0.8712 - val_acc: 0.6638\n",
            "Epoch 95/100\n",
            "7/7 [==============================] - 11s 2s/step - loss: 0.1094 - acc: 0.9821 - val_loss: 0.9674 - val_acc: 0.7069\n",
            "Epoch 96/100\n",
            "7/7 [==============================] - 12s 2s/step - loss: 0.0895 - acc: 1.0000 - val_loss: 1.1036 - val_acc: 0.6442\n",
            "Epoch 97/100\n",
            "7/7 [==============================] - 11s 2s/step - loss: 0.0966 - acc: 0.9866 - val_loss: 0.8638 - val_acc: 0.6724\n",
            "Epoch 98/100\n",
            "7/7 [==============================] - 12s 2s/step - loss: 0.0975 - acc: 0.9866 - val_loss: 1.0648 - val_acc: 0.6897\n",
            "Epoch 99/100\n",
            "7/7 [==============================] - 11s 2s/step - loss: 0.0902 - acc: 0.9911 - val_loss: 1.2959 - val_acc: 0.6538\n",
            "Epoch 100/100\n",
            "7/7 [==============================] - 11s 2s/step - loss: 0.1072 - acc: 0.9866 - val_loss: 1.5455 - val_acc: 0.6466\n"
          ],
          "name": "stdout"
        }
      ]
    },
    {
      "cell_type": "code",
      "metadata": {
        "id": "LJgOX5M-3VeX",
        "colab_type": "code",
        "colab": {}
      },
      "source": [
        "acc=history.history['acc']\n",
        "val_acc=history.history['val_acc']\n",
        "loss=history.history['loss']\n",
        "val_loss=history.history['val_loss']"
      ],
      "execution_count": 0,
      "outputs": []
    },
    {
      "cell_type": "code",
      "metadata": {
        "id": "1d7GjYrC3WBj",
        "colab_type": "code",
        "outputId": "67645d89-7f0d-4165-fb54-b7cdab43831f",
        "colab": {
          "base_uri": "https://localhost:8080/",
          "height": 265
        }
      },
      "source": [
        "plt.plot(acc,label='acc')\n",
        "plt.plot(val_acc,label='val_acc')\n",
        "plt.legend()\n",
        "plt.show()"
      ],
      "execution_count": 74,
      "outputs": [
        {
          "output_type": "display_data",
          "data": {
            "image/png": "[encoded data removed]",
            "text/plain": [
              "<Figure size 432x288 with 1 Axes>"
            ]
          },
          "metadata": {
            "tags": [],
            "needs_background": "light"
          }
        }
      ]
    },
    {
      "cell_type": "code",
      "metadata": {
        "id": "wtF1Ysm73XwP",
        "colab_type": "code",
        "outputId": "29426520-10b0-4d5d-beaa-4617532790c8",
        "colab": {
          "base_uri": "https://localhost:8080/",
          "height": 265
        }
      },
      "source": [
        "plt.plot(loss,label='loss')\n",
        "plt.plot(val_loss,label='val_loss')\n",
        "plt.legend()\n",
        "plt.show()"
      ],
      "execution_count": 0,
      "outputs": [
        {
          "output_type": "display_data",
          "data": {
            "image/png": "[encoded data removed]",
            "text/plain": [
              "<Figure size 432x288 with 1 Axes>"
            ]
          },
          "metadata": {
            "tags": [],
            "needs_background": "light"
          }
        }
      ]
    },
    {
      "cell_type": "code",
      "metadata": {
        "id": "1GLUfFwc-EMX",
        "colab_type": "code",
        "outputId": "cf081491-b208-4653-ef13-042c89f13640",
        "colab": {
          "base_uri": "https://localhost:8080/",
          "height": 35
        }
      },
      "source": [
        "test_gen=ImageDataGenerator(rescale=1.0/255)# rescale the image by dividing pixle by 255\n",
        "test_generator=test_gen.flow_from_directory(\n",
        "    \"test_images/\",\n",
        "    target_size=(150,150),\n",
        "    \n",
        "    class_mode='categorical'\n",
        ")"
      ],
      "execution_count": 75,
      "outputs": [
        {
          "output_type": "stream",
          "text": [
            "Found 148 images belonging to 4 classes.\n"
          ],
          "name": "stdout"
        }
      ]
    },
    {
      "cell_type": "code",
      "metadata": {
        "id": "uc2SvzBt3Zd0",
        "colab_type": "code",
        "colab": {}
      },
      "source": [
        "filenames = test_generator.filenames\n",
        "nb_samples = len(filenames)\n",
        "\n",
        "predict = model.predict_generator(test_generator)"
      ],
      "execution_count": 0,
      "outputs": []
    },
    {
      "cell_type": "code",
      "metadata": {
        "id": "hTQ4HHrR5tFT",
        "colab_type": "code",
        "colab": {}
      },
      "source": [
        "import numpy as np\n",
        "\n",
        "predicted_classes=np.argmax(np.round(predict),axis=1)"
      ],
      "execution_count": 0,
      "outputs": []
    },
    {
      "cell_type": "code",
      "metadata": {
        "id": "5bu17A4J75OB",
        "colab_type": "code",
        "colab": {}
      },
      "source": [
        "\n",
        "test_generator.filenames?"
      ],
      "execution_count": 0,
      "outputs": []
    },
    {
      "cell_type": "code",
      "metadata": {
        "id": "89k-K0sv51-e",
        "colab_type": "code",
        "outputId": "5adaac1a-2e5a-4925-f4a8-ee08a289b44b",
        "colab": {
          "base_uri": "https://localhost:8080/",
          "height": 35
        }
      },
      "source": [
        "test_generator.labels.shape"
      ],
      "execution_count": 79,
      "outputs": [
        {
          "output_type": "execute_result",
          "data": {
            "text/plain": [
              "(148,)"
            ]
          },
          "metadata": {
            "tags": []
          },
          "execution_count": 79
        }
      ]
    },
    {
      "cell_type": "code",
      "metadata": {
        "id": "Pg0gv_Nt65C4",
        "colab_type": "code",
        "outputId": "c37d8286-57c8-49b2-84cd-e831a5c6a066",
        "colab": {
          "base_uri": "https://localhost:8080/",
          "height": 35
        }
      },
      "source": [
        "predicted_classes.shape"
      ],
      "execution_count": 80,
      "outputs": [
        {
          "output_type": "execute_result",
          "data": {
            "text/plain": [
              "(148,)"
            ]
          },
          "metadata": {
            "tags": []
          },
          "execution_count": 80
        }
      ]
    },
    {
      "cell_type": "code",
      "metadata": {
        "id": "lFdnyvLn7Ky1",
        "colab_type": "code",
        "outputId": "3d1e8d7c-6343-4a1c-986c-92299e4c8d6d",
        "colab": {
          "base_uri": "https://localhost:8080/",
          "height": 208
        }
      },
      "source": [
        "from sklearn.metrics import classification_report\n",
        "target_names = [\"Class {}\".format(i) for i in range(4)]\n",
        "print(classification_report(test_generator.labels, predicted_classes, target_names=target_names))"
      ],
      "execution_count": 81,
      "outputs": [
        {
          "output_type": "stream",
          "text": [
            "              precision    recall  f1-score   support\n",
            "\n",
            "     Class 0       0.26      0.30      0.28        37\n",
            "     Class 1       0.33      0.24      0.28        37\n",
            "     Class 2       0.21      0.22      0.21        37\n",
            "     Class 3       0.27      0.30      0.28        37\n",
            "\n",
            "    accuracy                           0.26       148\n",
            "   macro avg       0.27      0.26      0.26       148\n",
            "weighted avg       0.27      0.26      0.26       148\n",
            "\n"
          ],
          "name": "stdout"
        }
      ]
    },
    {
      "cell_type": "code",
      "metadata": {
        "id": "zPvQm1od8mU7",
        "colab_type": "code",
        "outputId": "392c051d-08c6-4fc7-817c-a48d64b29a71",
        "colab": {
          "base_uri": "https://localhost:8080/",
          "height": 139
        }
      },
      "source": [
        "predicted_classes.view()"
      ],
      "execution_count": 82,
      "outputs": [
        {
          "output_type": "execute_result",
          "data": {
            "text/plain": [
              "array([1, 3, 2, 0, 3, 0, 0, 3, 2, 0, 3, 2, 2, 2, 0, 2, 0, 2, 2, 2, 1, 1,\n",
              "       3, 3, 0, 0, 0, 3, 0, 3, 0, 3, 3, 1, 2, 3, 1, 2, 3, 1, 3, 0, 2, 1,\n",
              "       1, 0, 2, 1, 3, 2, 3, 2, 0, 3, 2, 3, 0, 3, 1, 0, 1, 3, 3, 2, 3, 0,\n",
              "       1, 1, 1, 0, 2, 2, 3, 2, 0, 0, 2, 1, 3, 2, 1, 0, 0, 0, 0, 2, 1, 0,\n",
              "       1, 1, 0, 1, 1, 2, 3, 3, 3, 0, 0, 3, 0, 2, 0, 0, 2, 3, 0, 2, 3, 3,\n",
              "       2, 3, 1, 2, 2, 0, 2, 0, 0, 0, 3, 1, 0, 3, 3, 2, 3, 1, 0, 0, 3, 2,\n",
              "       2, 0, 3, 1, 1, 2, 0, 3, 3, 3, 2, 2, 1, 2, 0, 3])"
            ]
          },
          "metadata": {
            "tags": []
          },
          "execution_count": 82
        }
      ]
    },
    {
      "cell_type": "code",
      "metadata": {
        "id": "FljkxnOB81X6",
        "colab_type": "code",
        "outputId": "6d08951a-f4c4-4890-cfdf-8d20b809ce1c",
        "colab": {
          "base_uri": "https://localhost:8080/",
          "height": 139
        }
      },
      "source": [
        "test_generator.labels"
      ],
      "execution_count": 83,
      "outputs": [
        {
          "output_type": "execute_result",
          "data": {
            "text/plain": [
              "array([0, 0, 0, 0, 0, 0, 0, 0, 0, 0, 0, 0, 0, 0, 0, 0, 0, 0, 0, 0, 0, 0,\n",
              "       0, 0, 0, 0, 0, 0, 0, 0, 0, 0, 0, 0, 0, 0, 0, 1, 1, 1, 1, 1, 1, 1,\n",
              "       1, 1, 1, 1, 1, 1, 1, 1, 1, 1, 1, 1, 1, 1, 1, 1, 1, 1, 1, 1, 1, 1,\n",
              "       1, 1, 1, 1, 1, 1, 1, 1, 2, 2, 2, 2, 2, 2, 2, 2, 2, 2, 2, 2, 2, 2,\n",
              "       2, 2, 2, 2, 2, 2, 2, 2, 2, 2, 2, 2, 2, 2, 2, 2, 2, 2, 2, 2, 2, 2,\n",
              "       2, 3, 3, 3, 3, 3, 3, 3, 3, 3, 3, 3, 3, 3, 3, 3, 3, 3, 3, 3, 3, 3,\n",
              "       3, 3, 3, 3, 3, 3, 3, 3, 3, 3, 3, 3, 3, 3, 3, 3], dtype=int32)"
            ]
          },
          "metadata": {
            "tags": []
          },
          "execution_count": 83
        }
      ]
    },
    {
      "cell_type": "code",
      "metadata": {
        "id": "48l8V25Q9HH5",
        "colab_type": "code",
        "colab": {}
      },
      "source": [
        ""
      ],
      "execution_count": 0,
      "outputs": []
    }
  ]
}