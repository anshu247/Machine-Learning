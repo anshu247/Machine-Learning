{
 "cells": [
  {
   "cell_type": "code",
   "execution_count": 1,
   "metadata": {},
   "outputs": [],
   "source": [
    "from urllib.request import urlopen"
   ]
  },
  {
   "cell_type": "code",
   "execution_count": 19,
   "metadata": {},
   "outputs": [],
   "source": [
    "url=\"https://delhi.manipalhospitals.com/our-doctors\""
   ]
  },
  {
   "cell_type": "code",
   "execution_count": 60,
   "metadata": {},
   "outputs": [],
   "source": [
    "import bs4"
   ]
  },
  {
   "cell_type": "code",
   "execution_count": 61,
   "metadata": {},
   "outputs": [],
   "source": [
    "data=urlopen(url)"
   ]
  },
  {
   "cell_type": "code",
   "execution_count": 62,
   "metadata": {},
   "outputs": [],
   "source": [
    "html=data.read()"
   ]
  },
  {
   "cell_type": "code",
   "execution_count": 63,
   "metadata": {},
   "outputs": [],
   "source": [
    "from bs4 import BeautifulSoup as soup"
   ]
  },
  {
   "cell_type": "code",
   "execution_count": 64,
   "metadata": {},
   "outputs": [],
   "source": [
    "soup=soup(html,\"html.parser\")"
   ]
  },
  {
   "cell_type": "code",
   "execution_count": 67,
   "metadata": {},
   "outputs": [
    {
     "data": {
      "text/plain": [
       "[]"
      ]
     },
     "execution_count": 67,
     "metadata": {},
     "output_type": "execute_result"
    }
   ],
   "source": [
    "soup.findAll('div', attrs={'class':\"row\",'id':'doctors-listing'})"
   ]
  },
  {
   "cell_type": "code",
   "execution_count": 55,
   "metadata": {},
   "outputs": [
    {
     "ename": "AttributeError",
     "evalue": "ResultSet object has no attribute 'find'. You're probably treating a list of items like a single item. Did you call find_all() when you meant to call find()?",
     "output_type": "error",
     "traceback": [
      "\u001b[1;31m---------------------------------------------------------------------------\u001b[0m",
      "\u001b[1;31mAttributeError\u001b[0m                            Traceback (most recent call last)",
      "\u001b[1;32m<ipython-input-55-79b1d2ce0afa>\u001b[0m in \u001b[0;36m<module>\u001b[1;34m\u001b[0m\n\u001b[1;32m----> 1\u001b[1;33m \u001b[0msoup\u001b[0m\u001b[1;33m.\u001b[0m\u001b[0mfind\u001b[0m\u001b[1;33m(\u001b[0m\u001b[1;34m'div'\u001b[0m\u001b[1;33m,\u001b[0m\u001b[1;33m{\u001b[0m\u001b[1;34m\"class\"\u001b[0m\u001b[1;33m:\u001b[0m\u001b[1;34m\"row\"\u001b[0m\u001b[1;33m,\u001b[0m\u001b[1;34m'id'\u001b[0m\u001b[1;33m:\u001b[0m\u001b[1;34m\"doc_listing\"\u001b[0m \u001b[1;33m}\u001b[0m\u001b[1;33m)\u001b[0m\u001b[1;33m\u001b[0m\u001b[1;33m\u001b[0m\u001b[0m\n\u001b[0m",
      "\u001b[1;32m~\\Anaconda3\\lib\\site-packages\\bs4\\element.py\u001b[0m in \u001b[0;36m__getattr__\u001b[1;34m(self, key)\u001b[0m\n\u001b[0;32m   1576\u001b[0m     \u001b[1;32mdef\u001b[0m \u001b[0m__getattr__\u001b[0m\u001b[1;33m(\u001b[0m\u001b[0mself\u001b[0m\u001b[1;33m,\u001b[0m \u001b[0mkey\u001b[0m\u001b[1;33m)\u001b[0m\u001b[1;33m:\u001b[0m\u001b[1;33m\u001b[0m\u001b[1;33m\u001b[0m\u001b[0m\n\u001b[0;32m   1577\u001b[0m         raise AttributeError(\n\u001b[1;32m-> 1578\u001b[1;33m             \u001b[1;34m\"ResultSet object has no attribute '%s'. You're probably treating a list of items like a single item. Did you call find_all() when you meant to call find()?\"\u001b[0m \u001b[1;33m%\u001b[0m \u001b[0mkey\u001b[0m\u001b[1;33m\u001b[0m\u001b[1;33m\u001b[0m\u001b[0m\n\u001b[0m\u001b[0;32m   1579\u001b[0m         )\n",
      "\u001b[1;31mAttributeError\u001b[0m: ResultSet object has no attribute 'find'. You're probably treating a list of items like a single item. Did you call find_all() when you meant to call find()?"
     ]
    }
   ],
   "source": [
    "soup.find('div',{\"class\":\"row\",'id':\"doc_listing\" })"
   ]
  },
  {
   "cell_type": "code",
   "execution_count": 36,
   "metadata": {},
   "outputs": [
    {
     "data": {
      "text/plain": [
       "2"
      ]
     },
     "execution_count": 36,
     "metadata": {},
     "output_type": "execute_result"
    }
   ],
   "source": [
    "len(soup)"
   ]
  },
  {
   "cell_type": "code",
   "execution_count": null,
   "metadata": {},
   "outputs": [],
   "source": [
    "<div data-qa-id=\"reach_doctor_card\" class=\"u-cushion u-white-fill u-normal-text o-card o-card--separated c-list-card\"><span></span><div class=\"c-card\"><div class=\"pure-g c-card__body u-spacer--bottom-less\"><div class=\"pure-u-18-24\"><div class=\"o-media\"><div class=\"o-media__object img-thumbnail\"><div class=\"u-spacer--right c-card__left c-card-reach__photo \"><div><div class=\"LazyLoad is-visible\" style=\"height: 100px; width: 100px;\"><img src=\"https://images1-fabric.practo.com/practices/693424/dr-monga-clinic-delhi-59648915a622c.png/thumbnail\" alt=\"Dr. Monga Clinic\" data-qa-id=\"reach_doctor_profile_photo\" srcset=\"https://images1-fabric.practo.com/practices/693424/dr-monga-clinic-delhi-59648915a622c.png/thumbnail\"></div></div></div></div><div class=\"o-media__body u-cushion--right\"><div class=\"c-card-info\"><a href=\"/delhi/clinic/dr-monga-clinic-new-delhi-lajpat-nagar?subscription_id=206259293&amp;reach_subscription_id=206259293&amp;specialization=General Physician&amp;ad_id=535989195765263&amp;show_all=true\" class=\"u-color--primary\"><h2 data-qa-id=\"clinic_name\" class=\"u-title-font u-c-pointer u-bold\">Dr. Monga Clinic</h2></a><a href=\"/delhi/clinic/dr-monga-clinic-new-delhi-lajpat-nagar/doctors?subscription_id=206259293&amp;reach_subscription_id=206259293&amp;specialization=General Physician&amp;ad_id=535989195765263&amp;show_all=true\" data-qa-id=\"doc_speciality_count\" class=\"u-d-inlineblock c-card-info__item u-t-ellipsis\"><h3 class=\"u-d-inline\">1 General Physician</h3></a><div><div class=\"u-d-inlineblock u-c-pointer\"><div class=\"u-d-inlineblock u-spacer--top-thin\"><div class=\"u-d-inlineblock u-spacer--right-thin\"><div class=\"LazyLoad is-visible\" style=\"height: 32px; width: 32px;\"><img src=\"https://images1-fabric.practo.com/dr-monga-clinic-delhi-1472448982-57c3c9d65410a.jpg/microthumbnail\" class=\"u-round-corner u-img-thumbnail\" data-qa-id=\"clinic_photo\" srcset=\"https://images1-fabric.practo.com/dr-monga-clinic-delhi-1472448982-57c3c9d65410a.jpg/microthumbnail\"></div></div></div><div class=\"u-d-inlineblock u-spacer--top-thin\"><div class=\"u-d-inlineblock u-spacer--right-thin\"><div class=\"LazyLoad is-visible\" style=\"height: 32px; width: 32px;\"><img src=\"https://images1-fabric.practo.com/dr-monga-clinic-delhi-1472448982-57c3c9d6aacd7.jpg/microthumbnail\" class=\"u-round-corner u-img-thumbnail\" data-qa-id=\"clinic_photo\" srcset=\"https://images1-fabric.practo.com/dr-monga-clinic-delhi-1472448982-57c3c9d6aacd7.jpg/microthumbnail\"></div></div></div><div class=\"u-d-inlineblock u-spacer--top-thin\"><div class=\"u-d-inlineblock u-spacer--right-thin\"><div class=\"LazyLoad is-visible\" style=\"height: 32px; width: 32px;\"><img src=\"https://images1-fabric.practo.com/dr-monga-clinic-delhi-1472448982-57c3c9d6e5af8.jpg/microthumbnail\" class=\"u-round-corner u-img-thumbnail\" data-qa-id=\"clinic_photo\" srcset=\"https://images1-fabric.practo.com/dr-monga-clinic-delhi-1472448982-57c3c9d6e5af8.jpg/microthumbnail\"></div></div></div><div class=\"u-d-inlineblock u-spacer--top-thin\"><div class=\"u-d-inlineblock u-spacer--right-thin\"><div class=\"LazyLoad is-visible\" style=\"height: 32px; width: 32px;\"><img src=\"https://images1-fabric.practo.com/dr-monga-clinic-delhi-1472448983-57c3c9d74cd17.jpg/microthumbnail\" class=\"u-round-corner u-img-thumbnail\" data-qa-id=\"clinic_photo\" srcset=\"https://images1-fabric.practo.com/dr-monga-clinic-delhi-1472448983-57c3c9d74cd17.jpg/microthumbnail\"></div></div></div><!-- react-empty: 1986 --></div></div></div><div class=\"c-card-info\"><div data-qa-id=\"services_list\" class=\"u-cushion--top-less \"><div class=\"pure-u-1-2 c-grid-list c-grid-list--left\"><div><span class=\"o-label--default c-grid-list__item u-t-ellipsis\" data-qa-id=\"grid_item_name\"><h3 class=\"u-d-inline\">Piles Treatment (Non Surgical)</h3></span></div></div><div class=\"pure-u-1-2 c-grid-list c-grid-list--right\"><div><span class=\"o-label--default c-grid-list__item u-t-ellipsis\" data-qa-id=\"grid_item_name\"><h3 class=\"u-d-inline\">Arthritis Management</h3></span></div></div><div class=\"pure-u-1-2 c-grid-list c-grid-list--left\"><div><span class=\"o-label--default c-grid-list__item u-t-ellipsis\" data-qa-id=\"grid_item_name\"><h3 class=\"u-d-inline\">Weight Loss Diet Counseling</h3></span></div></div><div class=\"pure-u-1-2 c-grid-list c-grid-list--right\"><a data-qa-id=\"view_all_link\" href=\"/delhi/clinic/dr-monga-clinic-new-delhi-lajpat-nagar/services?subscription_id=206259293&amp;reach_subscription_id=206259293&amp;specialization=General Physician&amp;ad_id=535989195765263&amp;show_all=true\" class=\"u-smallest-font u-c-pointer\"><span>View all</span><!-- react-text: 2004 --> <!-- /react-text --><!-- react-text: 2005 -->50<!-- /react-text --><!-- react-text: 2006 --> <!-- /react-text --><span>services</span></a></div></div><!-- react-empty: 2008 --></div></div></div></div><div class=\"pure-u-6-24\"><div class=\"c-card-info\"><div class=\"u-spacer--bottom-less\"><span><i data-qa-id=\"like_icon\" class=\"icon-ic_like c-card__icon\"></i><span data-qa-id=\"doctor_recommendation\" class=\"u-color--green u-bold\"><!-- react-text: 2015 -->84<!-- /react-text --><!-- react-text: 2016 -->% <!-- /react-text --></span></span></div><div class=\"u-spacer--bottom-less\"><i data-qa-id=\"feedback_icon\" class=\"icon-ic_message c-card__icon\"></i><a href=\"/delhi/clinic/dr-monga-clinic-new-delhi-lajpat-nagar/doctors?subscription_id=206259293&amp;reach_subscription_id=206259293&amp;specialization=General Physician&amp;ad_id=535989195765263&amp;show_all=true\" data-qa-id=\"total_feedback\"><!-- react-text: 2020 -->662<!-- /react-text --><!-- react-text: 2021 --> <!-- /react-text --><span>Feedback</span></a></div><div class=\"c-card__locality u-spacer--bottom-less\"><i data-qa-id=\"locality_icon\" class=\"icon icon-ic_location_system c-card__icon\"></i><a href=\"/delhi/clinic/dr-monga-clinic-new-delhi-lajpat-nagar?subscription_id=206259293&amp;reach_subscription_id=206259293&amp;specialization=General Physician&amp;ad_id=535989195765263&amp;show_all=true\"><span data-qa-id=\"practice_locality\">Lajpat Nagar</span><span class=\"u-t-capitalize\" data-qa-id=\"practice_city\"><!-- react-text: 2028 -->, <!-- /react-text --><!-- react-text: 2029 -->Delhi<!-- /react-text --></span></a></div><div class=\"u-spacer--bottom-less\"><i data-qa-id=\"fee_icon\" class=\"icon-ic_currency c-card__icon\"></i><span data-qa-id=\"consultation_fee\"><!-- react-text: 2033 -->₹<!-- /react-text --><!-- react-text: 2034 --> <!-- /react-text --><span>500</span></span><div data-qa-id=\"fee-disclaimer\" class=\"u-valign--small u-d-inlineblock u-spacer--left-thin\"><i class=\"icon-ic_info u-large-font\" data-for=\"React-tooltip\" data-tip=\"React-tooltip\" currentitem=\"false\"></i><div class=\"__react_component_tooltip place-top type-dark \" data-id=\"tooltip\"></div></div></div><div class=\"u-spacer--bottom-less\"><i data-qa-id=\"time_icon\" class=\"icon icon-ic_time c-card__icon\"></i><span class=\"u-d-inlineblock u-valign--top u-w-85\"><span class=\"u-d-inlineblock u-valign--top\"><span><span class=\"\"><span data-qa-id=\"doctor_visit_days\" class=\"u-d-block u-bold\"><span><!-- react-text: 2047 --><!-- /react-text --><span><span>Mon</span><span>-</span><span>Sun</span></span></span></span><span data-qa-id=\"doctor_visit_timings\" class=\"u-d-block\"><span class=\"u-smallest-font\"><!-- react-text: 2054 --><!-- /react-text --><span>09:30 AM</span><span>-</span><span>08:30 PM</span></span></span></span></span></span></span></div></div></div></div><div class=\"pure-g u-cushion--top-less\"><div class=\"o-media\"><div class=\"o-media--middle pure-u-6-24\"><div class=\"o-media__body\"><div data-qa-id=\"footer_left_section\" class=\"c-card-info-section\"><span data-qa-id=\"sponsored\" class=\"u-subtext c-card-reach--plus__sponsored\"><span>SPONSORED</span></span></div></div></div><div class=\"o-media__object o-media--middle pure-u-18-24\"><div data-qa-id=\"footer_right_section\" class=\"u-t-right c-card-info-section\"><div class=\"pure-g\"><div class=\"pure-u-1 u-t-right\"><!-- react-empty: 2069 --><button class=\"u-t-capitalize u-bold c-btn--dark-medium\" data-qa-id=\"call_button\"><i class=\"u-title-font icon-ic_call_filled u-valign--middle\"></i><span class=\"u-valign--middle\"><span>Call Now</span></span></button></div></div></div></div></div></div><div class=\"pure-g c-list-card__cta-block\"><div class=\"pure-u-1-1\"><!-- react-empty: 2076 --></div></div></div></div>"
   ]
  }
 ],
 "metadata": {
  "kernelspec": {
   "display_name": "Python 3",
   "language": "python",
   "name": "python3"
  },
  "language_info": {
   "codemirror_mode": {
    "name": "ipython",
    "version": 3
   },
   "file_extension": ".py",
   "mimetype": "text/x-python",
   "name": "python",
   "nbconvert_exporter": "python",
   "pygments_lexer": "ipython3",
   "version": "3.7.4"
  }
 },
 "nbformat": 4,
 "nbformat_minor": 2
}
